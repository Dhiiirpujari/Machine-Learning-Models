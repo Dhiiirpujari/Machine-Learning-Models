{
 "cells": [
  {
   "cell_type": "code",
   "execution_count": 1,
   "id": "48fd18bf",
   "metadata": {},
   "outputs": [],
   "source": [
    "import pandas as pd\n",
    "import numpy as np\n",
    "\n",
    "from sklearn.tree import DecisionTreeClassifier, plot_tree\n",
    "from sklearn.metrics import classification_report, confusion_matrix, accuracy_score\n",
    "from sklearn.model_selection import train_test_split, RandomizedSearchCV, GridSearchCV\n",
    "\n",
    "import matplotlib.pyplot as plt\n",
    "import seaborn as sns"
   ]
  },
  {
   "cell_type": "code",
   "execution_count": 2,
   "id": "2f63d144",
   "metadata": {},
   "outputs": [
    {
     "data": {
      "text/html": [
       "<div>\n",
       "<style scoped>\n",
       "    .dataframe tbody tr th:only-of-type {\n",
       "        vertical-align: middle;\n",
       "    }\n",
       "\n",
       "    .dataframe tbody tr th {\n",
       "        vertical-align: top;\n",
       "    }\n",
       "\n",
       "    .dataframe thead th {\n",
       "        text-align: right;\n",
       "    }\n",
       "</style>\n",
       "<table border=\"1\" class=\"dataframe\">\n",
       "  <thead>\n",
       "    <tr style=\"text-align: right;\">\n",
       "      <th></th>\n",
       "      <th>gender</th>\n",
       "      <th>age</th>\n",
       "      <th>hypertension</th>\n",
       "      <th>heart_disease</th>\n",
       "      <th>ever_married</th>\n",
       "      <th>work_type</th>\n",
       "      <th>Residence_type</th>\n",
       "      <th>avg_glucose_level</th>\n",
       "      <th>bmi</th>\n",
       "      <th>smoking_status</th>\n",
       "      <th>stroke</th>\n",
       "    </tr>\n",
       "  </thead>\n",
       "  <tbody>\n",
       "    <tr>\n",
       "      <th>0</th>\n",
       "      <td>Male</td>\n",
       "      <td>67.0</td>\n",
       "      <td>0</td>\n",
       "      <td>1</td>\n",
       "      <td>Yes</td>\n",
       "      <td>Private</td>\n",
       "      <td>Urban</td>\n",
       "      <td>228.69</td>\n",
       "      <td>36.6</td>\n",
       "      <td>formerly smoked</td>\n",
       "      <td>1</td>\n",
       "    </tr>\n",
       "    <tr>\n",
       "      <th>1</th>\n",
       "      <td>Male</td>\n",
       "      <td>80.0</td>\n",
       "      <td>0</td>\n",
       "      <td>1</td>\n",
       "      <td>Yes</td>\n",
       "      <td>Private</td>\n",
       "      <td>Rural</td>\n",
       "      <td>105.92</td>\n",
       "      <td>32.5</td>\n",
       "      <td>never smoked</td>\n",
       "      <td>1</td>\n",
       "    </tr>\n",
       "    <tr>\n",
       "      <th>2</th>\n",
       "      <td>Female</td>\n",
       "      <td>49.0</td>\n",
       "      <td>0</td>\n",
       "      <td>0</td>\n",
       "      <td>Yes</td>\n",
       "      <td>Private</td>\n",
       "      <td>Urban</td>\n",
       "      <td>171.23</td>\n",
       "      <td>34.4</td>\n",
       "      <td>smokes</td>\n",
       "      <td>1</td>\n",
       "    </tr>\n",
       "    <tr>\n",
       "      <th>3</th>\n",
       "      <td>Female</td>\n",
       "      <td>79.0</td>\n",
       "      <td>1</td>\n",
       "      <td>0</td>\n",
       "      <td>Yes</td>\n",
       "      <td>Self-employed</td>\n",
       "      <td>Rural</td>\n",
       "      <td>174.12</td>\n",
       "      <td>24.0</td>\n",
       "      <td>never smoked</td>\n",
       "      <td>1</td>\n",
       "    </tr>\n",
       "    <tr>\n",
       "      <th>4</th>\n",
       "      <td>Male</td>\n",
       "      <td>81.0</td>\n",
       "      <td>0</td>\n",
       "      <td>0</td>\n",
       "      <td>Yes</td>\n",
       "      <td>Private</td>\n",
       "      <td>Urban</td>\n",
       "      <td>186.21</td>\n",
       "      <td>29.0</td>\n",
       "      <td>formerly smoked</td>\n",
       "      <td>1</td>\n",
       "    </tr>\n",
       "    <tr>\n",
       "      <th>...</th>\n",
       "      <td>...</td>\n",
       "      <td>...</td>\n",
       "      <td>...</td>\n",
       "      <td>...</td>\n",
       "      <td>...</td>\n",
       "      <td>...</td>\n",
       "      <td>...</td>\n",
       "      <td>...</td>\n",
       "      <td>...</td>\n",
       "      <td>...</td>\n",
       "      <td>...</td>\n",
       "    </tr>\n",
       "    <tr>\n",
       "      <th>4976</th>\n",
       "      <td>Male</td>\n",
       "      <td>41.0</td>\n",
       "      <td>0</td>\n",
       "      <td>0</td>\n",
       "      <td>No</td>\n",
       "      <td>Private</td>\n",
       "      <td>Rural</td>\n",
       "      <td>70.15</td>\n",
       "      <td>29.8</td>\n",
       "      <td>formerly smoked</td>\n",
       "      <td>0</td>\n",
       "    </tr>\n",
       "    <tr>\n",
       "      <th>4977</th>\n",
       "      <td>Male</td>\n",
       "      <td>40.0</td>\n",
       "      <td>0</td>\n",
       "      <td>0</td>\n",
       "      <td>Yes</td>\n",
       "      <td>Private</td>\n",
       "      <td>Urban</td>\n",
       "      <td>191.15</td>\n",
       "      <td>31.1</td>\n",
       "      <td>smokes</td>\n",
       "      <td>0</td>\n",
       "    </tr>\n",
       "    <tr>\n",
       "      <th>4978</th>\n",
       "      <td>Female</td>\n",
       "      <td>45.0</td>\n",
       "      <td>1</td>\n",
       "      <td>0</td>\n",
       "      <td>Yes</td>\n",
       "      <td>Govt_job</td>\n",
       "      <td>Rural</td>\n",
       "      <td>95.02</td>\n",
       "      <td>31.8</td>\n",
       "      <td>smokes</td>\n",
       "      <td>0</td>\n",
       "    </tr>\n",
       "    <tr>\n",
       "      <th>4979</th>\n",
       "      <td>Male</td>\n",
       "      <td>40.0</td>\n",
       "      <td>0</td>\n",
       "      <td>0</td>\n",
       "      <td>Yes</td>\n",
       "      <td>Private</td>\n",
       "      <td>Rural</td>\n",
       "      <td>83.94</td>\n",
       "      <td>30.0</td>\n",
       "      <td>smokes</td>\n",
       "      <td>0</td>\n",
       "    </tr>\n",
       "    <tr>\n",
       "      <th>4980</th>\n",
       "      <td>Female</td>\n",
       "      <td>80.0</td>\n",
       "      <td>1</td>\n",
       "      <td>0</td>\n",
       "      <td>Yes</td>\n",
       "      <td>Private</td>\n",
       "      <td>Urban</td>\n",
       "      <td>83.75</td>\n",
       "      <td>29.1</td>\n",
       "      <td>never smoked</td>\n",
       "      <td>0</td>\n",
       "    </tr>\n",
       "  </tbody>\n",
       "</table>\n",
       "<p>4981 rows × 11 columns</p>\n",
       "</div>"
      ],
      "text/plain": [
       "      gender   age  hypertension  heart_disease ever_married      work_type  \\\n",
       "0       Male  67.0             0              1          Yes        Private   \n",
       "1       Male  80.0             0              1          Yes        Private   \n",
       "2     Female  49.0             0              0          Yes        Private   \n",
       "3     Female  79.0             1              0          Yes  Self-employed   \n",
       "4       Male  81.0             0              0          Yes        Private   \n",
       "...      ...   ...           ...            ...          ...            ...   \n",
       "4976    Male  41.0             0              0           No        Private   \n",
       "4977    Male  40.0             0              0          Yes        Private   \n",
       "4978  Female  45.0             1              0          Yes       Govt_job   \n",
       "4979    Male  40.0             0              0          Yes        Private   \n",
       "4980  Female  80.0             1              0          Yes        Private   \n",
       "\n",
       "     Residence_type  avg_glucose_level   bmi   smoking_status  stroke  \n",
       "0             Urban             228.69  36.6  formerly smoked       1  \n",
       "1             Rural             105.92  32.5     never smoked       1  \n",
       "2             Urban             171.23  34.4           smokes       1  \n",
       "3             Rural             174.12  24.0     never smoked       1  \n",
       "4             Urban             186.21  29.0  formerly smoked       1  \n",
       "...             ...                ...   ...              ...     ...  \n",
       "4976          Rural              70.15  29.8  formerly smoked       0  \n",
       "4977          Urban             191.15  31.1           smokes       0  \n",
       "4978          Rural              95.02  31.8           smokes       0  \n",
       "4979          Rural              83.94  30.0           smokes       0  \n",
       "4980          Urban              83.75  29.1     never smoked       0  \n",
       "\n",
       "[4981 rows x 11 columns]"
      ]
     },
     "execution_count": 2,
     "metadata": {},
     "output_type": "execute_result"
    }
   ],
   "source": [
    "df = pd.read_csv('brain_stroke.csv')\n",
    "df"
   ]
  },
  {
   "cell_type": "code",
   "execution_count": 3,
   "id": "2d6ea568",
   "metadata": {},
   "outputs": [
    {
     "data": {
      "text/plain": [
       "array([1, 0], dtype=int64)"
      ]
     },
     "execution_count": 3,
     "metadata": {},
     "output_type": "execute_result"
    }
   ],
   "source": [
    "df['stroke'].unique()"
   ]
  },
  {
   "cell_type": "code",
   "execution_count": 4,
   "id": "176d56b7",
   "metadata": {},
   "outputs": [
    {
     "name": "stdout",
     "output_type": "stream",
     "text": [
      "<class 'pandas.core.frame.DataFrame'>\n",
      "RangeIndex: 4981 entries, 0 to 4980\n",
      "Data columns (total 11 columns):\n",
      " #   Column             Non-Null Count  Dtype  \n",
      "---  ------             --------------  -----  \n",
      " 0   gender             4981 non-null   object \n",
      " 1   age                4981 non-null   float64\n",
      " 2   hypertension       4981 non-null   int64  \n",
      " 3   heart_disease      4981 non-null   int64  \n",
      " 4   ever_married       4981 non-null   object \n",
      " 5   work_type          4981 non-null   object \n",
      " 6   Residence_type     4981 non-null   object \n",
      " 7   avg_glucose_level  4981 non-null   float64\n",
      " 8   bmi                4981 non-null   float64\n",
      " 9   smoking_status     4981 non-null   object \n",
      " 10  stroke             4981 non-null   int64  \n",
      "dtypes: float64(3), int64(3), object(5)\n",
      "memory usage: 428.2+ KB\n"
     ]
    }
   ],
   "source": [
    "df.info()"
   ]
  },
  {
   "cell_type": "code",
   "execution_count": 5,
   "id": "9e8f3000",
   "metadata": {},
   "outputs": [
    {
     "name": "stdout",
     "output_type": "stream",
     "text": [
      "<class 'pandas.core.frame.DataFrame'>\n",
      "RangeIndex: 4981 entries, 0 to 4980\n",
      "Data columns (total 11 columns):\n",
      " #   Column             Non-Null Count  Dtype  \n",
      "---  ------             --------------  -----  \n",
      " 0   gender             4981 non-null   int64  \n",
      " 1   age                4981 non-null   float64\n",
      " 2   hypertension       4981 non-null   int64  \n",
      " 3   heart_disease      4981 non-null   int64  \n",
      " 4   ever_married       4981 non-null   object \n",
      " 5   work_type          4981 non-null   object \n",
      " 6   Residence_type     4981 non-null   object \n",
      " 7   avg_glucose_level  4981 non-null   float64\n",
      " 8   bmi                4981 non-null   float64\n",
      " 9   smoking_status     4981 non-null   object \n",
      " 10  stroke             4981 non-null   int64  \n",
      "dtypes: float64(3), int64(4), object(4)\n",
      "memory usage: 428.2+ KB\n"
     ]
    }
   ],
   "source": [
    "df['gender'] = df['gender'].replace({'Male':1, 'Female':0})\n",
    "df.info()"
   ]
  },
  {
   "cell_type": "code",
   "execution_count": 6,
   "id": "f9fec758",
   "metadata": {},
   "outputs": [
    {
     "data": {
      "text/html": [
       "<div>\n",
       "<style scoped>\n",
       "    .dataframe tbody tr th:only-of-type {\n",
       "        vertical-align: middle;\n",
       "    }\n",
       "\n",
       "    .dataframe tbody tr th {\n",
       "        vertical-align: top;\n",
       "    }\n",
       "\n",
       "    .dataframe thead th {\n",
       "        text-align: right;\n",
       "    }\n",
       "</style>\n",
       "<table border=\"1\" class=\"dataframe\">\n",
       "  <thead>\n",
       "    <tr style=\"text-align: right;\">\n",
       "      <th></th>\n",
       "      <th>gender</th>\n",
       "      <th>age</th>\n",
       "      <th>hypertension</th>\n",
       "      <th>heart_disease</th>\n",
       "      <th>ever_married</th>\n",
       "      <th>work_type</th>\n",
       "      <th>Residence_type</th>\n",
       "      <th>avg_glucose_level</th>\n",
       "      <th>bmi</th>\n",
       "      <th>smoking_status</th>\n",
       "      <th>stroke</th>\n",
       "    </tr>\n",
       "  </thead>\n",
       "  <tbody>\n",
       "    <tr>\n",
       "      <th>0</th>\n",
       "      <td>1</td>\n",
       "      <td>67.0</td>\n",
       "      <td>0</td>\n",
       "      <td>1</td>\n",
       "      <td>Yes</td>\n",
       "      <td>Private</td>\n",
       "      <td>Urban</td>\n",
       "      <td>228.69</td>\n",
       "      <td>36.6</td>\n",
       "      <td>formerly smoked</td>\n",
       "      <td>1</td>\n",
       "    </tr>\n",
       "    <tr>\n",
       "      <th>1</th>\n",
       "      <td>1</td>\n",
       "      <td>80.0</td>\n",
       "      <td>0</td>\n",
       "      <td>1</td>\n",
       "      <td>Yes</td>\n",
       "      <td>Private</td>\n",
       "      <td>Rural</td>\n",
       "      <td>105.92</td>\n",
       "      <td>32.5</td>\n",
       "      <td>never smoked</td>\n",
       "      <td>1</td>\n",
       "    </tr>\n",
       "    <tr>\n",
       "      <th>2</th>\n",
       "      <td>0</td>\n",
       "      <td>49.0</td>\n",
       "      <td>0</td>\n",
       "      <td>0</td>\n",
       "      <td>Yes</td>\n",
       "      <td>Private</td>\n",
       "      <td>Urban</td>\n",
       "      <td>171.23</td>\n",
       "      <td>34.4</td>\n",
       "      <td>smokes</td>\n",
       "      <td>1</td>\n",
       "    </tr>\n",
       "    <tr>\n",
       "      <th>3</th>\n",
       "      <td>0</td>\n",
       "      <td>79.0</td>\n",
       "      <td>1</td>\n",
       "      <td>0</td>\n",
       "      <td>Yes</td>\n",
       "      <td>Self-employed</td>\n",
       "      <td>Rural</td>\n",
       "      <td>174.12</td>\n",
       "      <td>24.0</td>\n",
       "      <td>never smoked</td>\n",
       "      <td>1</td>\n",
       "    </tr>\n",
       "    <tr>\n",
       "      <th>4</th>\n",
       "      <td>1</td>\n",
       "      <td>81.0</td>\n",
       "      <td>0</td>\n",
       "      <td>0</td>\n",
       "      <td>Yes</td>\n",
       "      <td>Private</td>\n",
       "      <td>Urban</td>\n",
       "      <td>186.21</td>\n",
       "      <td>29.0</td>\n",
       "      <td>formerly smoked</td>\n",
       "      <td>1</td>\n",
       "    </tr>\n",
       "    <tr>\n",
       "      <th>...</th>\n",
       "      <td>...</td>\n",
       "      <td>...</td>\n",
       "      <td>...</td>\n",
       "      <td>...</td>\n",
       "      <td>...</td>\n",
       "      <td>...</td>\n",
       "      <td>...</td>\n",
       "      <td>...</td>\n",
       "      <td>...</td>\n",
       "      <td>...</td>\n",
       "      <td>...</td>\n",
       "    </tr>\n",
       "    <tr>\n",
       "      <th>4976</th>\n",
       "      <td>1</td>\n",
       "      <td>41.0</td>\n",
       "      <td>0</td>\n",
       "      <td>0</td>\n",
       "      <td>No</td>\n",
       "      <td>Private</td>\n",
       "      <td>Rural</td>\n",
       "      <td>70.15</td>\n",
       "      <td>29.8</td>\n",
       "      <td>formerly smoked</td>\n",
       "      <td>0</td>\n",
       "    </tr>\n",
       "    <tr>\n",
       "      <th>4977</th>\n",
       "      <td>1</td>\n",
       "      <td>40.0</td>\n",
       "      <td>0</td>\n",
       "      <td>0</td>\n",
       "      <td>Yes</td>\n",
       "      <td>Private</td>\n",
       "      <td>Urban</td>\n",
       "      <td>191.15</td>\n",
       "      <td>31.1</td>\n",
       "      <td>smokes</td>\n",
       "      <td>0</td>\n",
       "    </tr>\n",
       "    <tr>\n",
       "      <th>4978</th>\n",
       "      <td>0</td>\n",
       "      <td>45.0</td>\n",
       "      <td>1</td>\n",
       "      <td>0</td>\n",
       "      <td>Yes</td>\n",
       "      <td>Govt_job</td>\n",
       "      <td>Rural</td>\n",
       "      <td>95.02</td>\n",
       "      <td>31.8</td>\n",
       "      <td>smokes</td>\n",
       "      <td>0</td>\n",
       "    </tr>\n",
       "    <tr>\n",
       "      <th>4979</th>\n",
       "      <td>1</td>\n",
       "      <td>40.0</td>\n",
       "      <td>0</td>\n",
       "      <td>0</td>\n",
       "      <td>Yes</td>\n",
       "      <td>Private</td>\n",
       "      <td>Rural</td>\n",
       "      <td>83.94</td>\n",
       "      <td>30.0</td>\n",
       "      <td>smokes</td>\n",
       "      <td>0</td>\n",
       "    </tr>\n",
       "    <tr>\n",
       "      <th>4980</th>\n",
       "      <td>0</td>\n",
       "      <td>80.0</td>\n",
       "      <td>1</td>\n",
       "      <td>0</td>\n",
       "      <td>Yes</td>\n",
       "      <td>Private</td>\n",
       "      <td>Urban</td>\n",
       "      <td>83.75</td>\n",
       "      <td>29.1</td>\n",
       "      <td>never smoked</td>\n",
       "      <td>0</td>\n",
       "    </tr>\n",
       "  </tbody>\n",
       "</table>\n",
       "<p>4981 rows × 11 columns</p>\n",
       "</div>"
      ],
      "text/plain": [
       "      gender   age  hypertension  heart_disease ever_married      work_type  \\\n",
       "0          1  67.0             0              1          Yes        Private   \n",
       "1          1  80.0             0              1          Yes        Private   \n",
       "2          0  49.0             0              0          Yes        Private   \n",
       "3          0  79.0             1              0          Yes  Self-employed   \n",
       "4          1  81.0             0              0          Yes        Private   \n",
       "...      ...   ...           ...            ...          ...            ...   \n",
       "4976       1  41.0             0              0           No        Private   \n",
       "4977       1  40.0             0              0          Yes        Private   \n",
       "4978       0  45.0             1              0          Yes       Govt_job   \n",
       "4979       1  40.0             0              0          Yes        Private   \n",
       "4980       0  80.0             1              0          Yes        Private   \n",
       "\n",
       "     Residence_type  avg_glucose_level   bmi   smoking_status  stroke  \n",
       "0             Urban             228.69  36.6  formerly smoked       1  \n",
       "1             Rural             105.92  32.5     never smoked       1  \n",
       "2             Urban             171.23  34.4           smokes       1  \n",
       "3             Rural             174.12  24.0     never smoked       1  \n",
       "4             Urban             186.21  29.0  formerly smoked       1  \n",
       "...             ...                ...   ...              ...     ...  \n",
       "4976          Rural              70.15  29.8  formerly smoked       0  \n",
       "4977          Urban             191.15  31.1           smokes       0  \n",
       "4978          Rural              95.02  31.8           smokes       0  \n",
       "4979          Rural              83.94  30.0           smokes       0  \n",
       "4980          Urban              83.75  29.1     never smoked       0  \n",
       "\n",
       "[4981 rows x 11 columns]"
      ]
     },
     "execution_count": 6,
     "metadata": {},
     "output_type": "execute_result"
    }
   ],
   "source": [
    "df"
   ]
  },
  {
   "cell_type": "code",
   "execution_count": 7,
   "id": "44785f09",
   "metadata": {},
   "outputs": [
    {
     "data": {
      "text/plain": [
       "<AxesSubplot:xlabel='gender'>"
      ]
     },
     "execution_count": 7,
     "metadata": {},
     "output_type": "execute_result"
    },
    {
     "data": {
      "image/png": "[encoded data removed]",
      "text/plain": [
       "<Figure size 432x288 with 1 Axes>"
      ]
     },
     "metadata": {
      "needs_background": "light"
     },
     "output_type": "display_data"
    }
   ],
   "source": [
    "sns.boxplot(x = df['gender'])"
   ]
  },
  {
   "cell_type": "code",
   "execution_count": 8,
   "id": "2ce675b9",
   "metadata": {},
   "outputs": [
    {
     "data": {
      "text/plain": [
       "<AxesSubplot:xlabel='heart_disease'>"
      ]
     },
     "execution_count": 8,
     "metadata": {},
     "output_type": "execute_result"
    },
    {
     "data": {
      "image/png": "[encoded data removed]",
      "text/plain": [
       "<Figure size 432x288 with 1 Axes>"
      ]
     },
     "metadata": {
      "needs_background": "light"
     },
     "output_type": "display_data"
    }
   ],
   "source": [
    "sns.boxplot(x = df['heart_disease'])"
   ]
  },
  {
   "cell_type": "code",
   "execution_count": 9,
   "id": "a21a34fa",
   "metadata": {},
   "outputs": [
    {
     "data": {
      "text/plain": [
       "<AxesSubplot:>"
      ]
     },
     "execution_count": 9,
     "metadata": {},
     "output_type": "execute_result"
    },
    {
     "data": {
      "image/png": "[encoded data removed]",
      "text/plain": [
       "<Figure size 432x288 with 1 Axes>"
      ]
     },
     "metadata": {
      "needs_background": "light"
     },
     "output_type": "display_data"
    }
   ],
   "source": [
    "df.boxplot()"
   ]
  },
  {
   "cell_type": "markdown",
   "id": "38396bcc",
   "metadata": {},
   "source": [
    "# Column 'avg_glucose_level'"
   ]
  },
  {
   "cell_type": "code",
   "execution_count": 10,
   "id": "422f2f32",
   "metadata": {},
   "outputs": [
    {
     "name": "stdout",
     "output_type": "stream",
     "text": [
      "77.23\n",
      "91.85\n",
      "113.86\n",
      "36.629999999999995\n",
      "132.175\n",
      "168.805\n"
     ]
    }
   ],
   "source": [
    "q1 = df['avg_glucose_level'].quantile(0.25)\n",
    "print(q1)\n",
    "q2 = df['avg_glucose_level'].quantile(0.50)\n",
    "print(q2)\n",
    "q3 = df['avg_glucose_level'].quantile(0.75)\n",
    "print(q3)\n",
    "\n",
    "iqr = q3 - q1\n",
    "print(iqr)\n",
    "\n",
    "lower_tail = q1 + 1.5*iqr\n",
    "print(lower_tail)\n",
    "\n",
    "uppar_tail = q3 + 1.5*iqr\n",
    "print(uppar_tail)"
   ]
  },
  {
   "cell_type": "code",
   "execution_count": 11,
   "id": "cbb4a94c",
   "metadata": {},
   "outputs": [
    {
     "data": {
      "text/plain": [
       "<AxesSubplot:xlabel='avg_glucose_level'>"
      ]
     },
     "execution_count": 11,
     "metadata": {},
     "output_type": "execute_result"
    },
    {
     "data": {
      "image/png": "[encoded data removed]",
      "text/plain": [
       "<Figure size 432x288 with 1 Axes>"
      ]
     },
     "metadata": {
      "needs_background": "light"
     },
     "output_type": "display_data"
    }
   ],
   "source": [
    "sns.boxplot(x = df['avg_glucose_level'])"
   ]
  },
  {
   "cell_type": "code",
   "execution_count": 12,
   "id": "60548b46",
   "metadata": {},
   "outputs": [
    {
     "data": {
      "text/plain": [
       "<AxesSubplot:xlabel='avg_glucose_level'>"
      ]
     },
     "execution_count": 12,
     "metadata": {},
     "output_type": "execute_result"
    },
    {
     "data": {
      "image/png": "[encoded data removed]",
      "text/plain": [
       "<Figure size 432x288 with 1 Axes>"
      ]
     },
     "metadata": {
      "needs_background": "light"
     },
     "output_type": "display_data"
    }
   ],
   "source": [
    "# using trasformation technique\n",
    "\n",
    "### 1) log transformation                          # still outliers are present\n",
    "sns.boxplot(x=np.log(df[\"avg_glucose_level\"]))\n",
    "\n",
    "## cube                                            # still outliers are present\n",
    "sns.boxplot(x=np.cbrt(df[\"avg_glucose_level\"]))\n",
    "\n",
    "## square root                                     # still outliers are present \n",
    "sns.boxplot(x=np.sqrt(df[\"avg_glucose_level\"]))\n",
    "\n",
    "# Recipocal                                        # outliers removed\n",
    "sns.boxplot(x=1/(df[\"avg_glucose_level\"]))"
   ]
  },
  {
   "cell_type": "code",
   "execution_count": 13,
   "id": "693a1eef",
   "metadata": {},
   "outputs": [],
   "source": [
    "# Recipocal tarsforamtion\n",
    "df[\"avg_glucose_level\"] =1/(df[\"avg_glucose_level\"])"
   ]
  },
  {
   "cell_type": "code",
   "execution_count": 14,
   "id": "f7d378b2",
   "metadata": {
    "scrolled": true
   },
   "outputs": [
    {
     "data": {
      "text/plain": [
       "<AxesSubplot:>"
      ]
     },
     "execution_count": 14,
     "metadata": {},
     "output_type": "execute_result"
    },
    {
     "data": {
      "image/png": "[encoded data removed]",
      "text/plain": [
       "<Figure size 432x288 with 1 Axes>"
      ]
     },
     "metadata": {
      "needs_background": "light"
     },
     "output_type": "display_data"
    }
   ],
   "source": [
    "df.boxplot()"
   ]
  },
  {
   "cell_type": "markdown",
   "id": "b2267236",
   "metadata": {},
   "source": [
    "# Column 'ever_married'"
   ]
  },
  {
   "cell_type": "code",
   "execution_count": 15,
   "id": "24b66040",
   "metadata": {
    "scrolled": true
   },
   "outputs": [
    {
     "data": {
      "text/plain": [
       "{'Yes': 3280, 'No': 1701}"
      ]
     },
     "execution_count": 15,
     "metadata": {},
     "output_type": "execute_result"
    }
   ],
   "source": [
    "df['ever_married'].value_counts().to_dict()"
   ]
  },
  {
   "cell_type": "code",
   "execution_count": 16,
   "id": "b1e85be5",
   "metadata": {},
   "outputs": [],
   "source": [
    "df['ever_married'] = df['ever_married'].replace({'Yes': 0, 'No': 1})"
   ]
  },
  {
   "cell_type": "code",
   "execution_count": 17,
   "id": "e8e17d46",
   "metadata": {},
   "outputs": [
    {
     "data": {
      "text/html": [
       "<div>\n",
       "<style scoped>\n",
       "    .dataframe tbody tr th:only-of-type {\n",
       "        vertical-align: middle;\n",
       "    }\n",
       "\n",
       "    .dataframe tbody tr th {\n",
       "        vertical-align: top;\n",
       "    }\n",
       "\n",
       "    .dataframe thead th {\n",
       "        text-align: right;\n",
       "    }\n",
       "</style>\n",
       "<table border=\"1\" class=\"dataframe\">\n",
       "  <thead>\n",
       "    <tr style=\"text-align: right;\">\n",
       "      <th></th>\n",
       "      <th>gender</th>\n",
       "      <th>age</th>\n",
       "      <th>hypertension</th>\n",
       "      <th>heart_disease</th>\n",
       "      <th>ever_married</th>\n",
       "      <th>work_type</th>\n",
       "      <th>Residence_type</th>\n",
       "      <th>avg_glucose_level</th>\n",
       "      <th>bmi</th>\n",
       "      <th>smoking_status</th>\n",
       "      <th>stroke</th>\n",
       "    </tr>\n",
       "  </thead>\n",
       "  <tbody>\n",
       "    <tr>\n",
       "      <th>0</th>\n",
       "      <td>1</td>\n",
       "      <td>67.0</td>\n",
       "      <td>0</td>\n",
       "      <td>1</td>\n",
       "      <td>0</td>\n",
       "      <td>Private</td>\n",
       "      <td>Urban</td>\n",
       "      <td>0.004373</td>\n",
       "      <td>36.6</td>\n",
       "      <td>formerly smoked</td>\n",
       "      <td>1</td>\n",
       "    </tr>\n",
       "    <tr>\n",
       "      <th>1</th>\n",
       "      <td>1</td>\n",
       "      <td>80.0</td>\n",
       "      <td>0</td>\n",
       "      <td>1</td>\n",
       "      <td>0</td>\n",
       "      <td>Private</td>\n",
       "      <td>Rural</td>\n",
       "      <td>0.009441</td>\n",
       "      <td>32.5</td>\n",
       "      <td>never smoked</td>\n",
       "      <td>1</td>\n",
       "    </tr>\n",
       "    <tr>\n",
       "      <th>2</th>\n",
       "      <td>0</td>\n",
       "      <td>49.0</td>\n",
       "      <td>0</td>\n",
       "      <td>0</td>\n",
       "      <td>0</td>\n",
       "      <td>Private</td>\n",
       "      <td>Urban</td>\n",
       "      <td>0.005840</td>\n",
       "      <td>34.4</td>\n",
       "      <td>smokes</td>\n",
       "      <td>1</td>\n",
       "    </tr>\n",
       "    <tr>\n",
       "      <th>3</th>\n",
       "      <td>0</td>\n",
       "      <td>79.0</td>\n",
       "      <td>1</td>\n",
       "      <td>0</td>\n",
       "      <td>0</td>\n",
       "      <td>Self-employed</td>\n",
       "      <td>Rural</td>\n",
       "      <td>0.005743</td>\n",
       "      <td>24.0</td>\n",
       "      <td>never smoked</td>\n",
       "      <td>1</td>\n",
       "    </tr>\n",
       "    <tr>\n",
       "      <th>4</th>\n",
       "      <td>1</td>\n",
       "      <td>81.0</td>\n",
       "      <td>0</td>\n",
       "      <td>0</td>\n",
       "      <td>0</td>\n",
       "      <td>Private</td>\n",
       "      <td>Urban</td>\n",
       "      <td>0.005370</td>\n",
       "      <td>29.0</td>\n",
       "      <td>formerly smoked</td>\n",
       "      <td>1</td>\n",
       "    </tr>\n",
       "    <tr>\n",
       "      <th>...</th>\n",
       "      <td>...</td>\n",
       "      <td>...</td>\n",
       "      <td>...</td>\n",
       "      <td>...</td>\n",
       "      <td>...</td>\n",
       "      <td>...</td>\n",
       "      <td>...</td>\n",
       "      <td>...</td>\n",
       "      <td>...</td>\n",
       "      <td>...</td>\n",
       "      <td>...</td>\n",
       "    </tr>\n",
       "    <tr>\n",
       "      <th>4976</th>\n",
       "      <td>1</td>\n",
       "      <td>41.0</td>\n",
       "      <td>0</td>\n",
       "      <td>0</td>\n",
       "      <td>1</td>\n",
       "      <td>Private</td>\n",
       "      <td>Rural</td>\n",
       "      <td>0.014255</td>\n",
       "      <td>29.8</td>\n",
       "      <td>formerly smoked</td>\n",
       "      <td>0</td>\n",
       "    </tr>\n",
       "    <tr>\n",
       "      <th>4977</th>\n",
       "      <td>1</td>\n",
       "      <td>40.0</td>\n",
       "      <td>0</td>\n",
       "      <td>0</td>\n",
       "      <td>0</td>\n",
       "      <td>Private</td>\n",
       "      <td>Urban</td>\n",
       "      <td>0.005231</td>\n",
       "      <td>31.1</td>\n",
       "      <td>smokes</td>\n",
       "      <td>0</td>\n",
       "    </tr>\n",
       "    <tr>\n",
       "      <th>4978</th>\n",
       "      <td>0</td>\n",
       "      <td>45.0</td>\n",
       "      <td>1</td>\n",
       "      <td>0</td>\n",
       "      <td>0</td>\n",
       "      <td>Govt_job</td>\n",
       "      <td>Rural</td>\n",
       "      <td>0.010524</td>\n",
       "      <td>31.8</td>\n",
       "      <td>smokes</td>\n",
       "      <td>0</td>\n",
       "    </tr>\n",
       "    <tr>\n",
       "      <th>4979</th>\n",
       "      <td>1</td>\n",
       "      <td>40.0</td>\n",
       "      <td>0</td>\n",
       "      <td>0</td>\n",
       "      <td>0</td>\n",
       "      <td>Private</td>\n",
       "      <td>Rural</td>\n",
       "      <td>0.011913</td>\n",
       "      <td>30.0</td>\n",
       "      <td>smokes</td>\n",
       "      <td>0</td>\n",
       "    </tr>\n",
       "    <tr>\n",
       "      <th>4980</th>\n",
       "      <td>0</td>\n",
       "      <td>80.0</td>\n",
       "      <td>1</td>\n",
       "      <td>0</td>\n",
       "      <td>0</td>\n",
       "      <td>Private</td>\n",
       "      <td>Urban</td>\n",
       "      <td>0.011940</td>\n",
       "      <td>29.1</td>\n",
       "      <td>never smoked</td>\n",
       "      <td>0</td>\n",
       "    </tr>\n",
       "  </tbody>\n",
       "</table>\n",
       "<p>4981 rows × 11 columns</p>\n",
       "</div>"
      ],
      "text/plain": [
       "      gender   age  hypertension  heart_disease  ever_married      work_type  \\\n",
       "0          1  67.0             0              1             0        Private   \n",
       "1          1  80.0             0              1             0        Private   \n",
       "2          0  49.0             0              0             0        Private   \n",
       "3          0  79.0             1              0             0  Self-employed   \n",
       "4          1  81.0             0              0             0        Private   \n",
       "...      ...   ...           ...            ...           ...            ...   \n",
       "4976       1  41.0             0              0             1        Private   \n",
       "4977       1  40.0             0              0             0        Private   \n",
       "4978       0  45.0             1              0             0       Govt_job   \n",
       "4979       1  40.0             0              0             0        Private   \n",
       "4980       0  80.0             1              0             0        Private   \n",
       "\n",
       "     Residence_type  avg_glucose_level   bmi   smoking_status  stroke  \n",
       "0             Urban           0.004373  36.6  formerly smoked       1  \n",
       "1             Rural           0.009441  32.5     never smoked       1  \n",
       "2             Urban           0.005840  34.4           smokes       1  \n",
       "3             Rural           0.005743  24.0     never smoked       1  \n",
       "4             Urban           0.005370  29.0  formerly smoked       1  \n",
       "...             ...                ...   ...              ...     ...  \n",
       "4976          Rural           0.014255  29.8  formerly smoked       0  \n",
       "4977          Urban           0.005231  31.1           smokes       0  \n",
       "4978          Rural           0.010524  31.8           smokes       0  \n",
       "4979          Rural           0.011913  30.0           smokes       0  \n",
       "4980          Urban           0.011940  29.1     never smoked       0  \n",
       "\n",
       "[4981 rows x 11 columns]"
      ]
     },
     "execution_count": 17,
     "metadata": {},
     "output_type": "execute_result"
    }
   ],
   "source": [
    "df"
   ]
  },
  {
   "cell_type": "markdown",
   "id": "82431ad4",
   "metadata": {},
   "source": [
    "# Column 'work_type'"
   ]
  },
  {
   "cell_type": "code",
   "execution_count": 18,
   "id": "2e050b0f",
   "metadata": {},
   "outputs": [
    {
     "data": {
      "text/plain": [
       "{'Private': 2860, 'Self-employed': 804, 'children': 673, 'Govt_job': 644}"
      ]
     },
     "execution_count": 18,
     "metadata": {},
     "output_type": "execute_result"
    }
   ],
   "source": [
    "df['work_type'].value_counts().to_dict()"
   ]
  },
  {
   "cell_type": "code",
   "execution_count": 19,
   "id": "da470b9b",
   "metadata": {},
   "outputs": [],
   "source": [
    "df['work_type'] = df['work_type'].replace({'Private': 0, 'Self-employed': 1, 'children': 3, 'Govt_job': 4})"
   ]
  },
  {
   "cell_type": "code",
   "execution_count": 20,
   "id": "259a29f9",
   "metadata": {
    "scrolled": true
   },
   "outputs": [
    {
     "data": {
      "text/html": [
       "<div>\n",
       "<style scoped>\n",
       "    .dataframe tbody tr th:only-of-type {\n",
       "        vertical-align: middle;\n",
       "    }\n",
       "\n",
       "    .dataframe tbody tr th {\n",
       "        vertical-align: top;\n",
       "    }\n",
       "\n",
       "    .dataframe thead th {\n",
       "        text-align: right;\n",
       "    }\n",
       "</style>\n",
       "<table border=\"1\" class=\"dataframe\">\n",
       "  <thead>\n",
       "    <tr style=\"text-align: right;\">\n",
       "      <th></th>\n",
       "      <th>gender</th>\n",
       "      <th>age</th>\n",
       "      <th>hypertension</th>\n",
       "      <th>heart_disease</th>\n",
       "      <th>ever_married</th>\n",
       "      <th>work_type</th>\n",
       "      <th>Residence_type</th>\n",
       "      <th>avg_glucose_level</th>\n",
       "      <th>bmi</th>\n",
       "      <th>smoking_status</th>\n",
       "      <th>stroke</th>\n",
       "    </tr>\n",
       "  </thead>\n",
       "  <tbody>\n",
       "    <tr>\n",
       "      <th>0</th>\n",
       "      <td>1</td>\n",
       "      <td>67.0</td>\n",
       "      <td>0</td>\n",
       "      <td>1</td>\n",
       "      <td>0</td>\n",
       "      <td>0</td>\n",
       "      <td>Urban</td>\n",
       "      <td>0.004373</td>\n",
       "      <td>36.6</td>\n",
       "      <td>formerly smoked</td>\n",
       "      <td>1</td>\n",
       "    </tr>\n",
       "    <tr>\n",
       "      <th>1</th>\n",
       "      <td>1</td>\n",
       "      <td>80.0</td>\n",
       "      <td>0</td>\n",
       "      <td>1</td>\n",
       "      <td>0</td>\n",
       "      <td>0</td>\n",
       "      <td>Rural</td>\n",
       "      <td>0.009441</td>\n",
       "      <td>32.5</td>\n",
       "      <td>never smoked</td>\n",
       "      <td>1</td>\n",
       "    </tr>\n",
       "    <tr>\n",
       "      <th>2</th>\n",
       "      <td>0</td>\n",
       "      <td>49.0</td>\n",
       "      <td>0</td>\n",
       "      <td>0</td>\n",
       "      <td>0</td>\n",
       "      <td>0</td>\n",
       "      <td>Urban</td>\n",
       "      <td>0.005840</td>\n",
       "      <td>34.4</td>\n",
       "      <td>smokes</td>\n",
       "      <td>1</td>\n",
       "    </tr>\n",
       "    <tr>\n",
       "      <th>3</th>\n",
       "      <td>0</td>\n",
       "      <td>79.0</td>\n",
       "      <td>1</td>\n",
       "      <td>0</td>\n",
       "      <td>0</td>\n",
       "      <td>1</td>\n",
       "      <td>Rural</td>\n",
       "      <td>0.005743</td>\n",
       "      <td>24.0</td>\n",
       "      <td>never smoked</td>\n",
       "      <td>1</td>\n",
       "    </tr>\n",
       "    <tr>\n",
       "      <th>4</th>\n",
       "      <td>1</td>\n",
       "      <td>81.0</td>\n",
       "      <td>0</td>\n",
       "      <td>0</td>\n",
       "      <td>0</td>\n",
       "      <td>0</td>\n",
       "      <td>Urban</td>\n",
       "      <td>0.005370</td>\n",
       "      <td>29.0</td>\n",
       "      <td>formerly smoked</td>\n",
       "      <td>1</td>\n",
       "    </tr>\n",
       "    <tr>\n",
       "      <th>...</th>\n",
       "      <td>...</td>\n",
       "      <td>...</td>\n",
       "      <td>...</td>\n",
       "      <td>...</td>\n",
       "      <td>...</td>\n",
       "      <td>...</td>\n",
       "      <td>...</td>\n",
       "      <td>...</td>\n",
       "      <td>...</td>\n",
       "      <td>...</td>\n",
       "      <td>...</td>\n",
       "    </tr>\n",
       "    <tr>\n",
       "      <th>4976</th>\n",
       "      <td>1</td>\n",
       "      <td>41.0</td>\n",
       "      <td>0</td>\n",
       "      <td>0</td>\n",
       "      <td>1</td>\n",
       "      <td>0</td>\n",
       "      <td>Rural</td>\n",
       "      <td>0.014255</td>\n",
       "      <td>29.8</td>\n",
       "      <td>formerly smoked</td>\n",
       "      <td>0</td>\n",
       "    </tr>\n",
       "    <tr>\n",
       "      <th>4977</th>\n",
       "      <td>1</td>\n",
       "      <td>40.0</td>\n",
       "      <td>0</td>\n",
       "      <td>0</td>\n",
       "      <td>0</td>\n",
       "      <td>0</td>\n",
       "      <td>Urban</td>\n",
       "      <td>0.005231</td>\n",
       "      <td>31.1</td>\n",
       "      <td>smokes</td>\n",
       "      <td>0</td>\n",
       "    </tr>\n",
       "    <tr>\n",
       "      <th>4978</th>\n",
       "      <td>0</td>\n",
       "      <td>45.0</td>\n",
       "      <td>1</td>\n",
       "      <td>0</td>\n",
       "      <td>0</td>\n",
       "      <td>4</td>\n",
       "      <td>Rural</td>\n",
       "      <td>0.010524</td>\n",
       "      <td>31.8</td>\n",
       "      <td>smokes</td>\n",
       "      <td>0</td>\n",
       "    </tr>\n",
       "    <tr>\n",
       "      <th>4979</th>\n",
       "      <td>1</td>\n",
       "      <td>40.0</td>\n",
       "      <td>0</td>\n",
       "      <td>0</td>\n",
       "      <td>0</td>\n",
       "      <td>0</td>\n",
       "      <td>Rural</td>\n",
       "      <td>0.011913</td>\n",
       "      <td>30.0</td>\n",
       "      <td>smokes</td>\n",
       "      <td>0</td>\n",
       "    </tr>\n",
       "    <tr>\n",
       "      <th>4980</th>\n",
       "      <td>0</td>\n",
       "      <td>80.0</td>\n",
       "      <td>1</td>\n",
       "      <td>0</td>\n",
       "      <td>0</td>\n",
       "      <td>0</td>\n",
       "      <td>Urban</td>\n",
       "      <td>0.011940</td>\n",
       "      <td>29.1</td>\n",
       "      <td>never smoked</td>\n",
       "      <td>0</td>\n",
       "    </tr>\n",
       "  </tbody>\n",
       "</table>\n",
       "<p>4981 rows × 11 columns</p>\n",
       "</div>"
      ],
      "text/plain": [
       "      gender   age  hypertension  heart_disease  ever_married  work_type  \\\n",
       "0          1  67.0             0              1             0          0   \n",
       "1          1  80.0             0              1             0          0   \n",
       "2          0  49.0             0              0             0          0   \n",
       "3          0  79.0             1              0             0          1   \n",
       "4          1  81.0             0              0             0          0   \n",
       "...      ...   ...           ...            ...           ...        ...   \n",
       "4976       1  41.0             0              0             1          0   \n",
       "4977       1  40.0             0              0             0          0   \n",
       "4978       0  45.0             1              0             0          4   \n",
       "4979       1  40.0             0              0             0          0   \n",
       "4980       0  80.0             1              0             0          0   \n",
       "\n",
       "     Residence_type  avg_glucose_level   bmi   smoking_status  stroke  \n",
       "0             Urban           0.004373  36.6  formerly smoked       1  \n",
       "1             Rural           0.009441  32.5     never smoked       1  \n",
       "2             Urban           0.005840  34.4           smokes       1  \n",
       "3             Rural           0.005743  24.0     never smoked       1  \n",
       "4             Urban           0.005370  29.0  formerly smoked       1  \n",
       "...             ...                ...   ...              ...     ...  \n",
       "4976          Rural           0.014255  29.8  formerly smoked       0  \n",
       "4977          Urban           0.005231  31.1           smokes       0  \n",
       "4978          Rural           0.010524  31.8           smokes       0  \n",
       "4979          Rural           0.011913  30.0           smokes       0  \n",
       "4980          Urban           0.011940  29.1     never smoked       0  \n",
       "\n",
       "[4981 rows x 11 columns]"
      ]
     },
     "execution_count": 20,
     "metadata": {},
     "output_type": "execute_result"
    }
   ],
   "source": [
    "df"
   ]
  },
  {
   "cell_type": "markdown",
   "id": "891e1abc",
   "metadata": {},
   "source": [
    "# Column 'Residence_type'"
   ]
  },
  {
   "cell_type": "code",
   "execution_count": 21,
   "id": "b4298c92",
   "metadata": {},
   "outputs": [
    {
     "data": {
      "text/plain": [
       "{'Urban': 2532, 'Rural': 2449}"
      ]
     },
     "execution_count": 21,
     "metadata": {},
     "output_type": "execute_result"
    }
   ],
   "source": [
    "df['Residence_type'].value_counts().to_dict()"
   ]
  },
  {
   "cell_type": "code",
   "execution_count": 22,
   "id": "9cd7aa96",
   "metadata": {},
   "outputs": [],
   "source": [
    "df['Residence_type'] = df['Residence_type'].replace({'Urban': 0, 'Rural': 1})"
   ]
  },
  {
   "cell_type": "code",
   "execution_count": 23,
   "id": "026f02cc",
   "metadata": {
    "scrolled": true
   },
   "outputs": [
    {
     "data": {
      "text/html": [
       "<div>\n",
       "<style scoped>\n",
       "    .dataframe tbody tr th:only-of-type {\n",
       "        vertical-align: middle;\n",
       "    }\n",
       "\n",
       "    .dataframe tbody tr th {\n",
       "        vertical-align: top;\n",
       "    }\n",
       "\n",
       "    .dataframe thead th {\n",
       "        text-align: right;\n",
       "    }\n",
       "</style>\n",
       "<table border=\"1\" class=\"dataframe\">\n",
       "  <thead>\n",
       "    <tr style=\"text-align: right;\">\n",
       "      <th></th>\n",
       "      <th>gender</th>\n",
       "      <th>age</th>\n",
       "      <th>hypertension</th>\n",
       "      <th>heart_disease</th>\n",
       "      <th>ever_married</th>\n",
       "      <th>work_type</th>\n",
       "      <th>Residence_type</th>\n",
       "      <th>avg_glucose_level</th>\n",
       "      <th>bmi</th>\n",
       "      <th>smoking_status</th>\n",
       "      <th>stroke</th>\n",
       "    </tr>\n",
       "  </thead>\n",
       "  <tbody>\n",
       "    <tr>\n",
       "      <th>0</th>\n",
       "      <td>1</td>\n",
       "      <td>67.0</td>\n",
       "      <td>0</td>\n",
       "      <td>1</td>\n",
       "      <td>0</td>\n",
       "      <td>0</td>\n",
       "      <td>0</td>\n",
       "      <td>0.004373</td>\n",
       "      <td>36.6</td>\n",
       "      <td>formerly smoked</td>\n",
       "      <td>1</td>\n",
       "    </tr>\n",
       "    <tr>\n",
       "      <th>1</th>\n",
       "      <td>1</td>\n",
       "      <td>80.0</td>\n",
       "      <td>0</td>\n",
       "      <td>1</td>\n",
       "      <td>0</td>\n",
       "      <td>0</td>\n",
       "      <td>1</td>\n",
       "      <td>0.009441</td>\n",
       "      <td>32.5</td>\n",
       "      <td>never smoked</td>\n",
       "      <td>1</td>\n",
       "    </tr>\n",
       "    <tr>\n",
       "      <th>2</th>\n",
       "      <td>0</td>\n",
       "      <td>49.0</td>\n",
       "      <td>0</td>\n",
       "      <td>0</td>\n",
       "      <td>0</td>\n",
       "      <td>0</td>\n",
       "      <td>0</td>\n",
       "      <td>0.005840</td>\n",
       "      <td>34.4</td>\n",
       "      <td>smokes</td>\n",
       "      <td>1</td>\n",
       "    </tr>\n",
       "    <tr>\n",
       "      <th>3</th>\n",
       "      <td>0</td>\n",
       "      <td>79.0</td>\n",
       "      <td>1</td>\n",
       "      <td>0</td>\n",
       "      <td>0</td>\n",
       "      <td>1</td>\n",
       "      <td>1</td>\n",
       "      <td>0.005743</td>\n",
       "      <td>24.0</td>\n",
       "      <td>never smoked</td>\n",
       "      <td>1</td>\n",
       "    </tr>\n",
       "    <tr>\n",
       "      <th>4</th>\n",
       "      <td>1</td>\n",
       "      <td>81.0</td>\n",
       "      <td>0</td>\n",
       "      <td>0</td>\n",
       "      <td>0</td>\n",
       "      <td>0</td>\n",
       "      <td>0</td>\n",
       "      <td>0.005370</td>\n",
       "      <td>29.0</td>\n",
       "      <td>formerly smoked</td>\n",
       "      <td>1</td>\n",
       "    </tr>\n",
       "    <tr>\n",
       "      <th>...</th>\n",
       "      <td>...</td>\n",
       "      <td>...</td>\n",
       "      <td>...</td>\n",
       "      <td>...</td>\n",
       "      <td>...</td>\n",
       "      <td>...</td>\n",
       "      <td>...</td>\n",
       "      <td>...</td>\n",
       "      <td>...</td>\n",
       "      <td>...</td>\n",
       "      <td>...</td>\n",
       "    </tr>\n",
       "    <tr>\n",
       "      <th>4976</th>\n",
       "      <td>1</td>\n",
       "      <td>41.0</td>\n",
       "      <td>0</td>\n",
       "      <td>0</td>\n",
       "      <td>1</td>\n",
       "      <td>0</td>\n",
       "      <td>1</td>\n",
       "      <td>0.014255</td>\n",
       "      <td>29.8</td>\n",
       "      <td>formerly smoked</td>\n",
       "      <td>0</td>\n",
       "    </tr>\n",
       "    <tr>\n",
       "      <th>4977</th>\n",
       "      <td>1</td>\n",
       "      <td>40.0</td>\n",
       "      <td>0</td>\n",
       "      <td>0</td>\n",
       "      <td>0</td>\n",
       "      <td>0</td>\n",
       "      <td>0</td>\n",
       "      <td>0.005231</td>\n",
       "      <td>31.1</td>\n",
       "      <td>smokes</td>\n",
       "      <td>0</td>\n",
       "    </tr>\n",
       "    <tr>\n",
       "      <th>4978</th>\n",
       "      <td>0</td>\n",
       "      <td>45.0</td>\n",
       "      <td>1</td>\n",
       "      <td>0</td>\n",
       "      <td>0</td>\n",
       "      <td>4</td>\n",
       "      <td>1</td>\n",
       "      <td>0.010524</td>\n",
       "      <td>31.8</td>\n",
       "      <td>smokes</td>\n",
       "      <td>0</td>\n",
       "    </tr>\n",
       "    <tr>\n",
       "      <th>4979</th>\n",
       "      <td>1</td>\n",
       "      <td>40.0</td>\n",
       "      <td>0</td>\n",
       "      <td>0</td>\n",
       "      <td>0</td>\n",
       "      <td>0</td>\n",
       "      <td>1</td>\n",
       "      <td>0.011913</td>\n",
       "      <td>30.0</td>\n",
       "      <td>smokes</td>\n",
       "      <td>0</td>\n",
       "    </tr>\n",
       "    <tr>\n",
       "      <th>4980</th>\n",
       "      <td>0</td>\n",
       "      <td>80.0</td>\n",
       "      <td>1</td>\n",
       "      <td>0</td>\n",
       "      <td>0</td>\n",
       "      <td>0</td>\n",
       "      <td>0</td>\n",
       "      <td>0.011940</td>\n",
       "      <td>29.1</td>\n",
       "      <td>never smoked</td>\n",
       "      <td>0</td>\n",
       "    </tr>\n",
       "  </tbody>\n",
       "</table>\n",
       "<p>4981 rows × 11 columns</p>\n",
       "</div>"
      ],
      "text/plain": [
       "      gender   age  hypertension  heart_disease  ever_married  work_type  \\\n",
       "0          1  67.0             0              1             0          0   \n",
       "1          1  80.0             0              1             0          0   \n",
       "2          0  49.0             0              0             0          0   \n",
       "3          0  79.0             1              0             0          1   \n",
       "4          1  81.0             0              0             0          0   \n",
       "...      ...   ...           ...            ...           ...        ...   \n",
       "4976       1  41.0             0              0             1          0   \n",
       "4977       1  40.0             0              0             0          0   \n",
       "4978       0  45.0             1              0             0          4   \n",
       "4979       1  40.0             0              0             0          0   \n",
       "4980       0  80.0             1              0             0          0   \n",
       "\n",
       "      Residence_type  avg_glucose_level   bmi   smoking_status  stroke  \n",
       "0                  0           0.004373  36.6  formerly smoked       1  \n",
       "1                  1           0.009441  32.5     never smoked       1  \n",
       "2                  0           0.005840  34.4           smokes       1  \n",
       "3                  1           0.005743  24.0     never smoked       1  \n",
       "4                  0           0.005370  29.0  formerly smoked       1  \n",
       "...              ...                ...   ...              ...     ...  \n",
       "4976               1           0.014255  29.8  formerly smoked       0  \n",
       "4977               0           0.005231  31.1           smokes       0  \n",
       "4978               1           0.010524  31.8           smokes       0  \n",
       "4979               1           0.011913  30.0           smokes       0  \n",
       "4980               0           0.011940  29.1     never smoked       0  \n",
       "\n",
       "[4981 rows x 11 columns]"
      ]
     },
     "execution_count": 23,
     "metadata": {},
     "output_type": "execute_result"
    }
   ],
   "source": [
    "df"
   ]
  },
  {
   "cell_type": "markdown",
   "id": "692a1c31",
   "metadata": {},
   "source": [
    "# Column 'smoking_status'"
   ]
  },
  {
   "cell_type": "code",
   "execution_count": 24,
   "id": "e569a1b3",
   "metadata": {
    "scrolled": true
   },
   "outputs": [
    {
     "data": {
      "text/plain": [
       "{'never smoked': 1838, 'Unknown': 1500, 'formerly smoked': 867, 'smokes': 776}"
      ]
     },
     "execution_count": 24,
     "metadata": {},
     "output_type": "execute_result"
    }
   ],
   "source": [
    "df['smoking_status'].value_counts().to_dict()"
   ]
  },
  {
   "cell_type": "code",
   "execution_count": 25,
   "id": "ea5d8189",
   "metadata": {},
   "outputs": [],
   "source": [
    "df['smoking_status'] = df['smoking_status'].replace({'never smoked': 1, 'Unknown': 2, 'formerly smoked': 3, 'smokes': 4})"
   ]
  },
  {
   "cell_type": "code",
   "execution_count": 26,
   "id": "f99ca46f",
   "metadata": {
    "scrolled": true
   },
   "outputs": [
    {
     "data": {
      "text/html": [
       "<div>\n",
       "<style scoped>\n",
       "    .dataframe tbody tr th:only-of-type {\n",
       "        vertical-align: middle;\n",
       "    }\n",
       "\n",
       "    .dataframe tbody tr th {\n",
       "        vertical-align: top;\n",
       "    }\n",
       "\n",
       "    .dataframe thead th {\n",
       "        text-align: right;\n",
       "    }\n",
       "</style>\n",
       "<table border=\"1\" class=\"dataframe\">\n",
       "  <thead>\n",
       "    <tr style=\"text-align: right;\">\n",
       "      <th></th>\n",
       "      <th>gender</th>\n",
       "      <th>age</th>\n",
       "      <th>hypertension</th>\n",
       "      <th>heart_disease</th>\n",
       "      <th>ever_married</th>\n",
       "      <th>work_type</th>\n",
       "      <th>Residence_type</th>\n",
       "      <th>avg_glucose_level</th>\n",
       "      <th>bmi</th>\n",
       "      <th>smoking_status</th>\n",
       "      <th>stroke</th>\n",
       "    </tr>\n",
       "  </thead>\n",
       "  <tbody>\n",
       "    <tr>\n",
       "      <th>0</th>\n",
       "      <td>1</td>\n",
       "      <td>67.0</td>\n",
       "      <td>0</td>\n",
       "      <td>1</td>\n",
       "      <td>0</td>\n",
       "      <td>0</td>\n",
       "      <td>0</td>\n",
       "      <td>0.004373</td>\n",
       "      <td>36.6</td>\n",
       "      <td>3</td>\n",
       "      <td>1</td>\n",
       "    </tr>\n",
       "    <tr>\n",
       "      <th>1</th>\n",
       "      <td>1</td>\n",
       "      <td>80.0</td>\n",
       "      <td>0</td>\n",
       "      <td>1</td>\n",
       "      <td>0</td>\n",
       "      <td>0</td>\n",
       "      <td>1</td>\n",
       "      <td>0.009441</td>\n",
       "      <td>32.5</td>\n",
       "      <td>1</td>\n",
       "      <td>1</td>\n",
       "    </tr>\n",
       "    <tr>\n",
       "      <th>2</th>\n",
       "      <td>0</td>\n",
       "      <td>49.0</td>\n",
       "      <td>0</td>\n",
       "      <td>0</td>\n",
       "      <td>0</td>\n",
       "      <td>0</td>\n",
       "      <td>0</td>\n",
       "      <td>0.005840</td>\n",
       "      <td>34.4</td>\n",
       "      <td>4</td>\n",
       "      <td>1</td>\n",
       "    </tr>\n",
       "    <tr>\n",
       "      <th>3</th>\n",
       "      <td>0</td>\n",
       "      <td>79.0</td>\n",
       "      <td>1</td>\n",
       "      <td>0</td>\n",
       "      <td>0</td>\n",
       "      <td>1</td>\n",
       "      <td>1</td>\n",
       "      <td>0.005743</td>\n",
       "      <td>24.0</td>\n",
       "      <td>1</td>\n",
       "      <td>1</td>\n",
       "    </tr>\n",
       "    <tr>\n",
       "      <th>4</th>\n",
       "      <td>1</td>\n",
       "      <td>81.0</td>\n",
       "      <td>0</td>\n",
       "      <td>0</td>\n",
       "      <td>0</td>\n",
       "      <td>0</td>\n",
       "      <td>0</td>\n",
       "      <td>0.005370</td>\n",
       "      <td>29.0</td>\n",
       "      <td>3</td>\n",
       "      <td>1</td>\n",
       "    </tr>\n",
       "    <tr>\n",
       "      <th>...</th>\n",
       "      <td>...</td>\n",
       "      <td>...</td>\n",
       "      <td>...</td>\n",
       "      <td>...</td>\n",
       "      <td>...</td>\n",
       "      <td>...</td>\n",
       "      <td>...</td>\n",
       "      <td>...</td>\n",
       "      <td>...</td>\n",
       "      <td>...</td>\n",
       "      <td>...</td>\n",
       "    </tr>\n",
       "    <tr>\n",
       "      <th>4976</th>\n",
       "      <td>1</td>\n",
       "      <td>41.0</td>\n",
       "      <td>0</td>\n",
       "      <td>0</td>\n",
       "      <td>1</td>\n",
       "      <td>0</td>\n",
       "      <td>1</td>\n",
       "      <td>0.014255</td>\n",
       "      <td>29.8</td>\n",
       "      <td>3</td>\n",
       "      <td>0</td>\n",
       "    </tr>\n",
       "    <tr>\n",
       "      <th>4977</th>\n",
       "      <td>1</td>\n",
       "      <td>40.0</td>\n",
       "      <td>0</td>\n",
       "      <td>0</td>\n",
       "      <td>0</td>\n",
       "      <td>0</td>\n",
       "      <td>0</td>\n",
       "      <td>0.005231</td>\n",
       "      <td>31.1</td>\n",
       "      <td>4</td>\n",
       "      <td>0</td>\n",
       "    </tr>\n",
       "    <tr>\n",
       "      <th>4978</th>\n",
       "      <td>0</td>\n",
       "      <td>45.0</td>\n",
       "      <td>1</td>\n",
       "      <td>0</td>\n",
       "      <td>0</td>\n",
       "      <td>4</td>\n",
       "      <td>1</td>\n",
       "      <td>0.010524</td>\n",
       "      <td>31.8</td>\n",
       "      <td>4</td>\n",
       "      <td>0</td>\n",
       "    </tr>\n",
       "    <tr>\n",
       "      <th>4979</th>\n",
       "      <td>1</td>\n",
       "      <td>40.0</td>\n",
       "      <td>0</td>\n",
       "      <td>0</td>\n",
       "      <td>0</td>\n",
       "      <td>0</td>\n",
       "      <td>1</td>\n",
       "      <td>0.011913</td>\n",
       "      <td>30.0</td>\n",
       "      <td>4</td>\n",
       "      <td>0</td>\n",
       "    </tr>\n",
       "    <tr>\n",
       "      <th>4980</th>\n",
       "      <td>0</td>\n",
       "      <td>80.0</td>\n",
       "      <td>1</td>\n",
       "      <td>0</td>\n",
       "      <td>0</td>\n",
       "      <td>0</td>\n",
       "      <td>0</td>\n",
       "      <td>0.011940</td>\n",
       "      <td>29.1</td>\n",
       "      <td>1</td>\n",
       "      <td>0</td>\n",
       "    </tr>\n",
       "  </tbody>\n",
       "</table>\n",
       "<p>4981 rows × 11 columns</p>\n",
       "</div>"
      ],
      "text/plain": [
       "      gender   age  hypertension  heart_disease  ever_married  work_type  \\\n",
       "0          1  67.0             0              1             0          0   \n",
       "1          1  80.0             0              1             0          0   \n",
       "2          0  49.0             0              0             0          0   \n",
       "3          0  79.0             1              0             0          1   \n",
       "4          1  81.0             0              0             0          0   \n",
       "...      ...   ...           ...            ...           ...        ...   \n",
       "4976       1  41.0             0              0             1          0   \n",
       "4977       1  40.0             0              0             0          0   \n",
       "4978       0  45.0             1              0             0          4   \n",
       "4979       1  40.0             0              0             0          0   \n",
       "4980       0  80.0             1              0             0          0   \n",
       "\n",
       "      Residence_type  avg_glucose_level   bmi  smoking_status  stroke  \n",
       "0                  0           0.004373  36.6               3       1  \n",
       "1                  1           0.009441  32.5               1       1  \n",
       "2                  0           0.005840  34.4               4       1  \n",
       "3                  1           0.005743  24.0               1       1  \n",
       "4                  0           0.005370  29.0               3       1  \n",
       "...              ...                ...   ...             ...     ...  \n",
       "4976               1           0.014255  29.8               3       0  \n",
       "4977               0           0.005231  31.1               4       0  \n",
       "4978               1           0.010524  31.8               4       0  \n",
       "4979               1           0.011913  30.0               4       0  \n",
       "4980               0           0.011940  29.1               1       0  \n",
       "\n",
       "[4981 rows x 11 columns]"
      ]
     },
     "execution_count": 26,
     "metadata": {},
     "output_type": "execute_result"
    }
   ],
   "source": [
    "df"
   ]
  },
  {
   "cell_type": "code",
   "execution_count": 27,
   "id": "a8dc6fc0",
   "metadata": {
    "scrolled": true
   },
   "outputs": [
    {
     "data": {
      "text/plain": [
       "<AxesSubplot:>"
      ]
     },
     "execution_count": 27,
     "metadata": {},
     "output_type": "execute_result"
    },
    {
     "data": {
      "image/png": "[encoded data removed]",
      "text/plain": [
       "<Figure size 432x288 with 1 Axes>"
      ]
     },
     "metadata": {
      "needs_background": "light"
     },
     "output_type": "display_data"
    }
   ],
   "source": [
    "df.boxplot()"
   ]
  },
  {
   "cell_type": "markdown",
   "id": "537b5c43",
   "metadata": {},
   "source": [
    "# Column 'avg_glucose_level'"
   ]
  },
  {
   "cell_type": "code",
   "execution_count": 28,
   "id": "39fecf52",
   "metadata": {},
   "outputs": [],
   "source": [
    "df['avg_glucose_level'] = np.log(df['avg_glucose_level'])"
   ]
  },
  {
   "cell_type": "code",
   "execution_count": 29,
   "id": "e6586e9d",
   "metadata": {},
   "outputs": [
    {
     "data": {
      "text/html": [
       "<div>\n",
       "<style scoped>\n",
       "    .dataframe tbody tr th:only-of-type {\n",
       "        vertical-align: middle;\n",
       "    }\n",
       "\n",
       "    .dataframe tbody tr th {\n",
       "        vertical-align: top;\n",
       "    }\n",
       "\n",
       "    .dataframe thead th {\n",
       "        text-align: right;\n",
       "    }\n",
       "</style>\n",
       "<table border=\"1\" class=\"dataframe\">\n",
       "  <thead>\n",
       "    <tr style=\"text-align: right;\">\n",
       "      <th></th>\n",
       "      <th>gender</th>\n",
       "      <th>age</th>\n",
       "      <th>hypertension</th>\n",
       "      <th>heart_disease</th>\n",
       "      <th>ever_married</th>\n",
       "      <th>work_type</th>\n",
       "      <th>Residence_type</th>\n",
       "      <th>avg_glucose_level</th>\n",
       "      <th>bmi</th>\n",
       "      <th>smoking_status</th>\n",
       "      <th>stroke</th>\n",
       "    </tr>\n",
       "  </thead>\n",
       "  <tbody>\n",
       "    <tr>\n",
       "      <th>0</th>\n",
       "      <td>1</td>\n",
       "      <td>67.0</td>\n",
       "      <td>0</td>\n",
       "      <td>1</td>\n",
       "      <td>0</td>\n",
       "      <td>0</td>\n",
       "      <td>0</td>\n",
       "      <td>-5.432367</td>\n",
       "      <td>36.6</td>\n",
       "      <td>3</td>\n",
       "      <td>1</td>\n",
       "    </tr>\n",
       "    <tr>\n",
       "      <th>1</th>\n",
       "      <td>1</td>\n",
       "      <td>80.0</td>\n",
       "      <td>0</td>\n",
       "      <td>1</td>\n",
       "      <td>0</td>\n",
       "      <td>0</td>\n",
       "      <td>1</td>\n",
       "      <td>-4.662684</td>\n",
       "      <td>32.5</td>\n",
       "      <td>1</td>\n",
       "      <td>1</td>\n",
       "    </tr>\n",
       "    <tr>\n",
       "      <th>2</th>\n",
       "      <td>0</td>\n",
       "      <td>49.0</td>\n",
       "      <td>0</td>\n",
       "      <td>0</td>\n",
       "      <td>0</td>\n",
       "      <td>0</td>\n",
       "      <td>0</td>\n",
       "      <td>-5.143008</td>\n",
       "      <td>34.4</td>\n",
       "      <td>4</td>\n",
       "      <td>1</td>\n",
       "    </tr>\n",
       "    <tr>\n",
       "      <th>3</th>\n",
       "      <td>0</td>\n",
       "      <td>79.0</td>\n",
       "      <td>1</td>\n",
       "      <td>0</td>\n",
       "      <td>0</td>\n",
       "      <td>1</td>\n",
       "      <td>1</td>\n",
       "      <td>-5.159745</td>\n",
       "      <td>24.0</td>\n",
       "      <td>1</td>\n",
       "      <td>1</td>\n",
       "    </tr>\n",
       "    <tr>\n",
       "      <th>4</th>\n",
       "      <td>1</td>\n",
       "      <td>81.0</td>\n",
       "      <td>0</td>\n",
       "      <td>0</td>\n",
       "      <td>0</td>\n",
       "      <td>0</td>\n",
       "      <td>0</td>\n",
       "      <td>-5.226875</td>\n",
       "      <td>29.0</td>\n",
       "      <td>3</td>\n",
       "      <td>1</td>\n",
       "    </tr>\n",
       "    <tr>\n",
       "      <th>...</th>\n",
       "      <td>...</td>\n",
       "      <td>...</td>\n",
       "      <td>...</td>\n",
       "      <td>...</td>\n",
       "      <td>...</td>\n",
       "      <td>...</td>\n",
       "      <td>...</td>\n",
       "      <td>...</td>\n",
       "      <td>...</td>\n",
       "      <td>...</td>\n",
       "      <td>...</td>\n",
       "    </tr>\n",
       "    <tr>\n",
       "      <th>4976</th>\n",
       "      <td>1</td>\n",
       "      <td>41.0</td>\n",
       "      <td>0</td>\n",
       "      <td>0</td>\n",
       "      <td>1</td>\n",
       "      <td>0</td>\n",
       "      <td>1</td>\n",
       "      <td>-4.250636</td>\n",
       "      <td>29.8</td>\n",
       "      <td>3</td>\n",
       "      <td>0</td>\n",
       "    </tr>\n",
       "    <tr>\n",
       "      <th>4977</th>\n",
       "      <td>1</td>\n",
       "      <td>40.0</td>\n",
       "      <td>0</td>\n",
       "      <td>0</td>\n",
       "      <td>0</td>\n",
       "      <td>0</td>\n",
       "      <td>0</td>\n",
       "      <td>-5.253058</td>\n",
       "      <td>31.1</td>\n",
       "      <td>4</td>\n",
       "      <td>0</td>\n",
       "    </tr>\n",
       "    <tr>\n",
       "      <th>4978</th>\n",
       "      <td>0</td>\n",
       "      <td>45.0</td>\n",
       "      <td>1</td>\n",
       "      <td>0</td>\n",
       "      <td>0</td>\n",
       "      <td>4</td>\n",
       "      <td>1</td>\n",
       "      <td>-4.554087</td>\n",
       "      <td>31.8</td>\n",
       "      <td>4</td>\n",
       "      <td>0</td>\n",
       "    </tr>\n",
       "    <tr>\n",
       "      <th>4979</th>\n",
       "      <td>1</td>\n",
       "      <td>40.0</td>\n",
       "      <td>0</td>\n",
       "      <td>0</td>\n",
       "      <td>0</td>\n",
       "      <td>0</td>\n",
       "      <td>1</td>\n",
       "      <td>-4.430102</td>\n",
       "      <td>30.0</td>\n",
       "      <td>4</td>\n",
       "      <td>0</td>\n",
       "    </tr>\n",
       "    <tr>\n",
       "      <th>4980</th>\n",
       "      <td>0</td>\n",
       "      <td>80.0</td>\n",
       "      <td>1</td>\n",
       "      <td>0</td>\n",
       "      <td>0</td>\n",
       "      <td>0</td>\n",
       "      <td>0</td>\n",
       "      <td>-4.427836</td>\n",
       "      <td>29.1</td>\n",
       "      <td>1</td>\n",
       "      <td>0</td>\n",
       "    </tr>\n",
       "  </tbody>\n",
       "</table>\n",
       "<p>4981 rows × 11 columns</p>\n",
       "</div>"
      ],
      "text/plain": [
       "      gender   age  hypertension  heart_disease  ever_married  work_type  \\\n",
       "0          1  67.0             0              1             0          0   \n",
       "1          1  80.0             0              1             0          0   \n",
       "2          0  49.0             0              0             0          0   \n",
       "3          0  79.0             1              0             0          1   \n",
       "4          1  81.0             0              0             0          0   \n",
       "...      ...   ...           ...            ...           ...        ...   \n",
       "4976       1  41.0             0              0             1          0   \n",
       "4977       1  40.0             0              0             0          0   \n",
       "4978       0  45.0             1              0             0          4   \n",
       "4979       1  40.0             0              0             0          0   \n",
       "4980       0  80.0             1              0             0          0   \n",
       "\n",
       "      Residence_type  avg_glucose_level   bmi  smoking_status  stroke  \n",
       "0                  0          -5.432367  36.6               3       1  \n",
       "1                  1          -4.662684  32.5               1       1  \n",
       "2                  0          -5.143008  34.4               4       1  \n",
       "3                  1          -5.159745  24.0               1       1  \n",
       "4                  0          -5.226875  29.0               3       1  \n",
       "...              ...                ...   ...             ...     ...  \n",
       "4976               1          -4.250636  29.8               3       0  \n",
       "4977               0          -5.253058  31.1               4       0  \n",
       "4978               1          -4.554087  31.8               4       0  \n",
       "4979               1          -4.430102  30.0               4       0  \n",
       "4980               0          -4.427836  29.1               1       0  \n",
       "\n",
       "[4981 rows x 11 columns]"
      ]
     },
     "execution_count": 29,
     "metadata": {},
     "output_type": "execute_result"
    }
   ],
   "source": [
    "df"
   ]
  },
  {
   "cell_type": "code",
   "execution_count": 30,
   "id": "1d186957",
   "metadata": {},
   "outputs": [
    {
     "data": {
      "text/plain": [
       "<AxesSubplot:>"
      ]
     },
     "execution_count": 30,
     "metadata": {},
     "output_type": "execute_result"
    },
    {
     "data": {
      "image/png": "[encoded data removed]",
      "text/plain": [
       "<Figure size 432x288 with 1 Axes>"
      ]
     },
     "metadata": {
      "needs_background": "light"
     },
     "output_type": "display_data"
    }
   ],
   "source": [
    "df.boxplot()"
   ]
  },
  {
   "cell_type": "code",
   "execution_count": 31,
   "id": "d527bc3f",
   "metadata": {},
   "outputs": [
    {
     "data": {
      "text/plain": [
       "<AxesSubplot:xlabel='avg_glucose_level'>"
      ]
     },
     "execution_count": 31,
     "metadata": {},
     "output_type": "execute_result"
    },
    {
     "data": {
      "image/png": "[encoded data removed]",
      "text/plain": [
       "<Figure size 432x288 with 1 Axes>"
      ]
     },
     "metadata": {
      "needs_background": "light"
     },
     "output_type": "display_data"
    }
   ],
   "source": [
    "sns.boxplot(x = df['avg_glucose_level'])"
   ]
  },
  {
   "cell_type": "code",
   "execution_count": 32,
   "id": "f8dfdc19",
   "metadata": {},
   "outputs": [],
   "source": [
    "x = df.drop('stroke',axis = 1)\n",
    "y = df.stroke"
   ]
  },
  {
   "cell_type": "code",
   "execution_count": 33,
   "id": "6117234d",
   "metadata": {},
   "outputs": [
    {
     "data": {
      "text/plain": [
       "0    4733\n",
       "1     248\n",
       "Name: stroke, dtype: int64"
      ]
     },
     "execution_count": 33,
     "metadata": {},
     "output_type": "execute_result"
    }
   ],
   "source": [
    "y.value_counts()"
   ]
  },
  {
   "cell_type": "markdown",
   "id": "0efa273b",
   "metadata": {},
   "source": [
    "## Sampling"
   ]
  },
  {
   "cell_type": "code",
   "execution_count": 34,
   "id": "8980fc3a",
   "metadata": {},
   "outputs": [],
   "source": [
    "from imblearn.over_sampling import RandomOverSampler"
   ]
  },
  {
   "cell_type": "code",
   "execution_count": 35,
   "id": "4a917ff8",
   "metadata": {},
   "outputs": [
    {
     "data": {
      "text/html": [
       "<div>\n",
       "<style scoped>\n",
       "    .dataframe tbody tr th:only-of-type {\n",
       "        vertical-align: middle;\n",
       "    }\n",
       "\n",
       "    .dataframe tbody tr th {\n",
       "        vertical-align: top;\n",
       "    }\n",
       "\n",
       "    .dataframe thead th {\n",
       "        text-align: right;\n",
       "    }\n",
       "</style>\n",
       "<table border=\"1\" class=\"dataframe\">\n",
       "  <thead>\n",
       "    <tr style=\"text-align: right;\">\n",
       "      <th></th>\n",
       "      <th>gender</th>\n",
       "      <th>age</th>\n",
       "      <th>hypertension</th>\n",
       "      <th>heart_disease</th>\n",
       "      <th>ever_married</th>\n",
       "      <th>work_type</th>\n",
       "      <th>Residence_type</th>\n",
       "      <th>avg_glucose_level</th>\n",
       "      <th>bmi</th>\n",
       "      <th>smoking_status</th>\n",
       "    </tr>\n",
       "  </thead>\n",
       "  <tbody>\n",
       "    <tr>\n",
       "      <th>0</th>\n",
       "      <td>1</td>\n",
       "      <td>67.0</td>\n",
       "      <td>0</td>\n",
       "      <td>1</td>\n",
       "      <td>0</td>\n",
       "      <td>0</td>\n",
       "      <td>0</td>\n",
       "      <td>-5.432367</td>\n",
       "      <td>36.6</td>\n",
       "      <td>3</td>\n",
       "    </tr>\n",
       "    <tr>\n",
       "      <th>1</th>\n",
       "      <td>1</td>\n",
       "      <td>80.0</td>\n",
       "      <td>0</td>\n",
       "      <td>1</td>\n",
       "      <td>0</td>\n",
       "      <td>0</td>\n",
       "      <td>1</td>\n",
       "      <td>-4.662684</td>\n",
       "      <td>32.5</td>\n",
       "      <td>1</td>\n",
       "    </tr>\n",
       "    <tr>\n",
       "      <th>2</th>\n",
       "      <td>0</td>\n",
       "      <td>49.0</td>\n",
       "      <td>0</td>\n",
       "      <td>0</td>\n",
       "      <td>0</td>\n",
       "      <td>0</td>\n",
       "      <td>0</td>\n",
       "      <td>-5.143008</td>\n",
       "      <td>34.4</td>\n",
       "      <td>4</td>\n",
       "    </tr>\n",
       "    <tr>\n",
       "      <th>3</th>\n",
       "      <td>0</td>\n",
       "      <td>79.0</td>\n",
       "      <td>1</td>\n",
       "      <td>0</td>\n",
       "      <td>0</td>\n",
       "      <td>1</td>\n",
       "      <td>1</td>\n",
       "      <td>-5.159745</td>\n",
       "      <td>24.0</td>\n",
       "      <td>1</td>\n",
       "    </tr>\n",
       "    <tr>\n",
       "      <th>4</th>\n",
       "      <td>1</td>\n",
       "      <td>81.0</td>\n",
       "      <td>0</td>\n",
       "      <td>0</td>\n",
       "      <td>0</td>\n",
       "      <td>0</td>\n",
       "      <td>0</td>\n",
       "      <td>-5.226875</td>\n",
       "      <td>29.0</td>\n",
       "      <td>3</td>\n",
       "    </tr>\n",
       "    <tr>\n",
       "      <th>...</th>\n",
       "      <td>...</td>\n",
       "      <td>...</td>\n",
       "      <td>...</td>\n",
       "      <td>...</td>\n",
       "      <td>...</td>\n",
       "      <td>...</td>\n",
       "      <td>...</td>\n",
       "      <td>...</td>\n",
       "      <td>...</td>\n",
       "      <td>...</td>\n",
       "    </tr>\n",
       "    <tr>\n",
       "      <th>9461</th>\n",
       "      <td>1</td>\n",
       "      <td>71.0</td>\n",
       "      <td>0</td>\n",
       "      <td>0</td>\n",
       "      <td>0</td>\n",
       "      <td>0</td>\n",
       "      <td>0</td>\n",
       "      <td>-4.633466</td>\n",
       "      <td>27.2</td>\n",
       "      <td>3</td>\n",
       "    </tr>\n",
       "    <tr>\n",
       "      <th>9462</th>\n",
       "      <td>0</td>\n",
       "      <td>68.0</td>\n",
       "      <td>0</td>\n",
       "      <td>0</td>\n",
       "      <td>0</td>\n",
       "      <td>0</td>\n",
       "      <td>1</td>\n",
       "      <td>-5.352142</td>\n",
       "      <td>39.3</td>\n",
       "      <td>2</td>\n",
       "    </tr>\n",
       "    <tr>\n",
       "      <th>9463</th>\n",
       "      <td>0</td>\n",
       "      <td>79.0</td>\n",
       "      <td>0</td>\n",
       "      <td>0</td>\n",
       "      <td>1</td>\n",
       "      <td>0</td>\n",
       "      <td>1</td>\n",
       "      <td>-4.487737</td>\n",
       "      <td>22.9</td>\n",
       "      <td>1</td>\n",
       "    </tr>\n",
       "    <tr>\n",
       "      <th>9464</th>\n",
       "      <td>0</td>\n",
       "      <td>69.0</td>\n",
       "      <td>0</td>\n",
       "      <td>0</td>\n",
       "      <td>0</td>\n",
       "      <td>4</td>\n",
       "      <td>0</td>\n",
       "      <td>-4.416549</td>\n",
       "      <td>28.0</td>\n",
       "      <td>1</td>\n",
       "    </tr>\n",
       "    <tr>\n",
       "      <th>9465</th>\n",
       "      <td>1</td>\n",
       "      <td>63.0</td>\n",
       "      <td>0</td>\n",
       "      <td>0</td>\n",
       "      <td>0</td>\n",
       "      <td>0</td>\n",
       "      <td>1</td>\n",
       "      <td>-5.431799</td>\n",
       "      <td>27.4</td>\n",
       "      <td>1</td>\n",
       "    </tr>\n",
       "  </tbody>\n",
       "</table>\n",
       "<p>9466 rows × 10 columns</p>\n",
       "</div>"
      ],
      "text/plain": [
       "      gender   age  hypertension  heart_disease  ever_married  work_type  \\\n",
       "0          1  67.0             0              1             0          0   \n",
       "1          1  80.0             0              1             0          0   \n",
       "2          0  49.0             0              0             0          0   \n",
       "3          0  79.0             1              0             0          1   \n",
       "4          1  81.0             0              0             0          0   \n",
       "...      ...   ...           ...            ...           ...        ...   \n",
       "9461       1  71.0             0              0             0          0   \n",
       "9462       0  68.0             0              0             0          0   \n",
       "9463       0  79.0             0              0             1          0   \n",
       "9464       0  69.0             0              0             0          4   \n",
       "9465       1  63.0             0              0             0          0   \n",
       "\n",
       "      Residence_type  avg_glucose_level   bmi  smoking_status  \n",
       "0                  0          -5.432367  36.6               3  \n",
       "1                  1          -4.662684  32.5               1  \n",
       "2                  0          -5.143008  34.4               4  \n",
       "3                  1          -5.159745  24.0               1  \n",
       "4                  0          -5.226875  29.0               3  \n",
       "...              ...                ...   ...             ...  \n",
       "9461               0          -4.633466  27.2               3  \n",
       "9462               1          -5.352142  39.3               2  \n",
       "9463               1          -4.487737  22.9               1  \n",
       "9464               0          -4.416549  28.0               1  \n",
       "9465               1          -5.431799  27.4               1  \n",
       "\n",
       "[9466 rows x 10 columns]"
      ]
     },
     "execution_count": 35,
     "metadata": {},
     "output_type": "execute_result"
    }
   ],
   "source": [
    "random_sampling = RandomOverSampler()\n",
    "x_sample,y_sample = random_sampling.fit_resample(x,y)\n",
    "x_sample"
   ]
  },
  {
   "cell_type": "code",
   "execution_count": 36,
   "id": "6adf32e5",
   "metadata": {},
   "outputs": [
    {
     "data": {
      "text/plain": [
       "1    4733\n",
       "0    4733\n",
       "Name: stroke, dtype: int64"
      ]
     },
     "execution_count": 36,
     "metadata": {},
     "output_type": "execute_result"
    }
   ],
   "source": [
    "y_sample.value_counts()"
   ]
  },
  {
   "cell_type": "code",
   "execution_count": 37,
   "id": "7fe00f0d",
   "metadata": {},
   "outputs": [],
   "source": [
    "x_train, x_test, y_train, y_test = train_test_split(x_sample, y_sample, test_size = 0.3, random_state=11, stratify = y_sample)"
   ]
  },
  {
   "cell_type": "markdown",
   "id": "77f67436",
   "metadata": {},
   "source": [
    "## Model Training"
   ]
  },
  {
   "cell_type": "code",
   "execution_count": 38,
   "id": "32ac2a3c",
   "metadata": {},
   "outputs": [
    {
     "data": {
      "text/html": [
       "<style>#sk-container-id-1 {color: black;background-color: white;}#sk-container-id-1 pre{padding: 0;}#sk-container-id-1 div.sk-toggleable {background-color: white;}#sk-container-id-1 label.sk-toggleable__label {cursor: pointer;display: block;width: 100%;margin-bottom: 0;padding: 0.3em;box-sizing: border-box;text-align: center;}#sk-container-id-1 label.sk-toggleable__label-arrow:before {content: \"▸\";float: left;margin-right: 0.25em;color: #696969;}#sk-container-id-1 label.sk-toggleable__label-arrow:hover:before {color: black;}#sk-container-id-1 div.sk-estimator:hover label.sk-toggleable__label-arrow:before {color: black;}#sk-container-id-1 div.sk-toggleable__content {max-height: 0;max-width: 0;overflow: hidden;text-align: left;background-color: #f0f8ff;}#sk-container-id-1 div.sk-toggleable__content pre {margin: 0.2em;color: black;border-radius: 0.25em;background-color: #f0f8ff;}#sk-container-id-1 input.sk-toggleable__control:checked~div.sk-toggleable__content {max-height: 200px;max-width: 100%;overflow: auto;}#sk-container-id-1 input.sk-toggleable__control:checked~label.sk-toggleable__label-arrow:before {content: \"▾\";}#sk-container-id-1 div.sk-estimator input.sk-toggleable__control:checked~label.sk-toggleable__label {background-color: #d4ebff;}#sk-container-id-1 div.sk-label input.sk-toggleable__control:checked~label.sk-toggleable__label {background-color: #d4ebff;}#sk-container-id-1 input.sk-hidden--visually {border: 0;clip: rect(1px 1px 1px 1px);clip: rect(1px, 1px, 1px, 1px);height: 1px;margin: -1px;overflow: hidden;padding: 0;position: absolute;width: 1px;}#sk-container-id-1 div.sk-estimator {font-family: monospace;background-color: #f0f8ff;border: 1px dotted black;border-radius: 0.25em;box-sizing: border-box;margin-bottom: 0.5em;}#sk-container-id-1 div.sk-estimator:hover {background-color: #d4ebff;}#sk-container-id-1 div.sk-parallel-item::after {content: \"\";width: 100%;border-bottom: 1px solid gray;flex-grow: 1;}#sk-container-id-1 div.sk-label:hover label.sk-toggleable__label {background-color: #d4ebff;}#sk-container-id-1 div.sk-serial::before {content: \"\";position: absolute;border-left: 1px solid gray;box-sizing: border-box;top: 0;bottom: 0;left: 50%;z-index: 0;}#sk-container-id-1 div.sk-serial {display: flex;flex-direction: column;align-items: center;background-color: white;padding-right: 0.2em;padding-left: 0.2em;position: relative;}#sk-container-id-1 div.sk-item {position: relative;z-index: 1;}#sk-container-id-1 div.sk-parallel {display: flex;align-items: stretch;justify-content: center;background-color: white;position: relative;}#sk-container-id-1 div.sk-item::before, #sk-container-id-1 div.sk-parallel-item::before {content: \"\";position: absolute;border-left: 1px solid gray;box-sizing: border-box;top: 0;bottom: 0;left: 50%;z-index: -1;}#sk-container-id-1 div.sk-parallel-item {display: flex;flex-direction: column;z-index: 1;position: relative;background-color: white;}#sk-container-id-1 div.sk-parallel-item:first-child::after {align-self: flex-end;width: 50%;}#sk-container-id-1 div.sk-parallel-item:last-child::after {align-self: flex-start;width: 50%;}#sk-container-id-1 div.sk-parallel-item:only-child::after {width: 0;}#sk-container-id-1 div.sk-dashed-wrapped {border: 1px dashed gray;margin: 0 0.4em 0.5em 0.4em;box-sizing: border-box;padding-bottom: 0.4em;background-color: white;}#sk-container-id-1 div.sk-label label {font-family: monospace;font-weight: bold;display: inline-block;line-height: 1.2em;}#sk-container-id-1 div.sk-label-container {text-align: center;}#sk-container-id-1 div.sk-container {/* jupyter's `normalize.less` sets `[hidden] { display: none; }` but bootstrap.min.css set `[hidden] { display: none !important; }` so we also need the `!important` here to be able to override the default hidden behavior on the sphinx rendered scikit-learn.org. See: https://github.com/scikit-learn/scikit-learn/issues/21755 */display: inline-block !important;position: relative;}#sk-container-id-1 div.sk-text-repr-fallback {display: none;}</style><div id=\"sk-container-id-1\" class=\"sk-top-container\"><div class=\"sk-text-repr-fallback\"><pre>DecisionTreeClassifier(random_state=11)</pre><b>In a Jupyter environment, please rerun this cell to show the HTML representation or trust the notebook. <br />On GitHub, the HTML representation is unable to render, please try loading this page with nbviewer.org.</b></div><div class=\"sk-container\" hidden><div class=\"sk-item\"><div class=\"sk-estimator sk-toggleable\"><input class=\"sk-toggleable__control sk-hidden--visually\" id=\"sk-estimator-id-1\" type=\"checkbox\" checked><label for=\"sk-estimator-id-1\" class=\"sk-toggleable__label sk-toggleable__label-arrow\">DecisionTreeClassifier</label><div class=\"sk-toggleable__content\"><pre>DecisionTreeClassifier(random_state=11)</pre></div></div></div></div></div>"
      ],
      "text/plain": [
       "DecisionTreeClassifier(random_state=11)"
      ]
     },
     "execution_count": 38,
     "metadata": {},
     "output_type": "execute_result"
    }
   ],
   "source": [
    "dt_clf = DecisionTreeClassifier(random_state = 11)\n",
    "dt_clf.fit(x_train,y_train)"
   ]
  },
  {
   "cell_type": "code",
   "execution_count": null,
   "id": "90e7994e",
   "metadata": {},
   "outputs": [],
   "source": []
  },
  {
   "cell_type": "markdown",
   "id": "eefb9c38",
   "metadata": {},
   "source": [
    "## Model evaluation"
   ]
  },
  {
   "cell_type": "code",
   "execution_count": 39,
   "id": "58c6531e",
   "metadata": {},
   "outputs": [
    {
     "name": "stdout",
     "output_type": "stream",
     "text": [
      "Accuracy_score : \n",
      " 1.0\n",
      "classification_report : \n",
      "               precision    recall  f1-score   support\n",
      "\n",
      "           0       1.00      1.00      1.00      3313\n",
      "           1       1.00      1.00      1.00      3313\n",
      "\n",
      "    accuracy                           1.00      6626\n",
      "   macro avg       1.00      1.00      1.00      6626\n",
      "weighted avg       1.00      1.00      1.00      6626\n",
      "\n",
      "confusion_matrix : \n",
      " [[3313    0]\n",
      " [   0 3313]]\n"
     ]
    }
   ],
   "source": [
    "## Training\n",
    "\n",
    "y_train_pred = dt_clf.predict(x_train)\n",
    "\n",
    "acc_score = accuracy_score(y_train_pred, y_train)\n",
    "print(\"Accuracy_score : \\n\",acc_score)\n",
    "\n",
    "clf_report = classification_report(y_train_pred, y_train)\n",
    "print(\"classification_report : \\n\",clf_report)\n",
    "\n",
    "conf_matrix = confusion_matrix(y_train_pred, y_train)\n",
    "print(\"confusion_matrix : \\n\",conf_matrix)"
   ]
  },
  {
   "cell_type": "code",
   "execution_count": 40,
   "id": "32c9269a",
   "metadata": {},
   "outputs": [
    {
     "name": "stdout",
     "output_type": "stream",
     "text": [
      "Accuracy_score : \n",
      " 0.9700704225352113\n",
      "classification_report : \n",
      "               precision    recall  f1-score   support\n",
      "\n",
      "           0       0.94      1.00      0.97      1335\n",
      "           1       1.00      0.94      0.97      1505\n",
      "\n",
      "    accuracy                           0.97      2840\n",
      "   macro avg       0.97      0.97      0.97      2840\n",
      "weighted avg       0.97      0.97      0.97      2840\n",
      "\n",
      "confusion_matrix : \n",
      " [[1335    0]\n",
      " [  85 1420]]\n"
     ]
    }
   ],
   "source": [
    "## testing\n",
    "\n",
    "y_test_pred = dt_clf.predict(x_test)\n",
    "\n",
    "acc_score = accuracy_score(y_test_pred, y_test)\n",
    "print(\"Accuracy_score : \\n\",acc_score)\n",
    "\n",
    "clf_report = classification_report(y_test_pred, y_test)\n",
    "print(\"classification_report : \\n\",clf_report)\n",
    "\n",
    "conf_matrix = confusion_matrix(y_test_pred, y_test)\n",
    "print(\"confusion_matrix : \\n\",conf_matrix)                               ## "
   ]
  },
  {
   "cell_type": "markdown",
   "id": "18c52fc8",
   "metadata": {},
   "source": [
    "## hyperparameter Tuning"
   ]
  },
  {
   "cell_type": "markdown",
   "id": "d29f2984",
   "metadata": {},
   "source": [
    "### Randomized searchcv"
   ]
  },
  {
   "cell_type": "code",
   "execution_count": 41,
   "id": "24f6e828",
   "metadata": {},
   "outputs": [
    {
     "data": {
      "text/html": [
       "<style>#sk-container-id-2 {color: black;background-color: white;}#sk-container-id-2 pre{padding: 0;}#sk-container-id-2 div.sk-toggleable {background-color: white;}#sk-container-id-2 label.sk-toggleable__label {cursor: pointer;display: block;width: 100%;margin-bottom: 0;padding: 0.3em;box-sizing: border-box;text-align: center;}#sk-container-id-2 label.sk-toggleable__label-arrow:before {content: \"▸\";float: left;margin-right: 0.25em;color: #696969;}#sk-container-id-2 label.sk-toggleable__label-arrow:hover:before {color: black;}#sk-container-id-2 div.sk-estimator:hover label.sk-toggleable__label-arrow:before {color: black;}#sk-container-id-2 div.sk-toggleable__content {max-height: 0;max-width: 0;overflow: hidden;text-align: left;background-color: #f0f8ff;}#sk-container-id-2 div.sk-toggleable__content pre {margin: 0.2em;color: black;border-radius: 0.25em;background-color: #f0f8ff;}#sk-container-id-2 input.sk-toggleable__control:checked~div.sk-toggleable__content {max-height: 200px;max-width: 100%;overflow: auto;}#sk-container-id-2 input.sk-toggleable__control:checked~label.sk-toggleable__label-arrow:before {content: \"▾\";}#sk-container-id-2 div.sk-estimator input.sk-toggleable__control:checked~label.sk-toggleable__label {background-color: #d4ebff;}#sk-container-id-2 div.sk-label input.sk-toggleable__control:checked~label.sk-toggleable__label {background-color: #d4ebff;}#sk-container-id-2 input.sk-hidden--visually {border: 0;clip: rect(1px 1px 1px 1px);clip: rect(1px, 1px, 1px, 1px);height: 1px;margin: -1px;overflow: hidden;padding: 0;position: absolute;width: 1px;}#sk-container-id-2 div.sk-estimator {font-family: monospace;background-color: #f0f8ff;border: 1px dotted black;border-radius: 0.25em;box-sizing: border-box;margin-bottom: 0.5em;}#sk-container-id-2 div.sk-estimator:hover {background-color: #d4ebff;}#sk-container-id-2 div.sk-parallel-item::after {content: \"\";width: 100%;border-bottom: 1px solid gray;flex-grow: 1;}#sk-container-id-2 div.sk-label:hover label.sk-toggleable__label {background-color: #d4ebff;}#sk-container-id-2 div.sk-serial::before {content: \"\";position: absolute;border-left: 1px solid gray;box-sizing: border-box;top: 0;bottom: 0;left: 50%;z-index: 0;}#sk-container-id-2 div.sk-serial {display: flex;flex-direction: column;align-items: center;background-color: white;padding-right: 0.2em;padding-left: 0.2em;position: relative;}#sk-container-id-2 div.sk-item {position: relative;z-index: 1;}#sk-container-id-2 div.sk-parallel {display: flex;align-items: stretch;justify-content: center;background-color: white;position: relative;}#sk-container-id-2 div.sk-item::before, #sk-container-id-2 div.sk-parallel-item::before {content: \"\";position: absolute;border-left: 1px solid gray;box-sizing: border-box;top: 0;bottom: 0;left: 50%;z-index: -1;}#sk-container-id-2 div.sk-parallel-item {display: flex;flex-direction: column;z-index: 1;position: relative;background-color: white;}#sk-container-id-2 div.sk-parallel-item:first-child::after {align-self: flex-end;width: 50%;}#sk-container-id-2 div.sk-parallel-item:last-child::after {align-self: flex-start;width: 50%;}#sk-container-id-2 div.sk-parallel-item:only-child::after {width: 0;}#sk-container-id-2 div.sk-dashed-wrapped {border: 1px dashed gray;margin: 0 0.4em 0.5em 0.4em;box-sizing: border-box;padding-bottom: 0.4em;background-color: white;}#sk-container-id-2 div.sk-label label {font-family: monospace;font-weight: bold;display: inline-block;line-height: 1.2em;}#sk-container-id-2 div.sk-label-container {text-align: center;}#sk-container-id-2 div.sk-container {/* jupyter's `normalize.less` sets `[hidden] { display: none; }` but bootstrap.min.css set `[hidden] { display: none !important; }` so we also need the `!important` here to be able to override the default hidden behavior on the sphinx rendered scikit-learn.org. See: https://github.com/scikit-learn/scikit-learn/issues/21755 */display: inline-block !important;position: relative;}#sk-container-id-2 div.sk-text-repr-fallback {display: none;}</style><div id=\"sk-container-id-2\" class=\"sk-top-container\"><div class=\"sk-text-repr-fallback\"><pre>DecisionTreeClassifier(criterion=&#x27;entropy&#x27;, max_depth=25, min_samples_leaf=34,\n",
       "                       min_samples_split=63)</pre><b>In a Jupyter environment, please rerun this cell to show the HTML representation or trust the notebook. <br />On GitHub, the HTML representation is unable to render, please try loading this page with nbviewer.org.</b></div><div class=\"sk-container\" hidden><div class=\"sk-item\"><div class=\"sk-estimator sk-toggleable\"><input class=\"sk-toggleable__control sk-hidden--visually\" id=\"sk-estimator-id-2\" type=\"checkbox\" checked><label for=\"sk-estimator-id-2\" class=\"sk-toggleable__label sk-toggleable__label-arrow\">DecisionTreeClassifier</label><div class=\"sk-toggleable__content\"><pre>DecisionTreeClassifier(criterion=&#x27;entropy&#x27;, max_depth=25, min_samples_leaf=34,\n",
       "                       min_samples_split=63)</pre></div></div></div></div></div>"
      ],
      "text/plain": [
       "DecisionTreeClassifier(criterion='entropy', max_depth=25, min_samples_leaf=34,\n",
       "                       min_samples_split=63)"
      ]
     },
     "execution_count": 41,
     "metadata": {},
     "output_type": "execute_result"
    }
   ],
   "source": [
    "df_hyp = DecisionTreeClassifier()\n",
    "\n",
    "hyperparameter = {\"criterion\" : ['gini','entropy'],\n",
    "    \"max_depth\" : np.arange(2,100),\n",
    "    \"min_samples_split\" : np.arange(2,100),\n",
    "    \"min_samples_leaf\" : np.arange(2,100)}\n",
    "\n",
    "rd_model = RandomizedSearchCV(df_hyp,hyperparameter,cv = 5)\n",
    "rd_model.fit(x_train,y_train)\n",
    "rd_model.best_estimator_"
   ]
  },
  {
   "cell_type": "code",
   "execution_count": 42,
   "id": "f43ceda9",
   "metadata": {},
   "outputs": [
    {
     "data": {
      "text/html": [
       "<style>#sk-container-id-3 {color: black;background-color: white;}#sk-container-id-3 pre{padding: 0;}#sk-container-id-3 div.sk-toggleable {background-color: white;}#sk-container-id-3 label.sk-toggleable__label {cursor: pointer;display: block;width: 100%;margin-bottom: 0;padding: 0.3em;box-sizing: border-box;text-align: center;}#sk-container-id-3 label.sk-toggleable__label-arrow:before {content: \"▸\";float: left;margin-right: 0.25em;color: #696969;}#sk-container-id-3 label.sk-toggleable__label-arrow:hover:before {color: black;}#sk-container-id-3 div.sk-estimator:hover label.sk-toggleable__label-arrow:before {color: black;}#sk-container-id-3 div.sk-toggleable__content {max-height: 0;max-width: 0;overflow: hidden;text-align: left;background-color: #f0f8ff;}#sk-container-id-3 div.sk-toggleable__content pre {margin: 0.2em;color: black;border-radius: 0.25em;background-color: #f0f8ff;}#sk-container-id-3 input.sk-toggleable__control:checked~div.sk-toggleable__content {max-height: 200px;max-width: 100%;overflow: auto;}#sk-container-id-3 input.sk-toggleable__control:checked~label.sk-toggleable__label-arrow:before {content: \"▾\";}#sk-container-id-3 div.sk-estimator input.sk-toggleable__control:checked~label.sk-toggleable__label {background-color: #d4ebff;}#sk-container-id-3 div.sk-label input.sk-toggleable__control:checked~label.sk-toggleable__label {background-color: #d4ebff;}#sk-container-id-3 input.sk-hidden--visually {border: 0;clip: rect(1px 1px 1px 1px);clip: rect(1px, 1px, 1px, 1px);height: 1px;margin: -1px;overflow: hidden;padding: 0;position: absolute;width: 1px;}#sk-container-id-3 div.sk-estimator {font-family: monospace;background-color: #f0f8ff;border: 1px dotted black;border-radius: 0.25em;box-sizing: border-box;margin-bottom: 0.5em;}#sk-container-id-3 div.sk-estimator:hover {background-color: #d4ebff;}#sk-container-id-3 div.sk-parallel-item::after {content: \"\";width: 100%;border-bottom: 1px solid gray;flex-grow: 1;}#sk-container-id-3 div.sk-label:hover label.sk-toggleable__label {background-color: #d4ebff;}#sk-container-id-3 div.sk-serial::before {content: \"\";position: absolute;border-left: 1px solid gray;box-sizing: border-box;top: 0;bottom: 0;left: 50%;z-index: 0;}#sk-container-id-3 div.sk-serial {display: flex;flex-direction: column;align-items: center;background-color: white;padding-right: 0.2em;padding-left: 0.2em;position: relative;}#sk-container-id-3 div.sk-item {position: relative;z-index: 1;}#sk-container-id-3 div.sk-parallel {display: flex;align-items: stretch;justify-content: center;background-color: white;position: relative;}#sk-container-id-3 div.sk-item::before, #sk-container-id-3 div.sk-parallel-item::before {content: \"\";position: absolute;border-left: 1px solid gray;box-sizing: border-box;top: 0;bottom: 0;left: 50%;z-index: -1;}#sk-container-id-3 div.sk-parallel-item {display: flex;flex-direction: column;z-index: 1;position: relative;background-color: white;}#sk-container-id-3 div.sk-parallel-item:first-child::after {align-self: flex-end;width: 50%;}#sk-container-id-3 div.sk-parallel-item:last-child::after {align-self: flex-start;width: 50%;}#sk-container-id-3 div.sk-parallel-item:only-child::after {width: 0;}#sk-container-id-3 div.sk-dashed-wrapped {border: 1px dashed gray;margin: 0 0.4em 0.5em 0.4em;box-sizing: border-box;padding-bottom: 0.4em;background-color: white;}#sk-container-id-3 div.sk-label label {font-family: monospace;font-weight: bold;display: inline-block;line-height: 1.2em;}#sk-container-id-3 div.sk-label-container {text-align: center;}#sk-container-id-3 div.sk-container {/* jupyter's `normalize.less` sets `[hidden] { display: none; }` but bootstrap.min.css set `[hidden] { display: none !important; }` so we also need the `!important` here to be able to override the default hidden behavior on the sphinx rendered scikit-learn.org. See: https://github.com/scikit-learn/scikit-learn/issues/21755 */display: inline-block !important;position: relative;}#sk-container-id-3 div.sk-text-repr-fallback {display: none;}</style><div id=\"sk-container-id-3\" class=\"sk-top-container\"><div class=\"sk-text-repr-fallback\"><pre>DecisionTreeClassifier(criterion=&#x27;entropy&#x27;, max_depth=25, min_samples_leaf=34,\n",
       "                       min_samples_split=63)</pre><b>In a Jupyter environment, please rerun this cell to show the HTML representation or trust the notebook. <br />On GitHub, the HTML representation is unable to render, please try loading this page with nbviewer.org.</b></div><div class=\"sk-container\" hidden><div class=\"sk-item\"><div class=\"sk-estimator sk-toggleable\"><input class=\"sk-toggleable__control sk-hidden--visually\" id=\"sk-estimator-id-3\" type=\"checkbox\" checked><label for=\"sk-estimator-id-3\" class=\"sk-toggleable__label sk-toggleable__label-arrow\">DecisionTreeClassifier</label><div class=\"sk-toggleable__content\"><pre>DecisionTreeClassifier(criterion=&#x27;entropy&#x27;, max_depth=25, min_samples_leaf=34,\n",
       "                       min_samples_split=63)</pre></div></div></div></div></div>"
      ],
      "text/plain": [
       "DecisionTreeClassifier(criterion='entropy', max_depth=25, min_samples_leaf=34,\n",
       "                       min_samples_split=63)"
      ]
     },
     "execution_count": 42,
     "metadata": {},
     "output_type": "execute_result"
    }
   ],
   "source": [
    "dt_hyp = rd_model.best_estimator_\n",
    "dt_hyp.fit(x_train,y_train)"
   ]
  },
  {
   "cell_type": "code",
   "execution_count": 43,
   "id": "b7a0baeb",
   "metadata": {},
   "outputs": [
    {
     "name": "stdout",
     "output_type": "stream",
     "text": [
      "Accuracy_score : \n",
      " 0.861605795351645\n",
      "classification_report : \n",
      "               precision    recall  f1-score   support\n",
      "\n",
      "           0       0.82      0.89      0.86      3060\n",
      "           1       0.90      0.84      0.87      3566\n",
      "\n",
      "    accuracy                           0.86      6626\n",
      "   macro avg       0.86      0.86      0.86      6626\n",
      "weighted avg       0.86      0.86      0.86      6626\n",
      "\n",
      "confusion_matrix : \n",
      " [[2728  332]\n",
      " [ 585 2981]]\n"
     ]
    }
   ],
   "source": [
    "## Training\n",
    "\n",
    "y_train_pred = dt_hyp.predict(x_train)\n",
    "\n",
    "acc_score = accuracy_score(y_train_pred, y_train)\n",
    "print(\"Accuracy_score : \\n\",acc_score)\n",
    "\n",
    "clf_report = classification_report(y_train_pred, y_train)\n",
    "print(\"classification_report : \\n\",clf_report)\n",
    "\n",
    "conf_matrix = confusion_matrix(y_train_pred, y_train)\n",
    "print(\"confusion_matrix : \\n\",conf_matrix)"
   ]
  },
  {
   "cell_type": "code",
   "execution_count": 44,
   "id": "c1da1faa",
   "metadata": {},
   "outputs": [
    {
     "name": "stdout",
     "output_type": "stream",
     "text": [
      "Accuracy_score : \n",
      " 0.844718309859155\n",
      "classification_report : \n",
      "               precision    recall  f1-score   support\n",
      "\n",
      "           0       0.79      0.89      0.84      1267\n",
      "           1       0.90      0.81      0.85      1573\n",
      "\n",
      "    accuracy                           0.84      2840\n",
      "   macro avg       0.84      0.85      0.84      2840\n",
      "weighted avg       0.85      0.84      0.85      2840\n",
      "\n",
      "confusion_matrix : \n",
      " [[1123  144]\n",
      " [ 297 1276]]\n"
     ]
    }
   ],
   "source": [
    "## testing\n",
    "\n",
    "y_test_pred = dt_hyp.predict(x_test)\n",
    "\n",
    "acc_score = accuracy_score(y_test_pred, y_test)\n",
    "print(\"Accuracy_score : \\n\",acc_score)\n",
    "\n",
    "clf_report = classification_report(y_test_pred, y_test)\n",
    "print(\"classification_report : \\n\",clf_report)\n",
    "\n",
    "conf_matrix = confusion_matrix(y_test_pred, y_test)\n",
    "print(\"confusion_matrix : \\n\",conf_matrix)                               ## "
   ]
  },
  {
   "cell_type": "markdown",
   "id": "e79e31ce",
   "metadata": {},
   "source": [
    "## Pruning\n"
   ]
  },
  {
   "cell_type": "code",
   "execution_count": 45,
   "id": "6f20b291",
   "metadata": {},
   "outputs": [],
   "source": [
    "dt_clf = DecisionTreeClassifier(random_state=13)"
   ]
  },
  {
   "cell_type": "code",
   "execution_count": 46,
   "id": "dce41989",
   "metadata": {},
   "outputs": [
    {
     "data": {
      "text/plain": [
       "array([0.00000000e+00, 1.44632257e-04, 1.46481774e-04, 1.46608598e-04,\n",
       "       1.47327268e-04, 1.47902203e-04, 1.48272886e-04, 1.48362639e-04,\n",
       "       1.48525050e-04, 1.48525050e-04, 1.48668069e-04, 1.48701195e-04,\n",
       "       1.48960608e-04, 1.48960608e-04, 1.49034108e-04, 1.49185896e-04,\n",
       "       1.49536023e-04, 1.94839313e-04, 1.96067809e-04, 2.58721056e-04,\n",
       "       2.58721056e-04, 2.71657108e-04, 2.75363931e-04, 2.76927352e-04,\n",
       "       2.79203139e-04, 2.80063365e-04, 2.80281144e-04, 2.80409477e-04,\n",
       "       2.80949673e-04, 2.81024595e-04, 2.81718483e-04, 2.82933293e-04,\n",
       "       2.83133364e-04, 2.83340096e-04, 2.84204234e-04, 2.85072274e-04,\n",
       "       2.85954851e-04, 2.86749170e-04, 2.87467840e-04, 2.87767285e-04,\n",
       "       2.88573485e-04, 2.88996924e-04, 2.89300355e-04, 2.89767582e-04,\n",
       "       2.89767582e-04, 2.90282210e-04, 2.90989018e-04, 2.91061188e-04,\n",
       "       2.91061188e-04, 2.91432913e-04, 2.91432913e-04, 2.92025257e-04,\n",
       "       2.92104418e-04, 2.92104418e-04, 2.93456753e-04, 2.93683360e-04,\n",
       "       2.94001200e-04, 2.94694667e-04, 2.94981204e-04, 2.95922776e-04,\n",
       "       2.95922776e-04, 2.96146114e-04, 2.96637072e-04, 2.97050101e-04,\n",
       "       3.20555873e-04, 3.21080453e-04, 4.14080513e-04, 4.18419841e-04,\n",
       "       4.55697490e-04, 4.56911631e-04, 4.87752810e-04, 4.91929340e-04,\n",
       "       4.96522635e-04, 4.99944069e-04, 5.00264451e-04, 5.08808225e-04,\n",
       "       5.14028188e-04, 5.19238785e-04, 5.22186413e-04, 5.27248474e-04,\n",
       "       5.28222155e-04, 5.32660997e-04, 5.36234404e-04, 5.36606634e-04,\n",
       "       5.39911682e-04, 5.49636956e-04, 5.50911366e-04, 5.51486598e-04,\n",
       "       5.61377043e-04, 5.62934346e-04, 5.63610437e-04, 5.64482303e-04,\n",
       "       5.69082262e-04, 6.04407172e-04, 6.36222523e-04, 6.77501946e-04,\n",
       "       6.91337382e-04, 7.15518509e-04, 7.26201468e-04, 7.60514716e-04,\n",
       "       7.65011397e-04, 7.67686922e-04, 7.69557801e-04, 7.70435506e-04,\n",
       "       7.76163167e-04, 7.76304622e-04, 7.77657709e-04, 7.77690774e-04,\n",
       "       7.86616543e-04, 8.21678908e-04, 8.22020022e-04, 8.26926272e-04,\n",
       "       8.30063387e-04, 8.49428780e-04, 8.57864553e-04, 9.01451936e-04,\n",
       "       9.05523695e-04, 9.31997753e-04, 9.41940643e-04, 9.45275579e-04,\n",
       "       9.53182836e-04, 9.82867196e-04, 9.88746091e-04, 1.03950424e-03,\n",
       "       1.06077934e-03, 1.15500471e-03, 1.21815237e-03, 1.23305354e-03,\n",
       "       1.29444583e-03, 1.30328791e-03, 1.36863444e-03, 1.38578120e-03,\n",
       "       1.42537977e-03, 1.42920005e-03, 1.44883791e-03, 1.46715187e-03,\n",
       "       1.47406756e-03, 1.50904826e-03, 1.57417389e-03, 1.59026812e-03,\n",
       "       1.64806354e-03, 1.64944843e-03, 1.66012677e-03, 1.73114824e-03,\n",
       "       1.77716840e-03, 1.82321578e-03, 1.85296216e-03, 1.85716202e-03,\n",
       "       1.89086536e-03, 1.91156402e-03, 1.95796968e-03, 1.96860478e-03,\n",
       "       1.97939460e-03, 2.15595216e-03, 2.20652994e-03, 2.21463074e-03,\n",
       "       2.29081478e-03, 2.37992506e-03, 2.47767140e-03, 2.90425578e-03,\n",
       "       3.22459413e-03, 3.31361575e-03, 3.47996219e-03, 3.75527215e-03,\n",
       "       3.99035499e-03, 4.47971907e-03, 5.42336233e-03, 8.44532566e-03,\n",
       "       1.28975042e-02, 1.49573512e-02, 1.50731166e-01])"
      ]
     },
     "execution_count": 46,
     "metadata": {},
     "output_type": "execute_result"
    }
   ],
   "source": [
    "ccp_dict = dt_clf.cost_complexity_pruning_path(x_train,y_train)\n",
    "ccp_alphas = ccp_dict['ccp_alphas']\n",
    "ccp_alphas"
   ]
  },
  {
   "cell_type": "code",
   "execution_count": 47,
   "id": "8da8944e",
   "metadata": {},
   "outputs": [
    {
     "name": "stdout",
     "output_type": "stream",
     "text": [
      "0.0 1.0 0.9690140845070423\n",
      "0.00014463225676627437 0.9998490793842438 0.9690140845070423\n",
      "0.0001464817741162266 0.9996981587684878 0.9690140845070423\n",
      "0.0001466085981630805 0.9995472381527316 0.9690140845070423\n",
      "0.00014732726776191908 0.9993963175369756 0.9690140845070423\n",
      "0.0001479022034409901 0.9992453969212194 0.9690140845070423\n",
      "0.0001482728856551279 0.9990944763054633 0.9690140845070423\n",
      "0.00014836263921787316 0.9989435556897072 0.9690140845070423\n",
      "0.00014852505042665026 0.9986417144581949 0.9690140845070423\n",
      "0.00014852505042665026 0.9986417144581949 0.9690140845070423\n",
      "0.00014866806925228955 0.9984907938424389 0.9690140845070423\n",
      "0.0001487011949361696 0.9983398732266827 0.9690140845070423\n",
      "0.00014896060775927955 0.9980380319951705 0.9686619718309859\n",
      "0.00014896060775927955 0.9980380319951705 0.9686619718309859\n",
      "0.00014903410805916072 0.9978871113794144 0.9686619718309859\n",
      "0.00014918589603477736 0.9977361907636583 0.9683098591549296\n",
      "0.0001495360229510105 0.9975852701479022 0.9683098591549296\n",
      "0.0001948393134629173 0.99728342891639 0.9683098591549296\n",
      "0.00019606780850366708 0.9969815876848778 0.9683098591549296\n",
      "0.0002587210555819068 0.9966797464533655 0.9683098591549296\n",
      "0.0002587210555819068 0.9966797464533655 0.9683098591549296\n",
      "0.0002716571083610022 0.9965288258376094 0.9683098591549296\n",
      "0.0002753639305023804 0.9957742227588289 0.9672535211267606\n",
      "0.00027692735208581883 0.9956233021430727 0.9672535211267606\n",
      "0.0002792031391488078 0.9951705402958044 0.9672535211267606\n",
      "0.0002800633648807509 0.9948686990642922 0.9665492957746479\n",
      "0.00028028114354706574 0.994717778448536 0.9665492957746479\n",
      "0.00028040947740400106 0.9944159372170238 0.9665492957746479\n",
      "0.00028094967340645046 0.9942650166012678 0.9661971830985916\n",
      "0.000281024594856209 0.9939631753697555 0.9661971830985916\n",
      "0.000281718482744743 0.9938122547539994 0.9661971830985916\n",
      "0.00028293329328377343 0.9936613341382433 0.9661971830985916\n",
      "0.00028313336351745645 0.9930576516752189 0.9658450704225352\n",
      "0.00028334009619853274 0.9927558104437066 0.9658450704225352\n",
      "0.0002842042340630789 0.9926048898279505 0.9658450704225352\n",
      "0.00028507227420598993 0.9921521279806822 0.9658450704225352\n",
      "0.00028595485090631816 0.992001207364926 0.9651408450704225\n",
      "0.00028674916993661327 0.9915484455176578 0.9647887323943662\n",
      "0.0002874678395354521 0.9913975249019016 0.9644366197183099\n",
      "0.00028776728520163463 0.9913975249019016 0.9644366197183099\n",
      "0.0002885734850721267 0.9907938424388771 0.9640845070422536\n",
      "0.0002889969237883002 0.9901901599758527 0.9637323943661972\n",
      "0.00028930035538669814 0.9897373981285844 0.9630281690140845\n",
      "0.0002897675822517355 0.9894355568970722 0.9630281690140845\n",
      "0.0002897675822517355 0.9894355568970722 0.9630281690140845\n",
      "0.00029028220999244216 0.989284636281316 0.9630281690140845\n",
      "0.0002909890176343988 0.9889827950498038 0.9630281690140845\n",
      "0.0002910611875296451 0.9886809538182916 0.9630281690140845\n",
      "0.0002910611875296451 0.9886809538182916 0.9630281690140845\n",
      "0.0002914329131842166 0.9883791125867794 0.9630281690140845\n",
      "0.0002914329131842166 0.9883791125867794 0.9630281690140845\n",
      "0.00029202525650369677 0.9877754301237549 0.9626760563380282\n",
      "0.0002921044175924752 0.9876245095079987 0.9626760563380282\n",
      "0.00029210441759247525 0.9871717476607305 0.9609154929577465\n",
      "0.0002934567528591073 0.9870208270449743 0.9602112676056338\n",
      "0.00029368336039027284 0.9868699064292182 0.9602112676056338\n",
      "0.00029400119952489417 0.986568065197706 0.9602112676056338\n",
      "0.0002946946667277042 0.9862662239661938 0.9591549295774648\n",
      "0.00029498120352331033 0.9861153033504376 0.9591549295774648\n",
      "0.0002959227759923774 0.9856625415031693 0.9591549295774648\n",
      "0.0002959227759923774 0.9856625415031693 0.9591549295774648\n",
      "0.0002961461139365219 0.9855116208874132 0.9591549295774648\n",
      "0.00029663707234822115 0.9853607002716571 0.9591549295774648\n",
      "0.0002970501008533005 0.985209779655901 0.9591549295774648\n",
      "0.00032055587285113966 0.9824932085722909 0.956338028169014\n",
      "0.00032108045252689953 0.9814367642619982 0.9549295774647887\n",
      "0.0004140805129779049 0.9809840024147298 0.9545774647887324\n",
      "0.00041841984141624875 0.9805312405674615 0.954225352112676\n",
      "0.0004556974901819883 0.9797766374886809 0.954225352112676\n",
      "0.00045691163125157554 0.9790220344099004 0.953169014084507\n",
      "0.0004877528097035945 0.9782674313311198 0.9528169014084507\n",
      "0.0004919293404050423 0.9779655900996076 0.951056338028169\n",
      "0.0004965226346425637 0.9763054633262904 0.9485915492957746\n",
      "0.0004999440687573074 0.9760036220947782 0.9485915492957746\n",
      "0.0005002644509888689 0.975701780863266 0.9485915492957746\n",
      "0.0005088082252354144 0.9753999396317536 0.9482394366197183\n",
      "0.0005140281881032034 0.974494415937217 0.9475352112676056\n",
      "0.00051923878516091 0.9741925747057048 0.9475352112676056\n",
      "0.0005221864131604508 0.9702686386960458 0.9440140845070423\n",
      "0.0005272484737544183 0.9699667974645336 0.9433098591549296\n",
      "0.000528222155146393 0.9696649562330214 0.9433098591549296\n",
      "0.0005326609967862785 0.9693631150015092 0.9433098591549296\n",
      "0.0005362344038926017 0.969061273769997 0.9433098591549296\n",
      "0.0005366066337995103 0.9687594325384847 0.9429577464788732\n",
      "0.0005399116817478499 0.9684575913069725 0.9429577464788732\n",
      "0.0005496369558054931 0.9675520676124358 0.9419014084507042\n",
      "0.0005509113657090265 0.9675520676124358 0.9419014084507042\n",
      "0.0005514865978914068 0.9672502263809236 0.9419014084507042\n",
      "0.0005613770428699004 0.9669483851494114 0.9419014084507042\n",
      "0.0005629343455381126 0.9666465439178992 0.9411971830985916\n",
      "0.0005636104374616187 0.966344702686387 0.9411971830985916\n",
      "0.0005644823030877967 0.9657410202233625 0.9397887323943662\n",
      "0.0005690822615238019 0.9654391789918503 0.9390845070422535\n",
      "0.0006044071718636141 0.9634772109870209 0.9376760563380282\n",
      "0.000636222523094511 0.9619680048294597 0.9369718309859155\n",
      "0.0006775019458773335 0.9609115605191669 0.9369718309859155\n",
      "0.0006913373817003191 0.9604587986718985 0.9369718309859155\n",
      "0.0007155185090591092 0.9600060368246303 0.9369718309859155\n",
      "0.0007262014675775562 0.9578931482040447 0.9345070422535211\n",
      "0.0007605147158032662 0.9574403863567763 0.9341549295774648\n",
      "0.0007650113971085693 0.956987624509508 0.9341549295774648\n",
      "0.000767686922485225 0.9565348626622396 0.9334507042253521\n",
      "0.0007695578010698423 0.9560821008149714 0.9330985915492958\n",
      "0.000770435505641014 0.9560821008149714 0.9330985915492958\n",
      "0.0007761631667457205 0.955629338967703 0.9330985915492958\n",
      "0.0007763046216694939 0.9551765771204347 0.9327464788732395\n",
      "0.0007776577088976277 0.952912767884093 0.930281690140845\n",
      "0.0007776907736224792 0.9523090854210685 0.9295774647887324\n",
      "0.0007866165427288273 0.9521581648053125 0.928169014084507\n",
      "0.0008216789080055 0.951554482342288 0.9278169014084507\n",
      "0.000822020021593697 0.9500452761847268 0.9274647887323944\n",
      "0.0008269262718152703 0.9500452761847268 0.9274647887323944\n",
      "0.0008300633866586176 0.9486869906429218 0.9264084507042254\n",
      "0.000849428779679083 0.946272260790824 0.9253521126760563\n",
      "0.0008578645527189544 0.9453667370962874 0.922887323943662\n",
      "0.0009014519359884151 0.943555689707214 0.920774647887324\n",
      "0.0009055236945366737 0.9423483247811651 0.9179577464788733\n",
      "0.0009319977532626072 0.9417446423181407 0.9176056338028169\n",
      "0.0009419406431178238 0.9400845155448234 0.9169014084507042\n",
      "0.0009452755789288864 0.939480833081799 0.9169014084507042\n",
      "0.0009531828363543935 0.9388771506187745 0.9158450704225352\n",
      "0.0009828671959480643 0.9364624207666767 0.9102112676056338\n",
      "0.0009887460908280918 0.934047690914579 0.9080985915492957\n",
      "0.0010395042411773022 0.9334440084515545 0.907394366197183\n",
      "0.0010607793377694593 0.9293691518261394 0.9038732394366197\n",
      "0.0011550047124192272 0.9283127075158467 0.9035211267605634\n",
      "0.0012181523688262496 0.9248415333534561 0.8996478873239436\n",
      "0.0012330535414967472 0.9239360096589194 0.898943661971831\n",
      "0.001294445827147942 0.9222758828856021 0.8961267605633803\n",
      "0.001303287911228066 0.920615756112285 0.8950704225352113\n",
      "0.0013686344366877186 0.917899185028675 0.8929577464788733\n",
      "0.0013857812005460025 0.9168427407183821 0.8929577464788733\n",
      "0.001425379771180972 0.9168427407183821 0.8929577464788733\n",
      "0.0014292000480036658 0.9074856625415032 0.8897887323943662\n",
      "0.0014488379112586776 0.9059764563839421 0.8890845070422535\n",
      "0.0014671518677399128 0.8934500452761848 0.8820422535211268\n",
      "0.001474067559731291 0.8877150618774524 0.8778169014084507\n",
      "0.0015090482632813453 0.8866586175671597 0.8757042253521127\n"
     ]
    },
    {
     "name": "stdout",
     "output_type": "stream",
     "text": [
      "0.001574173889296135 0.8854512526411108 0.8753521126760564\n",
      "0.001590268124227808 0.880319951705403 0.8686619718309859\n",
      "0.0016480635383603042 0.8780561424690613 0.8672535211267606\n",
      "0.0016494484278627933 0.8751886507696951 0.8623239436619718\n",
      "0.001660126773317235 0.8739812858436462 0.8619718309859155\n",
      "0.001731148239555406 0.8720193178388168 0.8591549295774648\n",
      "0.0017771684030345434 0.8638696045879867 0.8538732394366197\n",
      "0.0018232157804738292 0.8607002716571084 0.8514084507042253\n",
      "0.001852962160085613 0.8564744944159373 0.846830985915493\n",
      "0.001857162021665493 0.8545125264111078 0.8454225352112676\n",
      "0.0018908653587001167 0.8505885904014489 0.842605633802817\n",
      "0.0019115640153973992 0.8492303048596438 0.8419014084507043\n",
      "0.001957969678014003 0.8459100513130093 0.8397887323943662\n",
      "0.001968604783505677 0.8421370359191066 0.8366197183098592\n",
      "0.001979394601738845 0.8370057349833987 0.829225352112676\n",
      "0.002155952163343435 0.8353456082100815 0.8302816901408451\n",
      "0.0022065299373722064 0.833232719589496 0.829225352112676\n",
      "0.0022146307428585416 0.830667069121642 0.827112676056338\n",
      "0.0022908147763885355 0.830667069121642 0.827112676056338\n",
      "0.002379925057373804 0.8208572290974947 0.8179577464788732\n",
      "0.002477671399221887 0.8179897373981286 0.8151408450704225\n",
      "0.0029042557770121488 0.8136130395412013 0.8112676056338028\n",
      "0.003224594134478515 0.810443706610323 0.8105633802816902\n",
      "0.0033136157539512454 0.8006338665861756 0.8021126760563381\n",
      "0.0034799621941463224 0.7964080893450045 0.793661971830986\n",
      "0.003755272147966675 0.7926350739511017 0.7869718309859155\n",
      "0.003990354990325781 0.7887111379414428 0.778169014084507\n",
      "0.00447971907326189 0.7887111379414428 0.778169014084507\n",
      "0.005423362333503885 0.7798068216118321 0.776056338028169\n",
      "0.008445325660144859 0.7681859341986115 0.7644366197183099\n",
      "0.012897504162385248 0.7681859341986115 0.7644366197183099\n",
      "0.014957351200063168 0.7681859341986115 0.7644366197183099\n",
      "0.15073116617604032 0.7681859341986115 0.7644366197183099\n"
     ]
    }
   ],
   "source": [
    "r2_score_train_list = []\n",
    "r2_score_test_list =  []\n",
    "\n",
    "for ccp in ccp_alphas:\n",
    "    dt_clf_pruning = DecisionTreeClassifier(random_state=15,ccp_alpha=ccp)\n",
    "    dt_clf_pruning.fit(x_train,y_train)\n",
    "    r2_score_train = dt_clf_pruning.score(x_train,y_train)\n",
    "    r2_score_test = dt_clf_pruning.score(x_test,y_test)\n",
    "    r2_score_train_list.append(r2_score_train)\n",
    "    r2_score_test_list.append(r2_score_test)\n",
    "    print(ccp,r2_score_train,r2_score_test)"
   ]
  },
  {
   "cell_type": "code",
   "execution_count": 48,
   "id": "7006e202",
   "metadata": {},
   "outputs": [
    {
     "data": {
      "text/plain": [
       "0.9690140845070423"
      ]
     },
     "execution_count": 48,
     "metadata": {},
     "output_type": "execute_result"
    }
   ],
   "source": [
    "max(r2_score_test_list)"
   ]
  },
  {
   "cell_type": "code",
   "execution_count": 49,
   "id": "65c93ce9",
   "metadata": {},
   "outputs": [
    {
     "data": {
      "text/plain": [
       "(array([ 0,  1,  2,  3,  4,  5,  6,  7,  8,  9, 10, 11], dtype=int64),)"
      ]
     },
     "execution_count": 49,
     "metadata": {},
     "output_type": "execute_result"
    }
   ],
   "source": [
    "np.where(r2_score_test_list == max(r2_score_test_list))"
   ]
  },
  {
   "cell_type": "code",
   "execution_count": 50,
   "id": "77b187ce",
   "metadata": {},
   "outputs": [
    {
     "data": {
      "text/plain": [
       "(array([ 0,  1,  2,  3,  4,  5,  6,  7,  8,  9, 10, 11], dtype=int64),)"
      ]
     },
     "execution_count": 50,
     "metadata": {},
     "output_type": "execute_result"
    }
   ],
   "source": [
    "np.where(r2_score_test_list  == max(r2_score_test_list))"
   ]
  },
  {
   "cell_type": "code",
   "execution_count": 51,
   "id": "2e29d15d",
   "metadata": {},
   "outputs": [
    {
     "data": {
      "text/plain": [
       "0.9998490793842438"
      ]
     },
     "execution_count": 51,
     "metadata": {},
     "output_type": "execute_result"
    }
   ],
   "source": [
    "r2_score_train_list[1]"
   ]
  },
  {
   "cell_type": "code",
   "execution_count": 52,
   "id": "73b89059",
   "metadata": {},
   "outputs": [
    {
     "data": {
      "text/plain": [
       "0.00014463225676627437"
      ]
     },
     "execution_count": 52,
     "metadata": {},
     "output_type": "execute_result"
    }
   ],
   "source": [
    "ccp_alphas[1]"
   ]
  },
  {
   "cell_type": "code",
   "execution_count": 53,
   "id": "740541eb",
   "metadata": {},
   "outputs": [
    {
     "data": {
      "text/html": [
       "<style>#sk-container-id-4 {color: black;background-color: white;}#sk-container-id-4 pre{padding: 0;}#sk-container-id-4 div.sk-toggleable {background-color: white;}#sk-container-id-4 label.sk-toggleable__label {cursor: pointer;display: block;width: 100%;margin-bottom: 0;padding: 0.3em;box-sizing: border-box;text-align: center;}#sk-container-id-4 label.sk-toggleable__label-arrow:before {content: \"▸\";float: left;margin-right: 0.25em;color: #696969;}#sk-container-id-4 label.sk-toggleable__label-arrow:hover:before {color: black;}#sk-container-id-4 div.sk-estimator:hover label.sk-toggleable__label-arrow:before {color: black;}#sk-container-id-4 div.sk-toggleable__content {max-height: 0;max-width: 0;overflow: hidden;text-align: left;background-color: #f0f8ff;}#sk-container-id-4 div.sk-toggleable__content pre {margin: 0.2em;color: black;border-radius: 0.25em;background-color: #f0f8ff;}#sk-container-id-4 input.sk-toggleable__control:checked~div.sk-toggleable__content {max-height: 200px;max-width: 100%;overflow: auto;}#sk-container-id-4 input.sk-toggleable__control:checked~label.sk-toggleable__label-arrow:before {content: \"▾\";}#sk-container-id-4 div.sk-estimator input.sk-toggleable__control:checked~label.sk-toggleable__label {background-color: #d4ebff;}#sk-container-id-4 div.sk-label input.sk-toggleable__control:checked~label.sk-toggleable__label {background-color: #d4ebff;}#sk-container-id-4 input.sk-hidden--visually {border: 0;clip: rect(1px 1px 1px 1px);clip: rect(1px, 1px, 1px, 1px);height: 1px;margin: -1px;overflow: hidden;padding: 0;position: absolute;width: 1px;}#sk-container-id-4 div.sk-estimator {font-family: monospace;background-color: #f0f8ff;border: 1px dotted black;border-radius: 0.25em;box-sizing: border-box;margin-bottom: 0.5em;}#sk-container-id-4 div.sk-estimator:hover {background-color: #d4ebff;}#sk-container-id-4 div.sk-parallel-item::after {content: \"\";width: 100%;border-bottom: 1px solid gray;flex-grow: 1;}#sk-container-id-4 div.sk-label:hover label.sk-toggleable__label {background-color: #d4ebff;}#sk-container-id-4 div.sk-serial::before {content: \"\";position: absolute;border-left: 1px solid gray;box-sizing: border-box;top: 0;bottom: 0;left: 50%;z-index: 0;}#sk-container-id-4 div.sk-serial {display: flex;flex-direction: column;align-items: center;background-color: white;padding-right: 0.2em;padding-left: 0.2em;position: relative;}#sk-container-id-4 div.sk-item {position: relative;z-index: 1;}#sk-container-id-4 div.sk-parallel {display: flex;align-items: stretch;justify-content: center;background-color: white;position: relative;}#sk-container-id-4 div.sk-item::before, #sk-container-id-4 div.sk-parallel-item::before {content: \"\";position: absolute;border-left: 1px solid gray;box-sizing: border-box;top: 0;bottom: 0;left: 50%;z-index: -1;}#sk-container-id-4 div.sk-parallel-item {display: flex;flex-direction: column;z-index: 1;position: relative;background-color: white;}#sk-container-id-4 div.sk-parallel-item:first-child::after {align-self: flex-end;width: 50%;}#sk-container-id-4 div.sk-parallel-item:last-child::after {align-self: flex-start;width: 50%;}#sk-container-id-4 div.sk-parallel-item:only-child::after {width: 0;}#sk-container-id-4 div.sk-dashed-wrapped {border: 1px dashed gray;margin: 0 0.4em 0.5em 0.4em;box-sizing: border-box;padding-bottom: 0.4em;background-color: white;}#sk-container-id-4 div.sk-label label {font-family: monospace;font-weight: bold;display: inline-block;line-height: 1.2em;}#sk-container-id-4 div.sk-label-container {text-align: center;}#sk-container-id-4 div.sk-container {/* jupyter's `normalize.less` sets `[hidden] { display: none; }` but bootstrap.min.css set `[hidden] { display: none !important; }` so we also need the `!important` here to be able to override the default hidden behavior on the sphinx rendered scikit-learn.org. See: https://github.com/scikit-learn/scikit-learn/issues/21755 */display: inline-block !important;position: relative;}#sk-container-id-4 div.sk-text-repr-fallback {display: none;}</style><div id=\"sk-container-id-4\" class=\"sk-top-container\"><div class=\"sk-text-repr-fallback\"><pre>DecisionTreeClassifier(ccp_alpha=0.00014373391976772604, random_state=16)</pre><b>In a Jupyter environment, please rerun this cell to show the HTML representation or trust the notebook. <br />On GitHub, the HTML representation is unable to render, please try loading this page with nbviewer.org.</b></div><div class=\"sk-container\" hidden><div class=\"sk-item\"><div class=\"sk-estimator sk-toggleable\"><input class=\"sk-toggleable__control sk-hidden--visually\" id=\"sk-estimator-id-4\" type=\"checkbox\" checked><label for=\"sk-estimator-id-4\" class=\"sk-toggleable__label sk-toggleable__label-arrow\">DecisionTreeClassifier</label><div class=\"sk-toggleable__content\"><pre>DecisionTreeClassifier(ccp_alpha=0.00014373391976772604, random_state=16)</pre></div></div></div></div></div>"
      ],
      "text/plain": [
       "DecisionTreeClassifier(ccp_alpha=0.00014373391976772604, random_state=16)"
      ]
     },
     "execution_count": 53,
     "metadata": {},
     "output_type": "execute_result"
    }
   ],
   "source": [
    "dt_clf_after_prun = DecisionTreeClassifier(random_state=16,ccp_alpha=0.00014373391976772604)\n",
    "dt_clf_after_prun.fit(x_train,y_train)"
   ]
  },
  {
   "cell_type": "code",
   "execution_count": 54,
   "id": "bda7db7b",
   "metadata": {},
   "outputs": [
    {
     "name": "stdout",
     "output_type": "stream",
     "text": [
      "Accuracy_score : \n",
      " 1.0\n",
      "classification_report : \n",
      "               precision    recall  f1-score   support\n",
      "\n",
      "           0       1.00      1.00      1.00      3313\n",
      "           1       1.00      1.00      1.00      3313\n",
      "\n",
      "    accuracy                           1.00      6626\n",
      "   macro avg       1.00      1.00      1.00      6626\n",
      "weighted avg       1.00      1.00      1.00      6626\n",
      "\n",
      "confusion_matrix : \n",
      " [[3313    0]\n",
      " [   0 3313]]\n"
     ]
    }
   ],
   "source": [
    "## Training\n",
    "\n",
    "y_train_pred = dt_clf_after_prun.predict(x_train)\n",
    "\n",
    "acc_score = accuracy_score(y_train_pred, y_train)\n",
    "print(\"Accuracy_score : \\n\",acc_score)\n",
    "\n",
    "clf_report = classification_report(y_train_pred, y_train)\n",
    "print(\"classification_report : \\n\",clf_report)\n",
    "\n",
    "conf_matrix = confusion_matrix(y_train_pred, y_train)\n",
    "print(\"confusion_matrix : \\n\",conf_matrix)"
   ]
  },
  {
   "cell_type": "code",
   "execution_count": 55,
   "id": "3ee01be2",
   "metadata": {},
   "outputs": [
    {
     "name": "stdout",
     "output_type": "stream",
     "text": [
      "Accuracy_score : \n",
      " 0.9693661971830986\n",
      "classification_report : \n",
      "               precision    recall  f1-score   support\n",
      "\n",
      "           0       0.94      1.00      0.97      1333\n",
      "           1       1.00      0.94      0.97      1507\n",
      "\n",
      "    accuracy                           0.97      2840\n",
      "   macro avg       0.97      0.97      0.97      2840\n",
      "weighted avg       0.97      0.97      0.97      2840\n",
      "\n",
      "confusion_matrix : \n",
      " [[1333    0]\n",
      " [  87 1420]]\n"
     ]
    }
   ],
   "source": [
    "## testing\n",
    "\n",
    "y_test_pred = dt_clf_after_prun.predict(x_test)\n",
    "\n",
    "acc_score = accuracy_score(y_test_pred, y_test)\n",
    "print(\"Accuracy_score : \\n\",acc_score)\n",
    "\n",
    "clf_report = classification_report(y_test_pred, y_test)\n",
    "print(\"classification_report : \\n\",clf_report)\n",
    "\n",
    "conf_matrix = confusion_matrix(y_test_pred, y_test)\n",
    "print(\"confusion_matrix : \\n\",conf_matrix)                               ## "
   ]
  },
  {
   "cell_type": "code",
   "execution_count": 56,
   "id": "8237b9fb",
   "metadata": {},
   "outputs": [
    {
     "data": {
      "text/plain": [
       "array([0.01446534, 0.45052801, 0.02031797, 0.01283506, 0.00735101,\n",
       "       0.01847562, 0.00877862, 0.2319313 , 0.18788373, 0.04743334])"
      ]
     },
     "execution_count": 56,
     "metadata": {},
     "output_type": "execute_result"
    }
   ],
   "source": [
    "dt_clf_after_prun.feature_importances_"
   ]
  },
  {
   "cell_type": "code",
   "execution_count": 57,
   "id": "b2b9838e",
   "metadata": {},
   "outputs": [
    {
     "name": "stderr",
     "output_type": "stream",
     "text": [
      "C:\\Users\\hp\\AppData\\Local\\Temp\\ipykernel_18168\\3548273936.py:2: SettingWithCopyWarning: \n",
      "A value is trying to be set on a copy of a slice from a DataFrame.\n",
      "Try using .loc[row_indexer,col_indexer] = value instead\n",
      "\n",
      "See the caveats in the documentation: https://pandas.pydata.org/pandas-docs/stable/user_guide/indexing.html#returning-a-view-versus-a-copy\n",
      "  df1['stroke'] = df['stroke']\n"
     ]
    }
   ],
   "source": [
    "df1 = df[['age','avg_glucose_level','bmi']]\n",
    "df1['stroke'] = df['stroke']\n",
    " "
   ]
  },
  {
   "cell_type": "code",
   "execution_count": 58,
   "id": "45156e78",
   "metadata": {},
   "outputs": [
    {
     "data": {
      "text/html": [
       "<div>\n",
       "<style scoped>\n",
       "    .dataframe tbody tr th:only-of-type {\n",
       "        vertical-align: middle;\n",
       "    }\n",
       "\n",
       "    .dataframe tbody tr th {\n",
       "        vertical-align: top;\n",
       "    }\n",
       "\n",
       "    .dataframe thead th {\n",
       "        text-align: right;\n",
       "    }\n",
       "</style>\n",
       "<table border=\"1\" class=\"dataframe\">\n",
       "  <thead>\n",
       "    <tr style=\"text-align: right;\">\n",
       "      <th></th>\n",
       "      <th>age</th>\n",
       "      <th>avg_glucose_level</th>\n",
       "      <th>bmi</th>\n",
       "      <th>stroke</th>\n",
       "    </tr>\n",
       "  </thead>\n",
       "  <tbody>\n",
       "    <tr>\n",
       "      <th>0</th>\n",
       "      <td>67.0</td>\n",
       "      <td>-5.432367</td>\n",
       "      <td>36.6</td>\n",
       "      <td>1</td>\n",
       "    </tr>\n",
       "    <tr>\n",
       "      <th>1</th>\n",
       "      <td>80.0</td>\n",
       "      <td>-4.662684</td>\n",
       "      <td>32.5</td>\n",
       "      <td>1</td>\n",
       "    </tr>\n",
       "    <tr>\n",
       "      <th>2</th>\n",
       "      <td>49.0</td>\n",
       "      <td>-5.143008</td>\n",
       "      <td>34.4</td>\n",
       "      <td>1</td>\n",
       "    </tr>\n",
       "    <tr>\n",
       "      <th>3</th>\n",
       "      <td>79.0</td>\n",
       "      <td>-5.159745</td>\n",
       "      <td>24.0</td>\n",
       "      <td>1</td>\n",
       "    </tr>\n",
       "    <tr>\n",
       "      <th>4</th>\n",
       "      <td>81.0</td>\n",
       "      <td>-5.226875</td>\n",
       "      <td>29.0</td>\n",
       "      <td>1</td>\n",
       "    </tr>\n",
       "    <tr>\n",
       "      <th>...</th>\n",
       "      <td>...</td>\n",
       "      <td>...</td>\n",
       "      <td>...</td>\n",
       "      <td>...</td>\n",
       "    </tr>\n",
       "    <tr>\n",
       "      <th>4976</th>\n",
       "      <td>41.0</td>\n",
       "      <td>-4.250636</td>\n",
       "      <td>29.8</td>\n",
       "      <td>0</td>\n",
       "    </tr>\n",
       "    <tr>\n",
       "      <th>4977</th>\n",
       "      <td>40.0</td>\n",
       "      <td>-5.253058</td>\n",
       "      <td>31.1</td>\n",
       "      <td>0</td>\n",
       "    </tr>\n",
       "    <tr>\n",
       "      <th>4978</th>\n",
       "      <td>45.0</td>\n",
       "      <td>-4.554087</td>\n",
       "      <td>31.8</td>\n",
       "      <td>0</td>\n",
       "    </tr>\n",
       "    <tr>\n",
       "      <th>4979</th>\n",
       "      <td>40.0</td>\n",
       "      <td>-4.430102</td>\n",
       "      <td>30.0</td>\n",
       "      <td>0</td>\n",
       "    </tr>\n",
       "    <tr>\n",
       "      <th>4980</th>\n",
       "      <td>80.0</td>\n",
       "      <td>-4.427836</td>\n",
       "      <td>29.1</td>\n",
       "      <td>0</td>\n",
       "    </tr>\n",
       "  </tbody>\n",
       "</table>\n",
       "<p>4981 rows × 4 columns</p>\n",
       "</div>"
      ],
      "text/plain": [
       "       age  avg_glucose_level   bmi  stroke\n",
       "0     67.0          -5.432367  36.6       1\n",
       "1     80.0          -4.662684  32.5       1\n",
       "2     49.0          -5.143008  34.4       1\n",
       "3     79.0          -5.159745  24.0       1\n",
       "4     81.0          -5.226875  29.0       1\n",
       "...    ...                ...   ...     ...\n",
       "4976  41.0          -4.250636  29.8       0\n",
       "4977  40.0          -5.253058  31.1       0\n",
       "4978  45.0          -4.554087  31.8       0\n",
       "4979  40.0          -4.430102  30.0       0\n",
       "4980  80.0          -4.427836  29.1       0\n",
       "\n",
       "[4981 rows x 4 columns]"
      ]
     },
     "execution_count": 58,
     "metadata": {},
     "output_type": "execute_result"
    }
   ],
   "source": [
    "df1"
   ]
  },
  {
   "cell_type": "code",
   "execution_count": 59,
   "id": "808abbd2",
   "metadata": {},
   "outputs": [],
   "source": [
    "x = df1.drop('stroke',axis = 1)\n",
    "y = df1.stroke"
   ]
  },
  {
   "cell_type": "code",
   "execution_count": 60,
   "id": "538f0311",
   "metadata": {},
   "outputs": [
    {
     "data": {
      "text/plain": [
       "0    4733\n",
       "1     248\n",
       "Name: stroke, dtype: int64"
      ]
     },
     "execution_count": 60,
     "metadata": {},
     "output_type": "execute_result"
    }
   ],
   "source": [
    "y.value_counts()"
   ]
  },
  {
   "cell_type": "markdown",
   "id": "fdade3fc",
   "metadata": {},
   "source": [
    "## Sampling"
   ]
  },
  {
   "cell_type": "code",
   "execution_count": 61,
   "id": "d19b4b72",
   "metadata": {},
   "outputs": [],
   "source": [
    "from imblearn.over_sampling import RandomOverSampler"
   ]
  },
  {
   "cell_type": "code",
   "execution_count": 62,
   "id": "0e1bd839",
   "metadata": {},
   "outputs": [
    {
     "data": {
      "text/html": [
       "<div>\n",
       "<style scoped>\n",
       "    .dataframe tbody tr th:only-of-type {\n",
       "        vertical-align: middle;\n",
       "    }\n",
       "\n",
       "    .dataframe tbody tr th {\n",
       "        vertical-align: top;\n",
       "    }\n",
       "\n",
       "    .dataframe thead th {\n",
       "        text-align: right;\n",
       "    }\n",
       "</style>\n",
       "<table border=\"1\" class=\"dataframe\">\n",
       "  <thead>\n",
       "    <tr style=\"text-align: right;\">\n",
       "      <th></th>\n",
       "      <th>age</th>\n",
       "      <th>avg_glucose_level</th>\n",
       "      <th>bmi</th>\n",
       "    </tr>\n",
       "  </thead>\n",
       "  <tbody>\n",
       "    <tr>\n",
       "      <th>0</th>\n",
       "      <td>67.0</td>\n",
       "      <td>-5.432367</td>\n",
       "      <td>36.6</td>\n",
       "    </tr>\n",
       "    <tr>\n",
       "      <th>1</th>\n",
       "      <td>80.0</td>\n",
       "      <td>-4.662684</td>\n",
       "      <td>32.5</td>\n",
       "    </tr>\n",
       "    <tr>\n",
       "      <th>2</th>\n",
       "      <td>49.0</td>\n",
       "      <td>-5.143008</td>\n",
       "      <td>34.4</td>\n",
       "    </tr>\n",
       "    <tr>\n",
       "      <th>3</th>\n",
       "      <td>79.0</td>\n",
       "      <td>-5.159745</td>\n",
       "      <td>24.0</td>\n",
       "    </tr>\n",
       "    <tr>\n",
       "      <th>4</th>\n",
       "      <td>81.0</td>\n",
       "      <td>-5.226875</td>\n",
       "      <td>29.0</td>\n",
       "    </tr>\n",
       "    <tr>\n",
       "      <th>...</th>\n",
       "      <td>...</td>\n",
       "      <td>...</td>\n",
       "      <td>...</td>\n",
       "    </tr>\n",
       "    <tr>\n",
       "      <th>9461</th>\n",
       "      <td>71.0</td>\n",
       "      <td>-4.475062</td>\n",
       "      <td>30.8</td>\n",
       "    </tr>\n",
       "    <tr>\n",
       "      <th>9462</th>\n",
       "      <td>70.0</td>\n",
       "      <td>-5.400784</td>\n",
       "      <td>47.5</td>\n",
       "    </tr>\n",
       "    <tr>\n",
       "      <th>9463</th>\n",
       "      <td>63.0</td>\n",
       "      <td>-4.922168</td>\n",
       "      <td>31.7</td>\n",
       "    </tr>\n",
       "    <tr>\n",
       "      <th>9464</th>\n",
       "      <td>39.0</td>\n",
       "      <td>-4.582515</td>\n",
       "      <td>29.6</td>\n",
       "    </tr>\n",
       "    <tr>\n",
       "      <th>9465</th>\n",
       "      <td>54.0</td>\n",
       "      <td>-4.649283</td>\n",
       "      <td>27.3</td>\n",
       "    </tr>\n",
       "  </tbody>\n",
       "</table>\n",
       "<p>9466 rows × 3 columns</p>\n",
       "</div>"
      ],
      "text/plain": [
       "       age  avg_glucose_level   bmi\n",
       "0     67.0          -5.432367  36.6\n",
       "1     80.0          -4.662684  32.5\n",
       "2     49.0          -5.143008  34.4\n",
       "3     79.0          -5.159745  24.0\n",
       "4     81.0          -5.226875  29.0\n",
       "...    ...                ...   ...\n",
       "9461  71.0          -4.475062  30.8\n",
       "9462  70.0          -5.400784  47.5\n",
       "9463  63.0          -4.922168  31.7\n",
       "9464  39.0          -4.582515  29.6\n",
       "9465  54.0          -4.649283  27.3\n",
       "\n",
       "[9466 rows x 3 columns]"
      ]
     },
     "execution_count": 62,
     "metadata": {},
     "output_type": "execute_result"
    }
   ],
   "source": [
    "random_sampling = RandomOverSampler()\n",
    "x_sample,y_sample = random_sampling.fit_resample(x,y)\n",
    "x_sample"
   ]
  },
  {
   "cell_type": "code",
   "execution_count": 63,
   "id": "ca75cc9b",
   "metadata": {},
   "outputs": [
    {
     "data": {
      "text/plain": [
       "1    4733\n",
       "0    4733\n",
       "Name: stroke, dtype: int64"
      ]
     },
     "execution_count": 63,
     "metadata": {},
     "output_type": "execute_result"
    }
   ],
   "source": [
    "y_sample.value_counts()"
   ]
  },
  {
   "cell_type": "code",
   "execution_count": 64,
   "id": "fcc6fb62",
   "metadata": {},
   "outputs": [],
   "source": [
    "x_train, x_test, y_train, y_test = train_test_split(x_sample, y_sample, test_size = 0.3, random_state=11, stratify = y_sample)"
   ]
  },
  {
   "cell_type": "markdown",
   "id": "502f16ab",
   "metadata": {},
   "source": [
    "## Model Training"
   ]
  },
  {
   "cell_type": "code",
   "execution_count": 65,
   "id": "bcc8d2e5",
   "metadata": {},
   "outputs": [
    {
     "data": {
      "text/html": [
       "<style>#sk-container-id-5 {color: black;background-color: white;}#sk-container-id-5 pre{padding: 0;}#sk-container-id-5 div.sk-toggleable {background-color: white;}#sk-container-id-5 label.sk-toggleable__label {cursor: pointer;display: block;width: 100%;margin-bottom: 0;padding: 0.3em;box-sizing: border-box;text-align: center;}#sk-container-id-5 label.sk-toggleable__label-arrow:before {content: \"▸\";float: left;margin-right: 0.25em;color: #696969;}#sk-container-id-5 label.sk-toggleable__label-arrow:hover:before {color: black;}#sk-container-id-5 div.sk-estimator:hover label.sk-toggleable__label-arrow:before {color: black;}#sk-container-id-5 div.sk-toggleable__content {max-height: 0;max-width: 0;overflow: hidden;text-align: left;background-color: #f0f8ff;}#sk-container-id-5 div.sk-toggleable__content pre {margin: 0.2em;color: black;border-radius: 0.25em;background-color: #f0f8ff;}#sk-container-id-5 input.sk-toggleable__control:checked~div.sk-toggleable__content {max-height: 200px;max-width: 100%;overflow: auto;}#sk-container-id-5 input.sk-toggleable__control:checked~label.sk-toggleable__label-arrow:before {content: \"▾\";}#sk-container-id-5 div.sk-estimator input.sk-toggleable__control:checked~label.sk-toggleable__label {background-color: #d4ebff;}#sk-container-id-5 div.sk-label input.sk-toggleable__control:checked~label.sk-toggleable__label {background-color: #d4ebff;}#sk-container-id-5 input.sk-hidden--visually {border: 0;clip: rect(1px 1px 1px 1px);clip: rect(1px, 1px, 1px, 1px);height: 1px;margin: -1px;overflow: hidden;padding: 0;position: absolute;width: 1px;}#sk-container-id-5 div.sk-estimator {font-family: monospace;background-color: #f0f8ff;border: 1px dotted black;border-radius: 0.25em;box-sizing: border-box;margin-bottom: 0.5em;}#sk-container-id-5 div.sk-estimator:hover {background-color: #d4ebff;}#sk-container-id-5 div.sk-parallel-item::after {content: \"\";width: 100%;border-bottom: 1px solid gray;flex-grow: 1;}#sk-container-id-5 div.sk-label:hover label.sk-toggleable__label {background-color: #d4ebff;}#sk-container-id-5 div.sk-serial::before {content: \"\";position: absolute;border-left: 1px solid gray;box-sizing: border-box;top: 0;bottom: 0;left: 50%;z-index: 0;}#sk-container-id-5 div.sk-serial {display: flex;flex-direction: column;align-items: center;background-color: white;padding-right: 0.2em;padding-left: 0.2em;position: relative;}#sk-container-id-5 div.sk-item {position: relative;z-index: 1;}#sk-container-id-5 div.sk-parallel {display: flex;align-items: stretch;justify-content: center;background-color: white;position: relative;}#sk-container-id-5 div.sk-item::before, #sk-container-id-5 div.sk-parallel-item::before {content: \"\";position: absolute;border-left: 1px solid gray;box-sizing: border-box;top: 0;bottom: 0;left: 50%;z-index: -1;}#sk-container-id-5 div.sk-parallel-item {display: flex;flex-direction: column;z-index: 1;position: relative;background-color: white;}#sk-container-id-5 div.sk-parallel-item:first-child::after {align-self: flex-end;width: 50%;}#sk-container-id-5 div.sk-parallel-item:last-child::after {align-self: flex-start;width: 50%;}#sk-container-id-5 div.sk-parallel-item:only-child::after {width: 0;}#sk-container-id-5 div.sk-dashed-wrapped {border: 1px dashed gray;margin: 0 0.4em 0.5em 0.4em;box-sizing: border-box;padding-bottom: 0.4em;background-color: white;}#sk-container-id-5 div.sk-label label {font-family: monospace;font-weight: bold;display: inline-block;line-height: 1.2em;}#sk-container-id-5 div.sk-label-container {text-align: center;}#sk-container-id-5 div.sk-container {/* jupyter's `normalize.less` sets `[hidden] { display: none; }` but bootstrap.min.css set `[hidden] { display: none !important; }` so we also need the `!important` here to be able to override the default hidden behavior on the sphinx rendered scikit-learn.org. See: https://github.com/scikit-learn/scikit-learn/issues/21755 */display: inline-block !important;position: relative;}#sk-container-id-5 div.sk-text-repr-fallback {display: none;}</style><div id=\"sk-container-id-5\" class=\"sk-top-container\"><div class=\"sk-text-repr-fallback\"><pre>DecisionTreeClassifier(random_state=11)</pre><b>In a Jupyter environment, please rerun this cell to show the HTML representation or trust the notebook. <br />On GitHub, the HTML representation is unable to render, please try loading this page with nbviewer.org.</b></div><div class=\"sk-container\" hidden><div class=\"sk-item\"><div class=\"sk-estimator sk-toggleable\"><input class=\"sk-toggleable__control sk-hidden--visually\" id=\"sk-estimator-id-5\" type=\"checkbox\" checked><label for=\"sk-estimator-id-5\" class=\"sk-toggleable__label sk-toggleable__label-arrow\">DecisionTreeClassifier</label><div class=\"sk-toggleable__content\"><pre>DecisionTreeClassifier(random_state=11)</pre></div></div></div></div></div>"
      ],
      "text/plain": [
       "DecisionTreeClassifier(random_state=11)"
      ]
     },
     "execution_count": 65,
     "metadata": {},
     "output_type": "execute_result"
    }
   ],
   "source": [
    "dt_clf = DecisionTreeClassifier(random_state = 11)\n",
    "dt_clf.fit(x_train,y_train)"
   ]
  },
  {
   "cell_type": "code",
   "execution_count": null,
   "id": "471db3b2",
   "metadata": {},
   "outputs": [],
   "source": []
  },
  {
   "cell_type": "markdown",
   "id": "e1543fa8",
   "metadata": {},
   "source": [
    "## Model evaluation"
   ]
  },
  {
   "cell_type": "code",
   "execution_count": 66,
   "id": "40d338b8",
   "metadata": {},
   "outputs": [
    {
     "name": "stdout",
     "output_type": "stream",
     "text": [
      "Accuracy_score : \n",
      " 1.0\n",
      "classification_report : \n",
      "               precision    recall  f1-score   support\n",
      "\n",
      "           0       1.00      1.00      1.00      3313\n",
      "           1       1.00      1.00      1.00      3313\n",
      "\n",
      "    accuracy                           1.00      6626\n",
      "   macro avg       1.00      1.00      1.00      6626\n",
      "weighted avg       1.00      1.00      1.00      6626\n",
      "\n",
      "confusion_matrix : \n",
      " [[3313    0]\n",
      " [   0 3313]]\n"
     ]
    }
   ],
   "source": [
    "## Training\n",
    "\n",
    "y_train_pred = dt_clf.predict(x_train)\n",
    "\n",
    "acc_score = accuracy_score(y_train_pred, y_train)\n",
    "print(\"Accuracy_score : \\n\",acc_score)\n",
    "\n",
    "clf_report = classification_report(y_train_pred, y_train)\n",
    "print(\"classification_report : \\n\",clf_report)\n",
    "\n",
    "conf_matrix = confusion_matrix(y_train_pred, y_train)\n",
    "print(\"confusion_matrix : \\n\",conf_matrix)"
   ]
  },
  {
   "cell_type": "code",
   "execution_count": 67,
   "id": "2c4d7dae",
   "metadata": {},
   "outputs": [
    {
     "name": "stdout",
     "output_type": "stream",
     "text": [
      "Accuracy_score : \n",
      " 0.971830985915493\n",
      "classification_report : \n",
      "               precision    recall  f1-score   support\n",
      "\n",
      "           0       0.94      1.00      0.97      1340\n",
      "           1       1.00      0.95      0.97      1500\n",
      "\n",
      "    accuracy                           0.97      2840\n",
      "   macro avg       0.97      0.97      0.97      2840\n",
      "weighted avg       0.97      0.97      0.97      2840\n",
      "\n",
      "confusion_matrix : \n",
      " [[1340    0]\n",
      " [  80 1420]]\n"
     ]
    }
   ],
   "source": [
    "## testing\n",
    "\n",
    "y_test_pred = dt_clf.predict(x_test)\n",
    "\n",
    "acc_score = accuracy_score(y_test_pred, y_test)\n",
    "print(\"Accuracy_score : \\n\",acc_score)\n",
    "\n",
    "clf_report = classification_report(y_test_pred, y_test)\n",
    "print(\"classification_report : \\n\",clf_report)\n",
    "\n",
    "conf_matrix = confusion_matrix(y_test_pred, y_test)\n",
    "print(\"confusion_matrix : \\n\",conf_matrix)                               ## "
   ]
  },
  {
   "cell_type": "markdown",
   "id": "3b9b57da",
   "metadata": {},
   "source": [
    "## hyperparameter Tuning"
   ]
  },
  {
   "cell_type": "markdown",
   "id": "d91b6245",
   "metadata": {},
   "source": [
    "### Randomized searchcv"
   ]
  },
  {
   "cell_type": "code",
   "execution_count": 68,
   "id": "47148dcc",
   "metadata": {},
   "outputs": [
    {
     "data": {
      "text/html": [
       "<style>#sk-container-id-6 {color: black;background-color: white;}#sk-container-id-6 pre{padding: 0;}#sk-container-id-6 div.sk-toggleable {background-color: white;}#sk-container-id-6 label.sk-toggleable__label {cursor: pointer;display: block;width: 100%;margin-bottom: 0;padding: 0.3em;box-sizing: border-box;text-align: center;}#sk-container-id-6 label.sk-toggleable__label-arrow:before {content: \"▸\";float: left;margin-right: 0.25em;color: #696969;}#sk-container-id-6 label.sk-toggleable__label-arrow:hover:before {color: black;}#sk-container-id-6 div.sk-estimator:hover label.sk-toggleable__label-arrow:before {color: black;}#sk-container-id-6 div.sk-toggleable__content {max-height: 0;max-width: 0;overflow: hidden;text-align: left;background-color: #f0f8ff;}#sk-container-id-6 div.sk-toggleable__content pre {margin: 0.2em;color: black;border-radius: 0.25em;background-color: #f0f8ff;}#sk-container-id-6 input.sk-toggleable__control:checked~div.sk-toggleable__content {max-height: 200px;max-width: 100%;overflow: auto;}#sk-container-id-6 input.sk-toggleable__control:checked~label.sk-toggleable__label-arrow:before {content: \"▾\";}#sk-container-id-6 div.sk-estimator input.sk-toggleable__control:checked~label.sk-toggleable__label {background-color: #d4ebff;}#sk-container-id-6 div.sk-label input.sk-toggleable__control:checked~label.sk-toggleable__label {background-color: #d4ebff;}#sk-container-id-6 input.sk-hidden--visually {border: 0;clip: rect(1px 1px 1px 1px);clip: rect(1px, 1px, 1px, 1px);height: 1px;margin: -1px;overflow: hidden;padding: 0;position: absolute;width: 1px;}#sk-container-id-6 div.sk-estimator {font-family: monospace;background-color: #f0f8ff;border: 1px dotted black;border-radius: 0.25em;box-sizing: border-box;margin-bottom: 0.5em;}#sk-container-id-6 div.sk-estimator:hover {background-color: #d4ebff;}#sk-container-id-6 div.sk-parallel-item::after {content: \"\";width: 100%;border-bottom: 1px solid gray;flex-grow: 1;}#sk-container-id-6 div.sk-label:hover label.sk-toggleable__label {background-color: #d4ebff;}#sk-container-id-6 div.sk-serial::before {content: \"\";position: absolute;border-left: 1px solid gray;box-sizing: border-box;top: 0;bottom: 0;left: 50%;z-index: 0;}#sk-container-id-6 div.sk-serial {display: flex;flex-direction: column;align-items: center;background-color: white;padding-right: 0.2em;padding-left: 0.2em;position: relative;}#sk-container-id-6 div.sk-item {position: relative;z-index: 1;}#sk-container-id-6 div.sk-parallel {display: flex;align-items: stretch;justify-content: center;background-color: white;position: relative;}#sk-container-id-6 div.sk-item::before, #sk-container-id-6 div.sk-parallel-item::before {content: \"\";position: absolute;border-left: 1px solid gray;box-sizing: border-box;top: 0;bottom: 0;left: 50%;z-index: -1;}#sk-container-id-6 div.sk-parallel-item {display: flex;flex-direction: column;z-index: 1;position: relative;background-color: white;}#sk-container-id-6 div.sk-parallel-item:first-child::after {align-self: flex-end;width: 50%;}#sk-container-id-6 div.sk-parallel-item:last-child::after {align-self: flex-start;width: 50%;}#sk-container-id-6 div.sk-parallel-item:only-child::after {width: 0;}#sk-container-id-6 div.sk-dashed-wrapped {border: 1px dashed gray;margin: 0 0.4em 0.5em 0.4em;box-sizing: border-box;padding-bottom: 0.4em;background-color: white;}#sk-container-id-6 div.sk-label label {font-family: monospace;font-weight: bold;display: inline-block;line-height: 1.2em;}#sk-container-id-6 div.sk-label-container {text-align: center;}#sk-container-id-6 div.sk-container {/* jupyter's `normalize.less` sets `[hidden] { display: none; }` but bootstrap.min.css set `[hidden] { display: none !important; }` so we also need the `!important` here to be able to override the default hidden behavior on the sphinx rendered scikit-learn.org. See: https://github.com/scikit-learn/scikit-learn/issues/21755 */display: inline-block !important;position: relative;}#sk-container-id-6 div.sk-text-repr-fallback {display: none;}</style><div id=\"sk-container-id-6\" class=\"sk-top-container\"><div class=\"sk-text-repr-fallback\"><pre>DecisionTreeClassifier(max_depth=24, min_samples_leaf=24, min_samples_split=19)</pre><b>In a Jupyter environment, please rerun this cell to show the HTML representation or trust the notebook. <br />On GitHub, the HTML representation is unable to render, please try loading this page with nbviewer.org.</b></div><div class=\"sk-container\" hidden><div class=\"sk-item\"><div class=\"sk-estimator sk-toggleable\"><input class=\"sk-toggleable__control sk-hidden--visually\" id=\"sk-estimator-id-6\" type=\"checkbox\" checked><label for=\"sk-estimator-id-6\" class=\"sk-toggleable__label sk-toggleable__label-arrow\">DecisionTreeClassifier</label><div class=\"sk-toggleable__content\"><pre>DecisionTreeClassifier(max_depth=24, min_samples_leaf=24, min_samples_split=19)</pre></div></div></div></div></div>"
      ],
      "text/plain": [
       "DecisionTreeClassifier(max_depth=24, min_samples_leaf=24, min_samples_split=19)"
      ]
     },
     "execution_count": 68,
     "metadata": {},
     "output_type": "execute_result"
    }
   ],
   "source": [
    "df_hyp = DecisionTreeClassifier()\n",
    "\n",
    "hyperparameter = {\"criterion\" : ['gini','entropy'],\n",
    "    \"max_depth\" : np.arange(2,100),\n",
    "    \"min_samples_split\" : np.arange(2,100),\n",
    "    \"min_samples_leaf\" : np.arange(2,100)}\n",
    "\n",
    "rd_model = RandomizedSearchCV(df_hyp,hyperparameter,cv = 5)\n",
    "rd_model.fit(x_train,y_train)\n",
    "rd_model.best_estimator_"
   ]
  },
  {
   "cell_type": "code",
   "execution_count": 69,
   "id": "57dd8df0",
   "metadata": {},
   "outputs": [
    {
     "data": {
      "text/html": [
       "<style>#sk-container-id-7 {color: black;background-color: white;}#sk-container-id-7 pre{padding: 0;}#sk-container-id-7 div.sk-toggleable {background-color: white;}#sk-container-id-7 label.sk-toggleable__label {cursor: pointer;display: block;width: 100%;margin-bottom: 0;padding: 0.3em;box-sizing: border-box;text-align: center;}#sk-container-id-7 label.sk-toggleable__label-arrow:before {content: \"▸\";float: left;margin-right: 0.25em;color: #696969;}#sk-container-id-7 label.sk-toggleable__label-arrow:hover:before {color: black;}#sk-container-id-7 div.sk-estimator:hover label.sk-toggleable__label-arrow:before {color: black;}#sk-container-id-7 div.sk-toggleable__content {max-height: 0;max-width: 0;overflow: hidden;text-align: left;background-color: #f0f8ff;}#sk-container-id-7 div.sk-toggleable__content pre {margin: 0.2em;color: black;border-radius: 0.25em;background-color: #f0f8ff;}#sk-container-id-7 input.sk-toggleable__control:checked~div.sk-toggleable__content {max-height: 200px;max-width: 100%;overflow: auto;}#sk-container-id-7 input.sk-toggleable__control:checked~label.sk-toggleable__label-arrow:before {content: \"▾\";}#sk-container-id-7 div.sk-estimator input.sk-toggleable__control:checked~label.sk-toggleable__label {background-color: #d4ebff;}#sk-container-id-7 div.sk-label input.sk-toggleable__control:checked~label.sk-toggleable__label {background-color: #d4ebff;}#sk-container-id-7 input.sk-hidden--visually {border: 0;clip: rect(1px 1px 1px 1px);clip: rect(1px, 1px, 1px, 1px);height: 1px;margin: -1px;overflow: hidden;padding: 0;position: absolute;width: 1px;}#sk-container-id-7 div.sk-estimator {font-family: monospace;background-color: #f0f8ff;border: 1px dotted black;border-radius: 0.25em;box-sizing: border-box;margin-bottom: 0.5em;}#sk-container-id-7 div.sk-estimator:hover {background-color: #d4ebff;}#sk-container-id-7 div.sk-parallel-item::after {content: \"\";width: 100%;border-bottom: 1px solid gray;flex-grow: 1;}#sk-container-id-7 div.sk-label:hover label.sk-toggleable__label {background-color: #d4ebff;}#sk-container-id-7 div.sk-serial::before {content: \"\";position: absolute;border-left: 1px solid gray;box-sizing: border-box;top: 0;bottom: 0;left: 50%;z-index: 0;}#sk-container-id-7 div.sk-serial {display: flex;flex-direction: column;align-items: center;background-color: white;padding-right: 0.2em;padding-left: 0.2em;position: relative;}#sk-container-id-7 div.sk-item {position: relative;z-index: 1;}#sk-container-id-7 div.sk-parallel {display: flex;align-items: stretch;justify-content: center;background-color: white;position: relative;}#sk-container-id-7 div.sk-item::before, #sk-container-id-7 div.sk-parallel-item::before {content: \"\";position: absolute;border-left: 1px solid gray;box-sizing: border-box;top: 0;bottom: 0;left: 50%;z-index: -1;}#sk-container-id-7 div.sk-parallel-item {display: flex;flex-direction: column;z-index: 1;position: relative;background-color: white;}#sk-container-id-7 div.sk-parallel-item:first-child::after {align-self: flex-end;width: 50%;}#sk-container-id-7 div.sk-parallel-item:last-child::after {align-self: flex-start;width: 50%;}#sk-container-id-7 div.sk-parallel-item:only-child::after {width: 0;}#sk-container-id-7 div.sk-dashed-wrapped {border: 1px dashed gray;margin: 0 0.4em 0.5em 0.4em;box-sizing: border-box;padding-bottom: 0.4em;background-color: white;}#sk-container-id-7 div.sk-label label {font-family: monospace;font-weight: bold;display: inline-block;line-height: 1.2em;}#sk-container-id-7 div.sk-label-container {text-align: center;}#sk-container-id-7 div.sk-container {/* jupyter's `normalize.less` sets `[hidden] { display: none; }` but bootstrap.min.css set `[hidden] { display: none !important; }` so we also need the `!important` here to be able to override the default hidden behavior on the sphinx rendered scikit-learn.org. See: https://github.com/scikit-learn/scikit-learn/issues/21755 */display: inline-block !important;position: relative;}#sk-container-id-7 div.sk-text-repr-fallback {display: none;}</style><div id=\"sk-container-id-7\" class=\"sk-top-container\"><div class=\"sk-text-repr-fallback\"><pre>DecisionTreeClassifier(max_depth=24, min_samples_leaf=24, min_samples_split=19)</pre><b>In a Jupyter environment, please rerun this cell to show the HTML representation or trust the notebook. <br />On GitHub, the HTML representation is unable to render, please try loading this page with nbviewer.org.</b></div><div class=\"sk-container\" hidden><div class=\"sk-item\"><div class=\"sk-estimator sk-toggleable\"><input class=\"sk-toggleable__control sk-hidden--visually\" id=\"sk-estimator-id-7\" type=\"checkbox\" checked><label for=\"sk-estimator-id-7\" class=\"sk-toggleable__label sk-toggleable__label-arrow\">DecisionTreeClassifier</label><div class=\"sk-toggleable__content\"><pre>DecisionTreeClassifier(max_depth=24, min_samples_leaf=24, min_samples_split=19)</pre></div></div></div></div></div>"
      ],
      "text/plain": [
       "DecisionTreeClassifier(max_depth=24, min_samples_leaf=24, min_samples_split=19)"
      ]
     },
     "execution_count": 69,
     "metadata": {},
     "output_type": "execute_result"
    }
   ],
   "source": [
    "dt_hyp = rd_model.best_estimator_\n",
    "dt_hyp.fit(x_train,y_train)"
   ]
  },
  {
   "cell_type": "code",
   "execution_count": 70,
   "id": "582c19c5",
   "metadata": {},
   "outputs": [
    {
     "name": "stdout",
     "output_type": "stream",
     "text": [
      "Accuracy_score : \n",
      " 0.8769996981587684\n",
      "classification_report : \n",
      "               precision    recall  f1-score   support\n",
      "\n",
      "           0       0.84      0.91      0.87      3078\n",
      "           1       0.91      0.85      0.88      3548\n",
      "\n",
      "    accuracy                           0.88      6626\n",
      "   macro avg       0.88      0.88      0.88      6626\n",
      "weighted avg       0.88      0.88      0.88      6626\n",
      "\n",
      "confusion_matrix : \n",
      " [[2788  290]\n",
      " [ 525 3023]]\n"
     ]
    }
   ],
   "source": [
    "## Training\n",
    "\n",
    "y_train_pred = dt_hyp.predict(x_train)\n",
    "\n",
    "acc_score = accuracy_score(y_train_pred, y_train)\n",
    "print(\"Accuracy_score : \\n\",acc_score)\n",
    "\n",
    "clf_report = classification_report(y_train_pred, y_train)\n",
    "print(\"classification_report : \\n\",clf_report)\n",
    "\n",
    "conf_matrix = confusion_matrix(y_train_pred, y_train)\n",
    "print(\"confusion_matrix : \\n\",conf_matrix)"
   ]
  },
  {
   "cell_type": "code",
   "execution_count": 71,
   "id": "441a090a",
   "metadata": {},
   "outputs": [
    {
     "name": "stdout",
     "output_type": "stream",
     "text": [
      "Accuracy_score : \n",
      " 0.8672535211267606\n",
      "classification_report : \n",
      "               precision    recall  f1-score   support\n",
      "\n",
      "           0       0.82      0.90      0.86      1295\n",
      "           1       0.91      0.84      0.87      1545\n",
      "\n",
      "    accuracy                           0.87      2840\n",
      "   macro avg       0.87      0.87      0.87      2840\n",
      "weighted avg       0.87      0.87      0.87      2840\n",
      "\n",
      "confusion_matrix : \n",
      " [[1169  126]\n",
      " [ 251 1294]]\n"
     ]
    }
   ],
   "source": [
    "## testing\n",
    "\n",
    "y_test_pred = dt_hyp.predict(x_test)\n",
    "\n",
    "acc_score = accuracy_score(y_test_pred, y_test)\n",
    "print(\"Accuracy_score : \\n\",acc_score)\n",
    "\n",
    "clf_report = classification_report(y_test_pred, y_test)\n",
    "print(\"classification_report : \\n\",clf_report)\n",
    "\n",
    "conf_matrix = confusion_matrix(y_test_pred, y_test)\n",
    "print(\"confusion_matrix : \\n\",conf_matrix)                               ## "
   ]
  },
  {
   "cell_type": "markdown",
   "id": "d446c1c1",
   "metadata": {},
   "source": [
    "## Pruning\n"
   ]
  },
  {
   "cell_type": "code",
   "execution_count": 72,
   "id": "d0af521a",
   "metadata": {},
   "outputs": [],
   "source": [
    "dt_clf = DecisionTreeClassifier(random_state=13)"
   ]
  },
  {
   "cell_type": "code",
   "execution_count": 73,
   "id": "1b93d107",
   "metadata": {},
   "outputs": [
    {
     "data": {
      "text/plain": [
       "array([0.00000000e+00, 1.42977425e-04, 1.44358850e-04, 1.44883791e-04,\n",
       "       1.45115977e-04, 1.45330963e-04, 1.45330963e-04, 1.45716457e-04,\n",
       "       1.46204347e-04, 1.46347264e-04, 1.46759202e-04, 1.47050856e-04,\n",
       "       1.47224345e-04, 1.47239625e-04, 1.47840603e-04, 1.47961388e-04,\n",
       "       1.48489822e-04, 1.48633940e-04, 1.48733360e-04, 1.48934818e-04,\n",
       "       1.49262147e-04, 1.49331978e-04, 2.15297992e-04, 2.33287460e-04,\n",
       "       2.59135673e-04, 2.64657891e-04, 2.65065173e-04, 2.67477768e-04,\n",
       "       2.68303317e-04, 2.68303317e-04, 2.68303317e-04, 2.69900360e-04,\n",
       "       2.71041106e-04, 2.71657108e-04, 2.71657108e-04, 2.76912380e-04,\n",
       "       2.79356833e-04, 2.79396627e-04, 2.80456429e-04, 2.81718483e-04,\n",
       "       2.81718483e-04, 2.81718483e-04, 2.82283152e-04, 2.82976155e-04,\n",
       "       2.82976155e-04, 2.83575361e-04, 2.84085865e-04, 2.85072274e-04,\n",
       "       2.85072274e-04, 2.85211538e-04, 2.86749170e-04, 2.87692424e-04,\n",
       "       2.88121176e-04, 2.88394211e-04, 2.88717700e-04, 2.89767582e-04,\n",
       "       2.91432913e-04, 2.91779857e-04, 2.92034636e-04, 2.92104418e-04,\n",
       "       2.92601194e-04, 2.92694528e-04, 2.92963548e-04, 2.93134273e-04,\n",
       "       2.93217196e-04, 2.94654536e-04, 2.96451210e-04, 3.43001399e-04,\n",
       "       3.45660566e-04, 3.50525301e-04, 3.50583536e-04, 3.68917061e-04,\n",
       "       3.75070964e-04, 3.81950276e-04, 3.84335396e-04, 3.90259370e-04,\n",
       "       3.91021595e-04, 4.29915719e-04, 4.30690453e-04, 4.31715095e-04,\n",
       "       4.35121775e-04, 4.52452832e-04, 4.82945970e-04, 4.93007345e-04,\n",
       "       4.93007345e-04, 4.97494946e-04, 4.99725435e-04, 5.10129333e-04,\n",
       "       5.10808238e-04, 5.17442111e-04, 5.19238785e-04, 5.23191468e-04,\n",
       "       5.27248474e-04, 5.33411212e-04, 5.36244018e-04, 5.44299821e-04,\n",
       "       5.50021800e-04, 6.26306237e-04, 6.47214527e-04, 6.52018789e-04,\n",
       "       6.64180368e-04, 6.72848025e-04, 6.79142771e-04, 6.95768645e-04,\n",
       "       7.12239510e-04, 7.22342799e-04, 7.24418956e-04, 7.36724847e-04,\n",
       "       7.37087650e-04, 7.73217576e-04, 7.77666786e-04, 8.03315042e-04,\n",
       "       8.11014711e-04, 8.21242954e-04, 8.25624545e-04, 8.62814225e-04,\n",
       "       8.95116149e-04, 9.23279061e-04, 9.30173287e-04, 9.30704891e-04,\n",
       "       9.53182836e-04, 9.57765446e-04, 9.70505242e-04, 9.86706002e-04,\n",
       "       9.94073948e-04, 9.94483337e-04, 1.01705676e-03, 1.07182628e-03,\n",
       "       1.08998222e-03, 1.12896461e-03, 1.14279785e-03, 1.14851538e-03,\n",
       "       1.19869143e-03, 1.20999826e-03, 1.29186594e-03, 1.30977534e-03,\n",
       "       1.32652316e-03, 1.34294051e-03, 1.34856847e-03, 1.37296698e-03,\n",
       "       1.42668019e-03, 1.43213173e-03, 1.46463193e-03, 1.46564802e-03,\n",
       "       1.47750943e-03, 1.48208419e-03, 1.49564185e-03, 1.63477660e-03,\n",
       "       1.63487980e-03, 1.67878828e-03, 1.74593933e-03, 1.77966954e-03,\n",
       "       1.81417685e-03, 1.82250737e-03, 1.83890966e-03, 1.88624514e-03,\n",
       "       1.90440085e-03, 1.95219390e-03, 2.06522948e-03, 2.10548299e-03,\n",
       "       2.33319352e-03, 2.38213923e-03, 2.59777978e-03, 2.64296345e-03,\n",
       "       2.66485469e-03, 2.93226642e-03, 2.93631271e-03, 3.03711832e-03,\n",
       "       8.37427780e-03, 1.28677589e-02, 1.42744268e-02, 1.63058848e-01])"
      ]
     },
     "execution_count": 73,
     "metadata": {},
     "output_type": "execute_result"
    }
   ],
   "source": [
    "ccp_dict = dt_clf.cost_complexity_pruning_path(x_train,y_train)\n",
    "ccp_alphas = ccp_dict['ccp_alphas']\n",
    "ccp_alphas"
   ]
  },
  {
   "cell_type": "code",
   "execution_count": 74,
   "id": "7646e9ec",
   "metadata": {},
   "outputs": [
    {
     "name": "stdout",
     "output_type": "stream",
     "text": [
      "0.0 1.0 0.9742957746478873\n",
      "0.00014297742545315908 0.9998490793842438 0.973943661971831\n",
      "0.00014435884985367265 0.9996981587684878 0.9732394366197183\n",
      "0.00014488379112586775 0.9995472381527316 0.972887323943662\n",
      "0.0001451159766885696 0.9993963175369756 0.972887323943662\n",
      "0.00014533096332070065 0.9990944763054633 0.9725352112676057\n",
      "0.00014533096332070065 0.9990944763054633 0.9725352112676057\n",
      "0.0001457164565921083 0.9989435556897072 0.9721830985915493\n",
      "0.0001462043465137338 0.9987926350739511 0.971830985915493\n",
      "0.00014634726376350272 0.9986417144581949 0.971830985915493\n",
      "0.0001467592017187194 0.9984907938424389 0.9714788732394366\n",
      "0.0001470508563777503 0.9983398732266827 0.9711267605633803\n",
      "0.00014722434496756517 0.9981889526109267 0.9707746478873239\n",
      "0.00014723962512791448 0.9980380319951705 0.9707746478873239\n",
      "0.00014784060318966108 0.9978871113794144 0.9707746478873239\n",
      "0.0001479613879961887 0.9977361907636583 0.9707746478873239\n",
      "0.00014848982152474628 0.9975852701479022 0.9704225352112676\n",
      "0.0001486339397598073 0.997434349532146 0.9704225352112676\n",
      "0.00014873336045529906 0.99728342891639 0.9700704225352113\n",
      "0.00014893481818037396 0.9971325083006338 0.969718309859155\n",
      "0.0001492621474511 0.9969815876848778 0.9693661971830986\n",
      "0.00014933197769552187 0.9968306670691216 0.9693661971830986\n",
      "0.0002152979920811972 0.9963779052218533 0.9690140845070423\n",
      "0.00023328746028741435 0.9957742227588289 0.9690140845070423\n",
      "0.0002591356726581598 0.9954723815273167 0.9690140845070423\n",
      "0.0002646578913983998 0.9953214609115605 0.9690140845070423\n",
      "0.00026506517341993074 0.9948686990642922 0.9679577464788732\n",
      "0.0002674777682323711 0.994717778448536 0.9679577464788732\n",
      "0.00026830331689975514 0.9942650166012678 0.967605633802817\n",
      "0.00026830331689975514 0.9942650166012678 0.967605633802817\n",
      "0.00026830331689975514 0.9942650166012678 0.967605633802817\n",
      "0.00026990036045273016 0.9941140959855116 0.967605633802817\n",
      "0.0002710411058477118 0.9933594929067311 0.9669014084507043\n",
      "0.0002716571083610022 0.9930576516752189 0.9669014084507043\n",
      "0.0002716571083610022 0.9930576516752189 0.9669014084507043\n",
      "0.0002769123798025095 0.9926048898279505 0.9665492957746479\n",
      "0.00027935683269711257 0.9924539692121944 0.9665492957746479\n",
      "0.0002793966271177259 0.9923030485964383 0.9665492957746479\n",
      "0.0002804564288150752 0.9921521279806822 0.9665492957746479\n",
      "0.000281718482744743 0.9910956836703894 0.9665492957746479\n",
      "0.000281718482744743 0.9910956836703894 0.9665492957746479\n",
      "0.000281718482744743 0.9910956836703894 0.9665492957746479\n",
      "0.0002822831517152588 0.9907938424388771 0.9665492957746479\n",
      "0.00028297615454271055 0.9903410805916089 0.9665492957746479\n",
      "0.00028297615454271055 0.9903410805916089 0.9665492957746479\n",
      "0.0002835753614131855 0.9900392393600966 0.9661971830985916\n",
      "0.000284085864952682 0.9897373981285844 0.9661971830985916\n",
      "0.00028507227420598993 0.9889827950498038 0.9658450704225352\n",
      "0.00028507227420598993 0.9889827950498038 0.9658450704225352\n",
      "0.00028521153765210925 0.9885300332025355 0.9658450704225352\n",
      "0.00028674916993661327 0.9883791125867794 0.9654929577464789\n",
      "0.00028769242378508903 0.9879263507395111 0.9654929577464789\n",
      "0.00028812117553439633 0.9877754301237549 0.9651408450704225\n",
      "0.0002883942114742543 0.9876245095079987 0.9651408450704225\n",
      "0.0002887176997073453 0.9874735888922427 0.9647887323943662\n",
      "0.0002897675822517355 0.9873226682764865 0.9647887323943662\n",
      "0.0002914329131842166 0.9871717476607305 0.9637323943661972\n",
      "0.0002917798571284836 0.9870208270449743 0.9637323943661972\n",
      "0.0002920346363173693 0.9868699064292182 0.9633802816901409\n",
      "0.0002921044175924752 0.9867189858134621 0.9633802816901409\n",
      "0.00029260119381287084 0.9862662239661938 0.9630281690140845\n",
      "0.00029269452752700545 0.9861153033504376 0.9623239436619718\n",
      "0.0002929635482324532 0.9859643827346816 0.9619718309859155\n",
      "0.0002931342729109101 0.9855116208874132 0.9609154929577465\n",
      "0.000293217196326161 0.9853607002716571 0.9609154929577465\n",
      "0.00029465453552383815 0.985209779655901 0.9609154929577465\n",
      "0.000296451209520935 0.9850588590401449 0.9602112676056338\n",
      "0.00034300139944570975 0.9843042559613643 0.9598591549295775\n",
      "0.00034566056564955705 0.9835496528825838 0.9591549295774648\n",
      "0.0003505253011109704 0.9829459704195593 0.9584507042253522\n",
      "0.00035058353564398334 0.9823422879565349 0.9577464788732394\n",
      "0.0003689170607371634 0.9817386054935104 0.9570422535211267\n",
      "0.00037507096380175626 0.9805312405674615 0.9556338028169014\n",
      "0.00038195027630584527 0.9794747962571687 0.9549295774647887\n",
      "0.0003843353961427148 0.978418351946876 0.9538732394366197\n",
      "0.0003902593700360075 0.9781165107153638 0.9535211267605633\n",
      "0.0003910215953681091 0.9772109870208271 0.953169014084507\n",
      "0.00042991571896841357 0.9767582251735587 0.953169014084507\n",
      "0.00043069045286922114 0.9764563839420465 0.952112676056338\n",
      "0.0004317150947309197 0.9760036220947782 0.9514084507042253\n",
      "0.00043512177529684334 0.9755508602475098 0.9514084507042253\n",
      "0.00045245283150035804 0.9740416540899487 0.951056338028169\n",
      "0.0004829459704195592 0.9737398128584365 0.951056338028169\n",
      "0.0004930073448032999 0.973136130395412 0.9507042253521126\n",
      "0.0004930073448032999 0.973136130395412 0.9507042253521126\n",
      "0.0004974949464460483 0.9728342891638998 0.95\n",
      "0.0004997254352791215 0.9713250830063387 0.9485915492957746\n",
      "0.000510129332789666 0.9710232417748265 0.9482394366197183\n",
      "0.0005108082379437647 0.9707214005433142 0.9475352112676056\n",
      "0.0005174421111638136 0.970419559311802 0.9464788732394366\n",
      "0.00051923878516091 0.9701177180802898 0.9464788732394366\n",
      "0.0005231914679545227 0.9698158768487776 0.9457746478873239\n",
      "0.0005272484737544183 0.9695140356172653 0.9457746478873239\n",
      "0.0005334112120888542 0.9667974645336553 0.9450704225352112\n",
      "0.0005362440179442654 0.9661937820706309 0.9443661971830986\n",
      "0.0005442998207432692 0.9658919408391187 0.9443661971830986\n",
      "0.000550021799644498 0.9652882583760942 0.9436619718309859\n",
      "0.0006263062365438664 0.9648354965288258 0.9436619718309859\n",
      "0.0006472145265769133 0.9628735285239963 0.9401408450704225\n",
      "0.0006520187892689183 0.962420766676728 0.9390845070422535\n",
      "0.0006641803684330864 0.9601569574403863 0.9380281690140845\n",
      "0.0006728480245495475 0.959704195593118 0.9380281690140845\n",
      "0.0006791427709025054 0.9589495925143374 0.9369718309859155\n",
      "0.0006957686454736618 0.9553274977361907 0.9330985915492958\n",
      "0.0007122395102309867 0.9532146091156052 0.9320422535211268\n",
      "0.0007223427990104718 0.9518563235738002 0.9309859154929577\n",
      "0.0007244189556293388 0.9514035617265318 0.930281690140845\n",
      "0.0007367248470488473 0.9483851494114096 0.9285211267605634\n",
      "0.0007370876496069582 0.9479323875641412 0.9278169014084507\n",
      "0.0007732175759800819 0.9474796257168729 0.9274647887323944\n",
      "0.0007776667856853638 0.9465741020223363 0.926056338028169\n",
      "0.0008033150422312547 0.9456685783277996 0.926056338028169\n",
      "0.0008110147108364468 0.9428010866284334 0.9221830985915493\n",
      "0.0008212429536154061 0.9417446423181407 0.920774647887324\n",
      "0.000825624545018732 0.9412918804708723 0.9200704225352113\n",
      "0.0008628142245589851 0.9406881980078479 0.9200704225352113\n",
      "0.0008951161491188633 0.9373679444612134 0.9179577464788733\n",
      "0.0009232790610962162 0.936764261998189 0.9154929577464789\n",
      "0.0009301732866324336 0.9361605795351645 0.9151408450704225\n",
      "0.0009307048906063433 0.9349532146091156 0.9133802816901408\n",
      "0.0009531828363543935 0.9343495321460912 0.9123239436619718\n",
      "0.0009577654461445589 0.9326894053727739 0.9105633802816901\n",
      "0.0009705052422623173 0.9305765167521883 0.9091549295774648\n",
      "0.0009867060017100266 0.9299728342891639 0.9088028169014084\n",
      "0.000994073947652687 0.9280108662843345 0.9077464788732394\n",
      "0.0009944833367712936 0.9272562632055539 0.907394366197183\n",
      "0.0010170567594106996 0.926199818895261 0.9049295774647887\n",
      "0.0010718262758760645 0.9237850890431633 0.9028169014084507\n",
      "0.0010899822249052554 0.9230304859643828 0.9028169014084507\n",
      "0.0011289646061755933 0.9218231210383339 0.9017605633802817\n",
      "0.0011427978490242841 0.9188047087232116 0.8985915492957747\n",
      "0.0011485153777666401 0.918050105644431 0.8985915492957747\n",
      "0.0011986914301985382 0.9147298520977966 0.8947183098591549\n",
      "0.001209998259179633 0.9130697253244793 0.8943661971830986\n",
      "0.0012918659423558987 0.9114095985511621 0.8943661971830986\n",
      "0.001309775343883403 0.9105040748566254 0.8940140845070422\n",
      "0.001326523163848495 0.9095985511620888 0.8922535211267606\n",
      "0.001342940513295221 0.9008451554482342 0.8813380281690141\n",
      "0.0013485684685252252 0.8988831874434048 0.8788732394366198\n",
      "0.0013729669793168552 0.8860549351041352 0.8665492957746479\n"
     ]
    },
    {
     "name": "stdout",
     "output_type": "stream",
     "text": [
      "0.0014266801899155753 0.8795653486266224 0.8598591549295774\n",
      "0.0014321317254503807 0.8785089043163297 0.8591549295774648\n",
      "0.001464631929186643 0.8757923332327195 0.8566901408450704\n",
      "0.0014656480225195504 0.8754904920012073 0.8573943661971831\n",
      "0.0014775094267000313 0.8706610322970117 0.8535211267605634\n",
      "0.0014820841918310387 0.869604587986719 0.8528169014084507\n",
      "0.0014956418504127635 0.8661334138243284 0.8503521126760564\n",
      "0.0016347765974903282 0.8614548747358889 0.8471830985915493\n",
      "0.0016348798012598502 0.8552671294898884 0.8411971830985916\n",
      "0.0016787882770375974 0.8530033202535466 0.8348591549295775\n",
      "0.0017459393297893245 0.8511922728644733 0.8334507042253522\n",
      "0.0017796695435376131 0.8483247811651071 0.8302816901408451\n",
      "0.0018141768539259471 0.8445517657712044 0.8264084507042253\n",
      "0.0018225073666861876 0.8401750679142771 0.8221830985915493\n",
      "0.0018389096565975542 0.8392695442197404 0.821830985915493\n",
      "0.0018862451401301823 0.8326290371264715 0.8165492957746479\n",
      "0.0019044008458809283 0.8296106248113493 0.8137323943661972\n",
      "0.0019521938958964244 0.8264412918804709 0.8095070422535211\n",
      "0.002065229478767852 0.8247811651071536 0.8088028169014084\n",
      "0.0021054829914406367 0.822517355870812 0.8066901408450704\n",
      "0.0023331935194295596 0.8211590703290069 0.8077464788732395\n",
      "0.0023821392255284853 0.8143676426199818 0.793661971830986\n",
      "0.002597779777559486 0.811801992152128 0.7901408450704225\n",
      "0.0026429634509224503 0.8095381829157863 0.7883802816901408\n",
      "0.0026648546881689896 0.8048596438273468 0.7855633802816901\n",
      "0.002932266415220472 0.8048596438273468 0.7855633802816901\n",
      "0.0029363127141930788 0.7991246604286145 0.7785211267605634\n",
      "0.003037118324306838 0.7900694234832478 0.7764084507042254\n",
      "0.008374277801206476 0.7776939329912466 0.7711267605633803\n",
      "0.012867758933327117 0.7776939329912466 0.7711267605633803\n",
      "0.014274426756478775 0.7776939329912466 0.7711267605633803\n",
      "0.1630588483699123 0.5 0.5\n"
     ]
    }
   ],
   "source": [
    "r2_score_train_list = []\n",
    "r2_score_test_list =  []\n",
    "\n",
    "for ccp in ccp_alphas:\n",
    "    dt_clf_pruning = DecisionTreeClassifier(random_state=15,ccp_alpha=ccp)\n",
    "    dt_clf_pruning.fit(x_train,y_train)\n",
    "    r2_score_train = dt_clf_pruning.score(x_train,y_train)\n",
    "    r2_score_test = dt_clf_pruning.score(x_test,y_test)\n",
    "    r2_score_train_list.append(r2_score_train)\n",
    "    r2_score_test_list.append(r2_score_test)\n",
    "    print(ccp,r2_score_train,r2_score_test)"
   ]
  },
  {
   "cell_type": "code",
   "execution_count": 75,
   "id": "59e6fce1",
   "metadata": {},
   "outputs": [
    {
     "data": {
      "text/plain": [
       "0.9742957746478873"
      ]
     },
     "execution_count": 75,
     "metadata": {},
     "output_type": "execute_result"
    }
   ],
   "source": [
    "max(r2_score_test_list)"
   ]
  },
  {
   "cell_type": "code",
   "execution_count": 76,
   "id": "7bb53466",
   "metadata": {},
   "outputs": [
    {
     "data": {
      "text/plain": [
       "(array([0], dtype=int64),)"
      ]
     },
     "execution_count": 76,
     "metadata": {},
     "output_type": "execute_result"
    }
   ],
   "source": [
    "np.where(r2_score_test_list == max(r2_score_test_list))"
   ]
  },
  {
   "cell_type": "code",
   "execution_count": 77,
   "id": "393d96a5",
   "metadata": {},
   "outputs": [
    {
     "data": {
      "text/plain": [
       "(array([0], dtype=int64),)"
      ]
     },
     "execution_count": 77,
     "metadata": {},
     "output_type": "execute_result"
    }
   ],
   "source": [
    "np.where(r2_score_test_list  == max(r2_score_test_list))"
   ]
  },
  {
   "cell_type": "code",
   "execution_count": 78,
   "id": "ef01a215",
   "metadata": {},
   "outputs": [
    {
     "data": {
      "text/plain": [
       "0.9998490793842438"
      ]
     },
     "execution_count": 78,
     "metadata": {},
     "output_type": "execute_result"
    }
   ],
   "source": [
    "r2_score_train_list[1]"
   ]
  },
  {
   "cell_type": "code",
   "execution_count": 79,
   "id": "260fde88",
   "metadata": {},
   "outputs": [
    {
     "data": {
      "text/plain": [
       "0.00014297742545315908"
      ]
     },
     "execution_count": 79,
     "metadata": {},
     "output_type": "execute_result"
    }
   ],
   "source": [
    "ccp_alphas[1]"
   ]
  },
  {
   "cell_type": "code",
   "execution_count": 80,
   "id": "528e4a79",
   "metadata": {},
   "outputs": [
    {
     "data": {
      "text/html": [
       "<style>#sk-container-id-8 {color: black;background-color: white;}#sk-container-id-8 pre{padding: 0;}#sk-container-id-8 div.sk-toggleable {background-color: white;}#sk-container-id-8 label.sk-toggleable__label {cursor: pointer;display: block;width: 100%;margin-bottom: 0;padding: 0.3em;box-sizing: border-box;text-align: center;}#sk-container-id-8 label.sk-toggleable__label-arrow:before {content: \"▸\";float: left;margin-right: 0.25em;color: #696969;}#sk-container-id-8 label.sk-toggleable__label-arrow:hover:before {color: black;}#sk-container-id-8 div.sk-estimator:hover label.sk-toggleable__label-arrow:before {color: black;}#sk-container-id-8 div.sk-toggleable__content {max-height: 0;max-width: 0;overflow: hidden;text-align: left;background-color: #f0f8ff;}#sk-container-id-8 div.sk-toggleable__content pre {margin: 0.2em;color: black;border-radius: 0.25em;background-color: #f0f8ff;}#sk-container-id-8 input.sk-toggleable__control:checked~div.sk-toggleable__content {max-height: 200px;max-width: 100%;overflow: auto;}#sk-container-id-8 input.sk-toggleable__control:checked~label.sk-toggleable__label-arrow:before {content: \"▾\";}#sk-container-id-8 div.sk-estimator input.sk-toggleable__control:checked~label.sk-toggleable__label {background-color: #d4ebff;}#sk-container-id-8 div.sk-label input.sk-toggleable__control:checked~label.sk-toggleable__label {background-color: #d4ebff;}#sk-container-id-8 input.sk-hidden--visually {border: 0;clip: rect(1px 1px 1px 1px);clip: rect(1px, 1px, 1px, 1px);height: 1px;margin: -1px;overflow: hidden;padding: 0;position: absolute;width: 1px;}#sk-container-id-8 div.sk-estimator {font-family: monospace;background-color: #f0f8ff;border: 1px dotted black;border-radius: 0.25em;box-sizing: border-box;margin-bottom: 0.5em;}#sk-container-id-8 div.sk-estimator:hover {background-color: #d4ebff;}#sk-container-id-8 div.sk-parallel-item::after {content: \"\";width: 100%;border-bottom: 1px solid gray;flex-grow: 1;}#sk-container-id-8 div.sk-label:hover label.sk-toggleable__label {background-color: #d4ebff;}#sk-container-id-8 div.sk-serial::before {content: \"\";position: absolute;border-left: 1px solid gray;box-sizing: border-box;top: 0;bottom: 0;left: 50%;z-index: 0;}#sk-container-id-8 div.sk-serial {display: flex;flex-direction: column;align-items: center;background-color: white;padding-right: 0.2em;padding-left: 0.2em;position: relative;}#sk-container-id-8 div.sk-item {position: relative;z-index: 1;}#sk-container-id-8 div.sk-parallel {display: flex;align-items: stretch;justify-content: center;background-color: white;position: relative;}#sk-container-id-8 div.sk-item::before, #sk-container-id-8 div.sk-parallel-item::before {content: \"\";position: absolute;border-left: 1px solid gray;box-sizing: border-box;top: 0;bottom: 0;left: 50%;z-index: -1;}#sk-container-id-8 div.sk-parallel-item {display: flex;flex-direction: column;z-index: 1;position: relative;background-color: white;}#sk-container-id-8 div.sk-parallel-item:first-child::after {align-self: flex-end;width: 50%;}#sk-container-id-8 div.sk-parallel-item:last-child::after {align-self: flex-start;width: 50%;}#sk-container-id-8 div.sk-parallel-item:only-child::after {width: 0;}#sk-container-id-8 div.sk-dashed-wrapped {border: 1px dashed gray;margin: 0 0.4em 0.5em 0.4em;box-sizing: border-box;padding-bottom: 0.4em;background-color: white;}#sk-container-id-8 div.sk-label label {font-family: monospace;font-weight: bold;display: inline-block;line-height: 1.2em;}#sk-container-id-8 div.sk-label-container {text-align: center;}#sk-container-id-8 div.sk-container {/* jupyter's `normalize.less` sets `[hidden] { display: none; }` but bootstrap.min.css set `[hidden] { display: none !important; }` so we also need the `!important` here to be able to override the default hidden behavior on the sphinx rendered scikit-learn.org. See: https://github.com/scikit-learn/scikit-learn/issues/21755 */display: inline-block !important;position: relative;}#sk-container-id-8 div.sk-text-repr-fallback {display: none;}</style><div id=\"sk-container-id-8\" class=\"sk-top-container\"><div class=\"sk-text-repr-fallback\"><pre>DecisionTreeClassifier(ccp_alpha=0.00014373391976772604, random_state=16)</pre><b>In a Jupyter environment, please rerun this cell to show the HTML representation or trust the notebook. <br />On GitHub, the HTML representation is unable to render, please try loading this page with nbviewer.org.</b></div><div class=\"sk-container\" hidden><div class=\"sk-item\"><div class=\"sk-estimator sk-toggleable\"><input class=\"sk-toggleable__control sk-hidden--visually\" id=\"sk-estimator-id-8\" type=\"checkbox\" checked><label for=\"sk-estimator-id-8\" class=\"sk-toggleable__label sk-toggleable__label-arrow\">DecisionTreeClassifier</label><div class=\"sk-toggleable__content\"><pre>DecisionTreeClassifier(ccp_alpha=0.00014373391976772604, random_state=16)</pre></div></div></div></div></div>"
      ],
      "text/plain": [
       "DecisionTreeClassifier(ccp_alpha=0.00014373391976772604, random_state=16)"
      ]
     },
     "execution_count": 80,
     "metadata": {},
     "output_type": "execute_result"
    }
   ],
   "source": [
    "dt_clf_after_prun = DecisionTreeClassifier(random_state=16,ccp_alpha=0.00014373391976772604)\n",
    "dt_clf_after_prun.fit(x_train,y_train)"
   ]
  },
  {
   "cell_type": "code",
   "execution_count": 81,
   "id": "047365f6",
   "metadata": {},
   "outputs": [
    {
     "name": "stdout",
     "output_type": "stream",
     "text": [
      "Accuracy_score : \n",
      " 0.9998490793842438\n",
      "classification_report : \n",
      "               precision    recall  f1-score   support\n",
      "\n",
      "           0       1.00      1.00      1.00      3312\n",
      "           1       1.00      1.00      1.00      3314\n",
      "\n",
      "    accuracy                           1.00      6626\n",
      "   macro avg       1.00      1.00      1.00      6626\n",
      "weighted avg       1.00      1.00      1.00      6626\n",
      "\n",
      "confusion_matrix : \n",
      " [[3312    0]\n",
      " [   1 3313]]\n"
     ]
    }
   ],
   "source": [
    "## Training\n",
    "\n",
    "y_train_pred = dt_clf_after_prun.predict(x_train)\n",
    "\n",
    "acc_score = accuracy_score(y_train_pred, y_train)\n",
    "print(\"Accuracy_score : \\n\",acc_score)\n",
    "\n",
    "clf_report = classification_report(y_train_pred, y_train)\n",
    "print(\"classification_report : \\n\",clf_report)\n",
    "\n",
    "conf_matrix = confusion_matrix(y_train_pred, y_train)\n",
    "print(\"confusion_matrix : \\n\",conf_matrix)"
   ]
  },
  {
   "cell_type": "code",
   "execution_count": 82,
   "id": "c71b588f",
   "metadata": {
    "scrolled": true
   },
   "outputs": [
    {
     "name": "stdout",
     "output_type": "stream",
     "text": [
      "Accuracy_score : \n",
      " 0.9725352112676057\n",
      "classification_report : \n",
      "               precision    recall  f1-score   support\n",
      "\n",
      "           0       0.95      1.00      0.97      1342\n",
      "           1       1.00      0.95      0.97      1498\n",
      "\n",
      "    accuracy                           0.97      2840\n",
      "   macro avg       0.97      0.97      0.97      2840\n",
      "weighted avg       0.97      0.97      0.97      2840\n",
      "\n",
      "confusion_matrix : \n",
      " [[1342    0]\n",
      " [  78 1420]]\n"
     ]
    }
   ],
   "source": [
    "## testing\n",
    "\n",
    "y_test_pred = dt_clf_after_prun.predict(x_test)\n",
    "\n",
    "acc_score = accuracy_score(y_test_pred, y_test)\n",
    "print(\"Accuracy_score : \\n\",acc_score)\n",
    "\n",
    "clf_report = classification_report(y_test_pred, y_test)\n",
    "print(\"classification_report : \\n\",clf_report)\n",
    "\n",
    "conf_matrix = confusion_matrix(y_test_pred, y_test)\n",
    "print(\"confusion_matrix : \\n\",conf_matrix)                               ## "
   ]
  },
  {
   "cell_type": "code",
   "execution_count": null,
   "id": "39973414",
   "metadata": {},
   "outputs": [],
   "source": []
  }
 ],
 "metadata": {
  "kernelspec": {
   "display_name": "Python 3 (ipykernel)",
   "language": "python",
   "name": "python3"
  },
  "language_info": {
   "codemirror_mode": {
    "name": "ipython",
    "version": 3
   },
   "file_extension": ".py",
   "mimetype": "text/x-python",
   "name": "python",
   "nbconvert_exporter": "python",
   "pygments_lexer": "ipython3",
   "version": "3.10.5"
  }
 },
 "nbformat": 4,
 "nbformat_minor": 5
}
